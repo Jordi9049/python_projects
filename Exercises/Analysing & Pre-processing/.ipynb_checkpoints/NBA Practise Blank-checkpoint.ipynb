{
 "cells": [
  {
   "cell_type": "markdown",
   "metadata": {},
   "source": [
    "## CLEANING DATA – nba.csv\n",
    "\n",
    "**This task is designed to encourage you to:  \n",
    "•\tUse the knowledge you have acquired in your previous tasks and apply it here  \n",
    "•\tSearch the internet for solutions to anything you do not know how to do yet  \n",
    "    Tip: start all internet search criteria with the word Pandas**"
   ]
  },
  {
   "cell_type": "code",
   "execution_count": null,
   "metadata": {},
   "outputs": [],
   "source": [
    "#import the relevant libraries - you will need pandas and numpy\n",
    "import pandas as pd\n",
    "import numpy as np"
   ]
  },
  {
   "cell_type": "code",
   "execution_count": null,
   "metadata": {
    "scrolled": true
   },
   "outputs": [],
   "source": [
    "#read the csv file and assign it to a dataframe (download the file and ensure that it is in the same folder as this ipynb file)\n",
    "df = pd.read_csv('nba.csv')\n",
    "\n",
    "#describe the dataframe\n",
    "df"
   ]
  },
  {
   "cell_type": "code",
   "execution_count": null,
   "metadata": {},
   "outputs": [],
   "source": [
    "#Display the shape of the data - how many rows and columns  do you have?\n"
   ]
  },
  {
   "cell_type": "code",
   "execution_count": null,
   "metadata": {},
   "outputs": [],
   "source": [
    "#Display the head of the document - this will give you an idea of what the contents of the file looks like\n",
    "#The first five rows are displayed\n"
   ]
  },
  {
   "cell_type": "code",
   "execution_count": null,
   "metadata": {},
   "outputs": [],
   "source": [
    "#Display the last 5 lines of your file\n",
    "#What problem is immediateley obvious when looking at the last five lines of the file?\n"
   ]
  },
  {
   "cell_type": "code",
   "execution_count": null,
   "metadata": {},
   "outputs": [],
   "source": [
    "#Fix the problem by removing the row. Ensure that the dataframe has been changed\n",
    "\n",
    "\n",
    "#Display the dataframe\n"
   ]
  },
  {
   "cell_type": "code",
   "execution_count": null,
   "metadata": {},
   "outputs": [],
   "source": [
    "#Examine the different datatypes - we need to understand the data types as it effects what we can do with the data\n"
   ]
  },
  {
   "cell_type": "code",
   "execution_count": null,
   "metadata": {},
   "outputs": [],
   "source": [
    "#Count the number of values in each column\n",
    "df.count()"
   ]
  },
  {
   "cell_type": "code",
   "execution_count": null,
   "metadata": {},
   "outputs": [],
   "source": [
    "#Count the number of records in a specific column - NAme column\n",
    "#df.count()[0]\n",
    "\n",
    "#Or \n",
    "\n",
    "df.count()['Name']"
   ]
  },
  {
   "cell_type": "code",
   "execution_count": null,
   "metadata": {},
   "outputs": [],
   "source": [
    "#Count the number of individual values in one column\n",
    "df[\"Team\"].value_counts()"
   ]
  },
  {
   "cell_type": "code",
   "execution_count": null,
   "metadata": {},
   "outputs": [],
   "source": [
    "#Find the maximum Salary\n"
   ]
  },
  {
   "cell_type": "code",
   "execution_count": null,
   "metadata": {},
   "outputs": [],
   "source": [
    "#Find the minimum Weight\n"
   ]
  },
  {
   "cell_type": "code",
   "execution_count": null,
   "metadata": {},
   "outputs": [],
   "source": [
    "#Find maximum Height\n"
   ]
  },
  {
   "cell_type": "code",
   "execution_count": null,
   "metadata": {},
   "outputs": [],
   "source": [
    "#The maximum Height code above actually works even though it is Object data\n",
    "#Run this code below to see where a potential problem could arise\n",
    "\n",
    "x = df[\"Height\"].max()\n",
    "y = df[\"Height\"].min()\n",
    "z= x-y\n",
    "z"
   ]
  },
  {
   "cell_type": "code",
   "execution_count": null,
   "metadata": {},
   "outputs": [],
   "source": [
    "#Describe the Object data in the dataframe\n",
    "    #What conclusions can be made from this?\n",
    "    #Which column has the highest number of unique values?\n",
    "    #Which column has too many missing values? - We couldn't reasonably caluclate these.\n",
    "\n"
   ]
  },
  {
   "cell_type": "code",
   "execution_count": null,
   "metadata": {},
   "outputs": [],
   "source": [
    "#Delete the column with highest number of unique values & the column with the highest number of missing values & update the dataframe\n",
    "\n",
    "\n",
    "#Display the dataframe\n"
   ]
  },
  {
   "cell_type": "code",
   "execution_count": null,
   "metadata": {},
   "outputs": [],
   "source": [
    "#Describe the numerical data\n"
   ]
  },
  {
   "cell_type": "markdown",
   "metadata": {},
   "source": [
    "When we described the data above, the values that were returned for the Salary field don’t look quite right – however they are. It’s just that there is not enough space to display all of the digits.  \n",
    "* If you look at the results of the Count field in the Salary column above, the number is displayed as 4.460000e+02.  \n",
    "* To understand the number move the decimal point by 2 place to the right (that's what e+02 means), giving 446  \n",
    "    The other colums have 457 records\n",
    "\n",
    "With code, count the number of null values in the dataframe. It will be 11.  \n",
    "* The number of records at this point is 457. So we can conclude that the count value is actually correct."
   ]
  },
  {
   "cell_type": "code",
   "execution_count": null,
   "metadata": {},
   "outputs": [],
   "source": [
    "#Sum the null values in columns \n"
   ]
  },
  {
   "cell_type": "markdown",
   "metadata": {},
   "source": [
    "To address the null values, you have 2 choices at this point\n",
    "* Calculate the mean in the Salary field and replace all occurrences of NaN with the mean salary  \n",
    "Or\n",
    "* Delete the rows with null values"
   ]
  },
  {
   "cell_type": "code",
   "execution_count": null,
   "metadata": {},
   "outputs": [],
   "source": [
    "#Display the dataframe - row 2 (3rd record) has a null value in the Salary column\n"
   ]
  },
  {
   "cell_type": "code",
   "execution_count": null,
   "metadata": {},
   "outputs": [],
   "source": [
    "#Calculate the mean Salary using numpy - it will be 4842684.1053811675 and store it in a variable called x\n",
    "\n",
    "\n",
    "#Assign x to fields with null values in the Salary column\n",
    "\n",
    "\n",
    "#Display the dataframe and look at the the Salary column in row 2 (3rd record) \n"
   ]
  },
  {
   "cell_type": "code",
   "execution_count": null,
   "metadata": {},
   "outputs": [],
   "source": [
    "#OR.... drop all occurences of rows with null values \n",
    "#using df.dropna() will drop null values in the whole dataset\n",
    "#If necessary, do a google search to figure out how to drop all occurences of rows with null values in a specific column\n",
    "\n",
    "\n",
    "\n",
    "#Re-run the ipynb file from the top (ignoring the cell above)\n",
    "#Display the dataframe - row index 2 (the 3rd record is missing)\n"
   ]
  },
  {
   "cell_type": "code",
   "execution_count": null,
   "metadata": {},
   "outputs": [],
   "source": [
    "#Use count to show the number of values in all columns - it will help check that there are no null values\n"
   ]
  },
  {
   "cell_type": "code",
   "execution_count": null,
   "metadata": {},
   "outputs": [],
   "source": [
    "#count & display null values in the Salary columns using isna() - there should be NO null values\n"
   ]
  },
  {
   "cell_type": "code",
   "execution_count": null,
   "metadata": {},
   "outputs": [],
   "source": [
    "#describe the dataframe\n"
   ]
  },
  {
   "cell_type": "code",
   "execution_count": null,
   "metadata": {},
   "outputs": [],
   "source": [
    "#Display the dataframe. In the Team column Boston Celtics appears in the first few records\n"
   ]
  },
  {
   "cell_type": "code",
   "execution_count": null,
   "metadata": {},
   "outputs": [],
   "source": [
    "#In the Team column change Boston Celtics to BC  \n",
    "\n",
    "\n",
    "#Display the dataframe\n"
   ]
  },
  {
   "cell_type": "code",
   "execution_count": null,
   "metadata": {},
   "outputs": [],
   "source": [
    "#Filter the dataset to show all records for Team BC\n"
   ]
  },
  {
   "cell_type": "code",
   "execution_count": null,
   "metadata": {},
   "outputs": [],
   "source": [
    "#Filter the dataset to show all records that don't contain Team BC\n",
    "#This code will return all values in the Name column that DO NOT contain BC. \n",
    "\n"
   ]
  },
  {
   "cell_type": "code",
   "execution_count": null,
   "metadata": {},
   "outputs": [],
   "source": [
    "#Count the number of individual values in the Position column - (you did somethimg similar earlier)\n",
    "#You will see that there are 5 different positions\n",
    "\n"
   ]
  },
  {
   "cell_type": "code",
   "execution_count": null,
   "metadata": {},
   "outputs": [],
   "source": [
    "#Convert the Position column to numeric values - we will use Get Dummies\n",
    "  # when we use  the get_dummies function the data will be placed in 5 columns\n",
    "#Use get_dummies on the Position column and assign the output to a temporary variable called dummies\n",
    "\n",
    "\n",
    "#Display the contents of dummies\n"
   ]
  },
  {
   "cell_type": "code",
   "execution_count": null,
   "metadata": {},
   "outputs": [],
   "source": [
    "#Add the temporary dummies columns to end of the existing dataframe df - concatenate - and update the dataframe\n",
    "\n",
    "\n",
    "#Display the dataframe\n"
   ]
  },
  {
   "cell_type": "code",
   "execution_count": null,
   "metadata": {},
   "outputs": [],
   "source": [
    "#At this point you might want to delete the Position column and update the dataframe. \n",
    "  #However when doing the visualisations later it might be handier to have it. \n",
    "  #We can always delete it before building the model\n",
    " \n",
    "#df = df.drop(['Position'], axis=1)\n",
    "\n",
    "#Display the dataframe\n",
    "#df"
   ]
  },
  {
   "cell_type": "code",
   "execution_count": null,
   "metadata": {},
   "outputs": [],
   "source": [
    "#Sort the dataframe by Age in ascending order and Weight in descending order and update the dataframe\n",
    "\n",
    "\n",
    "#Display the dataframe\n"
   ]
  },
  {
   "cell_type": "code",
   "execution_count": null,
   "metadata": {},
   "outputs": [],
   "source": [
    "#Select rows where the age is greater than or equal to 20 and less than or equal to 29. Update the dataframe.\n",
    "\n",
    "\n",
    "#Describe the dataframe\n"
   ]
  },
  {
   "cell_type": "code",
   "execution_count": null,
   "metadata": {},
   "outputs": [],
   "source": [
    "#Filter the dataset to show players who earned more than 2 million, who were less than 25 and weighted more than 250\n",
    "#Assign results to new_df\n",
    "\n",
    "\n",
    "#Display new_df\n"
   ]
  },
  {
   "cell_type": "markdown",
   "metadata": {},
   "source": [
    "## Height is a Object type field - Get Height in Inches so that we can analyse it \n",
    "\n",
    "This section looks at stripping out the numeric values from the Height field (which is an object type)  \n",
    "A calculation will be performed to work out total height in inches  \n",
    "The results will be saved in a new numerical column and the original column will be deleted  "
   ]
  },
  {
   "cell_type": "code",
   "execution_count": null,
   "metadata": {},
   "outputs": [],
   "source": [
    "#Describe the object data in the df dataframe\n",
    "#The only categorical/object type columns that we have is Height and Team\n"
   ]
  },
  {
   "cell_type": "code",
   "execution_count": null,
   "metadata": {},
   "outputs": [],
   "source": [
    "#Display the datatypes\n"
   ]
  },
  {
   "cell_type": "code",
   "execution_count": null,
   "metadata": {},
   "outputs": [],
   "source": [
    "#View the first 5 lines to have a look at the Height column\n"
   ]
  },
  {
   "cell_type": "code",
   "execution_count": null,
   "metadata": {},
   "outputs": [],
   "source": [
    "#To start we will split values from the Height columns and save the results in a new data frame called splitValues\n",
    "#The values should be split on the hyphen\"-\"\n",
    "    #splitValues[0] will contain the feet part of the strings\n",
    "    #splitValues[1] will contain the inches part of the strings\n",
    "\n",
    "#Split the height column and assign the results to a dataframe called splitValues\n",
    "splitValues = df[\"Height\"].str.split(\"-\", n = 1, expand = True) \n",
    "\n",
    "#Display the dataframe called splitValues\n",
    "splitValues"
   ]
  },
  {
   "cell_type": "code",
   "execution_count": null,
   "metadata": {},
   "outputs": [],
   "source": [
    "#These values will be strings so convert them to numeric values\n",
    "\n",
    "\n",
    "#calculate the total height in inches - (ft *12) + inches - and put the results in a new column called HeightInInches in the splitValues dataframe\n",
    "\n",
    "\n",
    "#Display the dataframe called splitValues\n",
    "\n"
   ]
  },
  {
   "cell_type": "code",
   "execution_count": null,
   "metadata": {},
   "outputs": [],
   "source": [
    "#Concatenate the HeightInInches column from the splitValues dataframe with the df dataframe and save in df\n",
    "\n",
    "\n",
    "#Display the first 5 rows of df\n"
   ]
  },
  {
   "cell_type": "code",
   "execution_count": null,
   "metadata": {},
   "outputs": [],
   "source": [
    "#In the dataframe df - drop original Height column \n",
    "\n",
    "\n",
    "#Display the first 5 lines of df\n"
   ]
  },
  {
   "cell_type": "code",
   "execution_count": null,
   "metadata": {},
   "outputs": [],
   "source": [
    "#Rearrange the dataframe so that HeightInInches appears after Salary and update the dataframe\n",
    "\n",
    "\n",
    "#Display the first 5 lines of df. Where is the HeightInInches column now? \n"
   ]
  },
  {
   "cell_type": "code",
   "execution_count": null,
   "metadata": {},
   "outputs": [],
   "source": [
    "#Look at the Index references for each line in the output results\n",
    "#Re-order the index values \n",
    "#Remember to use inplace=True \n",
    "\n",
    "\n",
    "#Display the dataframe\n"
   ]
  },
  {
   "cell_type": "code",
   "execution_count": null,
   "metadata": {},
   "outputs": [],
   "source": [
    "#Filter the datset (df) to show the records for players taller than 85 inchches \n"
   ]
  },
  {
   "cell_type": "code",
   "execution_count": null,
   "metadata": {},
   "outputs": [],
   "source": [
    "#Save the dataframe as a new dataset.\n",
    "#Index = false is used to ensure that the row index values are not included in the dataset\n"
   ]
  },
  {
   "cell_type": "code",
   "execution_count": null,
   "metadata": {},
   "outputs": [],
   "source": []
  }
 ],
 "metadata": {
  "kernelspec": {
   "display_name": "Python 3 (ipykernel)",
   "language": "python",
   "name": "python3"
  },
  "language_info": {
   "codemirror_mode": {
    "name": "ipython",
    "version": 3
   },
   "file_extension": ".py",
   "mimetype": "text/x-python",
   "name": "python",
   "nbconvert_exporter": "python",
   "pygments_lexer": "ipython3",
   "version": "3.9.7"
  }
 },
 "nbformat": 4,
 "nbformat_minor": 4
}
