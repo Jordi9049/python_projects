{
 "cells": [
  {
   "cell_type": "markdown",
   "metadata": {},
   "source": [
    "## SOCIAL NETWORK ADS\n",
    "\n",
    "Social network advertising, also social media targeting, is a group of terms that are used to describe forms of online advertising that focus on social networking services. One of the major benefits of this type of advertising is that advertisers can take advantage of the users’ demographic information and target their ads appropriately. Advantages are:\n",
    "* advertisers can reach users who are interested in their products  \n",
    "* allows for detailed analysis and reporting  \n",
    "* information gathered is real\n",
    "* not from statistical projections\n",
    "* does not access IP-addresses of the users"
   ]
  },
  {
   "cell_type": "markdown",
   "metadata": {},
   "source": [
    "### What we expect from out dataset\n",
    "\n",
    "* The age of people is the dataset ranges from 18 to 60\n",
    "* The max salary of people in the dataset does not exceed 150000"
   ]
  },
  {
   "cell_type": "code",
   "execution_count": null,
   "metadata": {},
   "outputs": [],
   "source": [
    "#####Import Pandas - any other libraries that you need are usually placed at the top\n",
    "import pandas as pd\n",
    "import numpy as np\n",
    "\n",
    "##Read in the Docial Network Ads CSV file and assign it to a variable called df\n",
    "df = pd.read_csv('Modified_Social_Network_Ads.csv')\n",
    "\n",
    "##print out the contents of the dataframe\n",
    "df"
   ]
  },
  {
   "cell_type": "code",
   "execution_count": null,
   "metadata": {},
   "outputs": [],
   "source": [
    "#print the column headings\n"
   ]
  },
  {
   "cell_type": "code",
   "execution_count": null,
   "metadata": {},
   "outputs": [],
   "source": [
    "#examine the datatypes\n"
   ]
  },
  {
   "cell_type": "code",
   "execution_count": null,
   "metadata": {},
   "outputs": [],
   "source": [
    "#display the first 7 rows of your dataframe\n"
   ]
  },
  {
   "cell_type": "code",
   "execution_count": null,
   "metadata": {},
   "outputs": [],
   "source": [
    "#display the last 3 rows of your dataframe\n"
   ]
  },
  {
   "cell_type": "code",
   "execution_count": null,
   "metadata": {},
   "outputs": [],
   "source": [
    "#Get the shape of the dataframe - this will tell you how many rows and columns you have in the dataframe\n"
   ]
  },
  {
   "cell_type": "code",
   "execution_count": null,
   "metadata": {},
   "outputs": [],
   "source": [
    "#describe the numeric values of the dataframe\n"
   ]
  },
  {
   "cell_type": "code",
   "execution_count": null,
   "metadata": {},
   "outputs": [],
   "source": [
    "#describe the object values of the dataframe\n"
   ]
  },
  {
   "cell_type": "code",
   "execution_count": null,
   "metadata": {},
   "outputs": [],
   "source": [
    "#When you look at the results of the 2 different describe() methods above you will see that only the object data contains\n",
    "  #a summary of unique values.\n",
    "##What if you want to know the number of unique values in any column\n",
    "  #This code will count the number of unique values in a column\n",
    "df['Age'].nunique()"
   ]
  },
  {
   "cell_type": "code",
   "execution_count": null,
   "metadata": {},
   "outputs": [],
   "source": [
    "#This code will display the individual unique values in a column\n",
    "df['Age'].unique()"
   ]
  },
  {
   "cell_type": "code",
   "execution_count": null,
   "metadata": {},
   "outputs": [],
   "source": [
    "#check for null values\n"
   ]
  },
  {
   "cell_type": "code",
   "execution_count": null,
   "metadata": {},
   "outputs": [],
   "source": [
    "#Check the maximum value in the age column\n"
   ]
  },
  {
   "cell_type": "code",
   "execution_count": null,
   "metadata": {},
   "outputs": [],
   "source": [
    "#Check the minimum value in the age column\n"
   ]
  },
  {
   "cell_type": "code",
   "execution_count": null,
   "metadata": {},
   "outputs": [],
   "source": [
    "#Check the maximum value in the EstimatedSalary column\n"
   ]
  },
  {
   "cell_type": "code",
   "execution_count": null,
   "metadata": {},
   "outputs": [],
   "source": [
    "#Display the contents of the EstimatedSalarycolumn\n",
    "df['EstimatedSalary']\n",
    "\n",
    "#Or\n",
    "#df.EstimatedSalary\n",
    "  #Note: the code above only works if there is no space in the column name - otherwise you must use the first example"
   ]
  },
  {
   "cell_type": "code",
   "execution_count": null,
   "metadata": {},
   "outputs": [],
   "source": [
    "#Display the contents of the EstimatedSalary and User ID columns\n",
    "df[['EstimatedSalary', 'User ID']]"
   ]
  },
  {
   "cell_type": "code",
   "execution_count": null,
   "metadata": {},
   "outputs": [],
   "source": [
    "#Display the contents of the EstimatedSalary, User ID and Purchased columns\n",
    "df[['EstimatedSalary', 'User ID', 'Purchased']]"
   ]
  },
  {
   "cell_type": "code",
   "execution_count": null,
   "metadata": {},
   "outputs": [],
   "source": [
    "#Repeat the step above and save the results to a new dataframe called temp_df.\n",
    "temp_df = df[['EstimatedSalary', 'User ID', 'Purchased']]\n",
    "\n",
    "#Display the results of temp_df\n",
    "temp_df"
   ]
  },
  {
   "cell_type": "code",
   "execution_count": null,
   "metadata": {},
   "outputs": [],
   "source": [
    "#Display the contents of rows 50 - 55 inclusive in your dataframe named df\n",
    "df.iloc[50:56]"
   ]
  },
  {
   "cell_type": "markdown",
   "metadata": {},
   "source": [
    "### Handling Null Values"
   ]
  },
  {
   "cell_type": "markdown",
   "metadata": {},
   "source": [
    "Based on our results above we can see that Gender, Age and EstimatedSalary all have null values - we must address these issues."
   ]
  },
  {
   "cell_type": "code",
   "execution_count": null,
   "metadata": {},
   "outputs": [],
   "source": [
    "#In your dataframe named df - drop all rows with null values in the Age column\n",
    "    #This would mean that the other null values in the other columns would not be deleted\n"
   ]
  },
  {
   "cell_type": "code",
   "execution_count": null,
   "metadata": {},
   "outputs": [],
   "source": [
    "#Using any technique you wish - check the number of records in the dataframe\n"
   ]
  },
  {
   "cell_type": "code",
   "execution_count": null,
   "metadata": {},
   "outputs": [],
   "source": [
    "#Using the mode Gender - replace the null values in the Gender column of the dataframe - Female\n",
    "#Calculate the mode value\n",
    "\n",
    "\n",
    "#Print the mode value\n",
    "\n",
    "\n",
    "#Use the mode value to fill null values\n"
   ]
  },
  {
   "cell_type": "code",
   "execution_count": null,
   "metadata": {},
   "outputs": [],
   "source": [
    "#Using the mean EstimatedSalary - replace the null values in the EstimatedSalary column\n",
    "#Calculate the mean value\n",
    "\n",
    "\n",
    "#Round the mean value to 1 decimal place\n",
    "\n",
    "\n",
    "#Print the mean value\n",
    "\n",
    "\n",
    "#Use the mean value to fill null values\n"
   ]
  },
  {
   "cell_type": "code",
   "execution_count": null,
   "metadata": {},
   "outputs": [],
   "source": [
    "#check for null values again\n"
   ]
  },
  {
   "cell_type": "markdown",
   "metadata": {},
   "source": [
    "### Handling Wrong Data"
   ]
  },
  {
   "cell_type": "code",
   "execution_count": null,
   "metadata": {},
   "outputs": [],
   "source": [
    "#Display the rows where the age is less than 18 or rows where the age is greater than 60\n",
    "for x in df.index:\n",
    "  if (df.loc[x, \"Age\"] < 18) or (df.loc[x, \"Age\"] > 60):\n",
    "    #print the row and value - just so we can see where they are\n",
    "    print(x ,df.loc[x, \"Age\"])"
   ]
  },
  {
   "cell_type": "code",
   "execution_count": null,
   "metadata": {},
   "outputs": [],
   "source": [
    "#Delete rows where the age is less than 18\n"
   ]
  },
  {
   "cell_type": "code",
   "execution_count": null,
   "metadata": {},
   "outputs": [],
   "source": [
    "#In rows where the age is greater than 60 set the age to 60\n"
   ]
  },
  {
   "cell_type": "code",
   "execution_count": null,
   "metadata": {},
   "outputs": [],
   "source": [
    "#Using any technique you wish - check the number of records in the dataframe\n"
   ]
  },
  {
   "cell_type": "code",
   "execution_count": null,
   "metadata": {},
   "outputs": [],
   "source": [
    "#Count the number of unique values in the Age column now\n"
   ]
  },
  {
   "cell_type": "markdown",
   "metadata": {},
   "source": [
    "### Remove Duplicates"
   ]
  },
  {
   "cell_type": "code",
   "execution_count": null,
   "metadata": {},
   "outputs": [],
   "source": [
    "#display duplicates - returns True for every row that is a duplicate, othwerwise False\n",
    "  #Note:when the dataset is very large this is meaningless. \n"
   ]
  },
  {
   "cell_type": "code",
   "execution_count": null,
   "metadata": {},
   "outputs": [],
   "source": [
    "#print all rows with duplicates\n",
    "df[df.duplicated()]"
   ]
  },
  {
   "cell_type": "code",
   "execution_count": null,
   "metadata": {},
   "outputs": [],
   "source": [
    "#print all rows without duplicates - the tilda ~ means does not contain\n",
    "df[~df.duplicated()]"
   ]
  },
  {
   "cell_type": "code",
   "execution_count": null,
   "metadata": {},
   "outputs": [],
   "source": [
    "#print all rows with duplicates in User ID column\n",
    "df[df['User ID'].duplicated()]"
   ]
  },
  {
   "cell_type": "code",
   "execution_count": null,
   "metadata": {},
   "outputs": [],
   "source": [
    "#print all rows with no duplicates in User ID column\n",
    "df[~df['User ID'].duplicated()]"
   ]
  },
  {
   "cell_type": "code",
   "execution_count": null,
   "metadata": {},
   "outputs": [],
   "source": [
    "#rather than print the duplicate rows you might want to count the number of duplicate rows in the dataframe \n",
    "  #do a google search to find the code\n"
   ]
  },
  {
   "cell_type": "code",
   "execution_count": null,
   "metadata": {},
   "outputs": [],
   "source": [
    "#run the delete duplicate command\n"
   ]
  },
  {
   "cell_type": "code",
   "execution_count": null,
   "metadata": {},
   "outputs": [],
   "source": [
    "#count the number of duplicates in the dataframe again - there should not be any duplicates\n"
   ]
  },
  {
   "cell_type": "code",
   "execution_count": null,
   "metadata": {},
   "outputs": [],
   "source": [
    "#display shape of dataframe again - there should be less rows than before\n"
   ]
  },
  {
   "cell_type": "markdown",
   "metadata": {},
   "source": [
    "### Replace values in a cell"
   ]
  },
  {
   "cell_type": "code",
   "execution_count": null,
   "metadata": {},
   "outputs": [],
   "source": [
    "#If you wanted to make your data file smaller you could replace longer text with abbreviations\n",
    " ##for example, in the Gender column you could replace Female with F and Male with M\n",
    "\n",
    "#Change all instances of Female to F in the dataframe\n",
    "df.loc[df['Gender'] == 'Female', 'Gender'] = \"F\"\n",
    "\n",
    "#Change all instances of Male to M in the dataframe\n",
    "df.loc[df['Gender'] == 'Male', 'Gender'] = \"M\"\n",
    "\n",
    "#Display the dataframe\n",
    "df"
   ]
  },
  {
   "cell_type": "code",
   "execution_count": null,
   "metadata": {},
   "outputs": [],
   "source": [
    "#What would happen if we changed our text values to numeric values - would our column now be numeric?\n",
    "\n",
    "#Change all instances of F in the dataframe to the numerical value 0 \n",
    "df.loc[df['Gender'] == 'F', 'Gender'] = 0\n",
    "\n",
    "#Change all instances of M in the dataframe to the numerical value 1\n",
    "df.loc[df['Gender'] == 'M', 'Gender'] = 1\n",
    "\n",
    "#Display the dataframe\n",
    "df"
   ]
  },
  {
   "cell_type": "code",
   "execution_count": null,
   "metadata": {},
   "outputs": [],
   "source": [
    "#Check the data types again\n",
    "  #You will notice that gender still has an Object type - we will handle this in a later tutorial\n",
    "df.dtypes"
   ]
  },
  {
   "cell_type": "markdown",
   "metadata": {},
   "source": [
    "### Grouping and Counting"
   ]
  },
  {
   "cell_type": "code",
   "execution_count": null,
   "metadata": {},
   "outputs": [],
   "source": [
    "#Count the number of people in each Age group and save the results to new_df\n",
    "new_df = df.groupby(['Age']).count()\n",
    "\n",
    "#display the dataframe new_df\n",
    "new_df"
   ]
  },
  {
   "cell_type": "markdown",
   "metadata": {},
   "source": [
    "### Sorting"
   ]
  },
  {
   "cell_type": "code",
   "execution_count": null,
   "metadata": {
    "scrolled": true
   },
   "outputs": [],
   "source": [
    "#Sort by EstimatedSalary in ascending order - these changes will not be saved\n",
    "df.sort_values('EstimatedSalary', ascending=True)"
   ]
  },
  {
   "cell_type": "code",
   "execution_count": null,
   "metadata": {},
   "outputs": [],
   "source": [
    "#Sort by EstimatedSalary in descending order - do not save the changes\n"
   ]
  },
  {
   "cell_type": "code",
   "execution_count": null,
   "metadata": {},
   "outputs": [],
   "source": [
    "#Sort by Gender in ascending order and Age in ascending order - these changes will not be saved\n",
    "df.sort_values(['Gender','Age'], ascending=[True, True])"
   ]
  },
  {
   "cell_type": "code",
   "execution_count": null,
   "metadata": {},
   "outputs": [],
   "source": [
    "#Or Use:\n",
    "df.sort_values(['Gender','Age'], ascending=[1, 1])"
   ]
  },
  {
   "cell_type": "code",
   "execution_count": null,
   "metadata": {},
   "outputs": [],
   "source": [
    "#Sort by Age in descending order and Gender in ascending order - do not save the changes\n"
   ]
  },
  {
   "cell_type": "code",
   "execution_count": null,
   "metadata": {},
   "outputs": [],
   "source": [
    "#Sort by Gender in ascending order, Age in descending order and EstimatedSalary in descending order and save the changes to df\n",
    "df = df.sort_values(['Gender','Age', 'EstimatedSalary'], ascending=[1, 0, 0])\n",
    "\n",
    "#display the dataframe\n",
    "df"
   ]
  },
  {
   "cell_type": "markdown",
   "metadata": {},
   "source": [
    "### Filter Records"
   ]
  },
  {
   "cell_type": "code",
   "execution_count": null,
   "metadata": {},
   "outputs": [],
   "source": [
    "#Filter all records showing people earning more than 50000 - this will not be saved\n",
    "df.loc[(df['EstimatedSalary'] > 50000)]"
   ]
  },
  {
   "cell_type": "code",
   "execution_count": null,
   "metadata": {},
   "outputs": [],
   "source": [
    "#Filter all records showing People 25 or older - do not save this\n"
   ]
  },
  {
   "cell_type": "code",
   "execution_count": null,
   "metadata": {},
   "outputs": [],
   "source": [
    "#Filter all records showing People between the ages of 25 and 35 - this will not be saved\n",
    "df.loc[(df['Age'] >= 25) & (df['Age'] <= 35)]"
   ]
  },
  {
   "cell_type": "code",
   "execution_count": null,
   "metadata": {},
   "outputs": [],
   "source": [
    "#Filter all records showing People between the ages of 25 and 35, earning more than 50000 - this will not be saved\n",
    "df.loc[((df['Age'] >= 25) & (df['Age'] <= 35)) & (df['EstimatedSalary'] > 50000)]\n"
   ]
  },
  {
   "cell_type": "code",
   "execution_count": null,
   "metadata": {},
   "outputs": [],
   "source": [
    "#Filter all records where people between the ages of 25 and 35, earning more than 50000, made a purchase\n",
    "#Save the changes in the current DataFrame df\n",
    "  #Tip for future reference - it would be important to know what datatypes these fields are\n",
    "\n",
    "\n",
    "\n",
    "#Display the dataframe\n",
    "df"
   ]
  },
  {
   "cell_type": "markdown",
   "metadata": {},
   "source": [
    "### Rearrange the Order of Columns"
   ]
  },
  {
   "cell_type": "code",
   "execution_count": null,
   "metadata": {},
   "outputs": [],
   "source": [
    "##Rearrange the order of your columns in the dataframe so that Age is first, then Gender, UserID, EstimatedSalary and Purchased\n",
    "\n",
    "#Do a google search and figure out how to do this - search 'Pandas reorder columns'\n",
    "\n",
    "\n",
    "#Display the dataframe\n",
    "df"
   ]
  },
  {
   "cell_type": "markdown",
   "metadata": {},
   "source": [
    "### Delete a column"
   ]
  },
  {
   "cell_type": "code",
   "execution_count": null,
   "metadata": {},
   "outputs": [],
   "source": [
    "#Delete the User ID column and save the changes to the dataframe \n",
    "df = df.drop(columns=['User ID'])\n",
    "\n",
    "#Display the dataframe\n",
    "df"
   ]
  },
  {
   "cell_type": "code",
   "execution_count": null,
   "metadata": {},
   "outputs": [],
   "source": [
    "#Delete the Purchased column and save the changes to the dataframe \n",
    "\n",
    "\n",
    "#Display the dataframe\n",
    "df"
   ]
  },
  {
   "cell_type": "markdown",
   "metadata": {},
   "source": [
    "### Reset the Index Reference"
   ]
  },
  {
   "cell_type": "code",
   "execution_count": null,
   "metadata": {},
   "outputs": [],
   "source": [
    "#Reset the Index Reference and ensure the changes are saved\n",
    "df.reset_index(drop=True, inplace=True)\n",
    "\n",
    "#Display the dataframe\n",
    "df"
   ]
  },
  {
   "cell_type": "markdown",
   "metadata": {},
   "source": [
    "### Save the Modified File"
   ]
  },
  {
   "cell_type": "code",
   "execution_count": null,
   "metadata": {},
   "outputs": [],
   "source": [
    "##Save a new version of the datafile to a new file called SocialModified.csv\n",
    "df.to_csv('SocialModified.csv', index=False)"
   ]
  },
  {
   "cell_type": "code",
   "execution_count": null,
   "metadata": {},
   "outputs": [],
   "source": []
  },
  {
   "cell_type": "code",
   "execution_count": null,
   "metadata": {},
   "outputs": [],
   "source": [
    "\n",
    "\n"
   ]
  }
 ],
 "metadata": {
  "kernelspec": {
   "display_name": "Python 3 (ipykernel)",
   "language": "python",
   "name": "python3"
  },
  "language_info": {
   "codemirror_mode": {
    "name": "ipython",
    "version": 3
   },
   "file_extension": ".py",
   "mimetype": "text/x-python",
   "name": "python",
   "nbconvert_exporter": "python",
   "pygments_lexer": "ipython3",
   "version": "3.9.7"
  }
 },
 "nbformat": 4,
 "nbformat_minor": 4
}
