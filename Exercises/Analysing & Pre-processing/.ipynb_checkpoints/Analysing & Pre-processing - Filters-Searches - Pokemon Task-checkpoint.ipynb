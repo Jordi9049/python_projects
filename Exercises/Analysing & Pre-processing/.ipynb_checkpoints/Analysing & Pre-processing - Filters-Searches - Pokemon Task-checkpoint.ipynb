{
 "cells": [
  {
   "cell_type": "markdown",
   "metadata": {},
   "source": [
    "## Pokemon Dataset - Filters & Searches - Task"
   ]
  },
  {
   "cell_type": "markdown",
   "metadata": {},
   "source": [
    "Work through the following program   \n",
    "Try to understand what is happening in each cell and make extra comments for yourself if necessary"
   ]
  },
  {
   "cell_type": "code",
   "execution_count": null,
   "metadata": {
    "tags": []
   },
   "outputs": [],
   "source": [
    "#Import Pandas - any other libraries that you need are usually placed at the top\n",
    "import pandas as pd\n",
    "import numpy as np\n",
    "\n",
    "#Read in a CSV file and assign it to a variable called df - pokemon_data.csv\n",
    "#df is commonly used as Pandas uses dataframes - but any variable name can be used\n",
    "df = pd.read_csv('pokemon_data.csv')\n",
    "\n",
    "#print out the contents of the dataframe\n",
    "df"
   ]
  },
  {
   "cell_type": "code",
   "execution_count": null,
   "metadata": {
    "tags": []
   },
   "outputs": [],
   "source": [
    "#display the first 3 lines of the DataFrame\n",
    "df.head(3)"
   ]
  },
  {
   "cell_type": "code",
   "execution_count": null,
   "metadata": {
    "tags": []
   },
   "outputs": [],
   "source": [
    "#display the last 5 lines of the DataFrame\n",
    "df.tail(5)"
   ]
  },
  {
   "cell_type": "code",
   "execution_count": null,
   "metadata": {
    "tags": []
   },
   "outputs": [],
   "source": [
    "#display the Dataframe headers (column headings)\n",
    "df.columns"
   ]
  },
  {
   "cell_type": "code",
   "execution_count": null,
   "metadata": {
    "tags": []
   },
   "outputs": [],
   "source": [
    "#examine the datatypes\n",
    "df.dtypes"
   ]
  },
  {
   "cell_type": "code",
   "execution_count": null,
   "metadata": {
    "tags": []
   },
   "outputs": [],
   "source": [
    "#check for null values in the DataFrame\n",
    "df.isnull().sum()"
   ]
  },
  {
   "cell_type": "code",
   "execution_count": null,
   "metadata": {
    "tags": []
   },
   "outputs": [],
   "source": [
    "#print the number of unique values in the Type 1 column\n",
    "print(df['Type 1'].nunique())\n",
    "\n",
    "#list the unique values\n",
    "df['Type 1'].unique()"
   ]
  },
  {
   "cell_type": "code",
   "execution_count": null,
   "metadata": {
    "tags": []
   },
   "outputs": [],
   "source": [
    "#print the number of unique values in the Type 2 column  \n",
    "print(df['Type 2'].nunique())\n",
    "\n",
    "#list the unique values\n",
    "df['Type 2'].unique()"
   ]
  },
  {
   "cell_type": "markdown",
   "metadata": {},
   "source": [
    "## Displaying the Content of Columns and Rows"
   ]
  },
  {
   "cell_type": "code",
   "execution_count": null,
   "metadata": {
    "tags": []
   },
   "outputs": [],
   "source": [
    "#Display the contents of the HP column in the DataFrame - one way of doing this has been used. Provide another.\n",
    "df['HP']\n",
    "\n",
    "#Or\n",
    "#df.loc[:, 'HP']"
   ]
  },
  {
   "cell_type": "code",
   "execution_count": null,
   "metadata": {
    "tags": []
   },
   "outputs": [],
   "source": [
    "#Display the content of 3 columns - Name, Type 1, HP\n",
    "df[['Name', 'Type 1', 'HP']]"
   ]
  },
  {
   "cell_type": "code",
   "execution_count": null,
   "metadata": {
    "tags": []
   },
   "outputs": [],
   "source": [
    "#Display the content of specific rows - iloc means Index Location - this code displays rows 0 to 3 \n",
    "df.iloc[0:4]"
   ]
  },
  {
   "cell_type": "code",
   "execution_count": null,
   "metadata": {
    "tags": []
   },
   "outputs": [],
   "source": [
    "#Read a specific cell location (Row,Column) - observe how the code here is different from that in the cell above\n",
    "df.iloc[2,1]"
   ]
  },
  {
   "cell_type": "code",
   "execution_count": null,
   "metadata": {
    "tags": []
   },
   "outputs": [],
   "source": [
    "#What will this code display?\n",
    "df.iloc[0,4]"
   ]
  },
  {
   "cell_type": "code",
   "execution_count": null,
   "metadata": {
    "tags": []
   },
   "outputs": [],
   "source": [
    "#Based on previous examples in other tasks (see Social Network), \n",
    "  #for each row, print the Index, and the value in the Name column \n",
    "for index, row in df.iterrows():\n",
    "    print(index, row['Name'])"
   ]
  },
  {
   "cell_type": "code",
   "execution_count": null,
   "metadata": {
    "tags": []
   },
   "outputs": [],
   "source": [
    "#This code will also print the Index and the value in the Name column\n",
    "\n",
    "#Iterate through the rows, printing out the contents of a specified column\n",
    "print(df[['Name']])"
   ]
  },
  {
   "cell_type": "markdown",
   "metadata": {},
   "source": [
    "## Sorting Data"
   ]
  },
  {
   "cell_type": "code",
   "execution_count": null,
   "metadata": {
    "tags": []
   },
   "outputs": [],
   "source": [
    "#Sort the Name column in ascending order - do not save the changes\n",
    "df.sort_values('Name', ascending=True)"
   ]
  },
  {
   "cell_type": "code",
   "execution_count": null,
   "metadata": {
    "tags": []
   },
   "outputs": [],
   "source": [
    "#Sort the Type 1 column and HP column in ascending and descending order respectively - do not save the changes\n",
    "df.sort_values(['Type 1', 'HP'], ascending=[True, False])"
   ]
  },
  {
   "cell_type": "markdown",
   "metadata": {},
   "source": [
    "## Adding a New Total Column & Performing a Simple Addition Calculation"
   ]
  },
  {
   "cell_type": "code",
   "execution_count": null,
   "metadata": {
    "tags": []
   },
   "outputs": [],
   "source": [
    "#Here you are creating a Total column, adding the values from several specified columns & storing the result in Total\n",
    "#This line of code will directly modify the dataframe and does not need to be saved\n",
    "df['Total'] = df['HP'] + df['Attack'] + df['Defense'] + df['Sp. Atk'] + df['Sp. Def'] + df['Speed']\n",
    "\n",
    "df.head(5)"
   ]
  },
  {
   "cell_type": "code",
   "execution_count": null,
   "metadata": {
    "tags": []
   },
   "outputs": [],
   "source": [
    "#This is just a sum to check that the Total is correct - it is easy to make mistakes with formula so it's important to check\n",
    "#that you get the answer that you expect\n",
    "\n",
    "45+49+49+65+65+45 "
   ]
  },
  {
   "cell_type": "code",
   "execution_count": null,
   "metadata": {
    "tags": []
   },
   "outputs": [],
   "source": [
    "#Delete the Total the column you just created and save the change\n",
    "df = df.drop(columns=['Total'])\n",
    "\n",
    "#Display the first 5 records in the DataFrame\n",
    "df.head()"
   ]
  },
  {
   "cell_type": "code",
   "execution_count": null,
   "metadata": {
    "tags": []
   },
   "outputs": [],
   "source": [
    "#This is a different way of doing the calculation above \n",
    "df['Total'] = df.iloc[:, 4:10].sum(axis=1)\n",
    "\n",
    "#Display the top of the DataFrame\n",
    "df.head(5)"
   ]
  },
  {
   "cell_type": "code",
   "execution_count": null,
   "metadata": {
    "tags": []
   },
   "outputs": [],
   "source": [
    "#Based on an example from a previous task\n",
    "  #Rearrange the columns so that the Total column appears immediately after the Type 2 column\n",
    "\n",
    "# Get all columns as a list\n",
    "columns = list(df.columns)\n",
    "\n",
    "# Remove 'Total' if it's already in the list to avoid duplication\n",
    "if 'Total' in columns:\n",
    "    columns.remove('Total')\n",
    "\n",
    "# Find the index of 'Type 2' and add 1 to get the position after it\n",
    "index = columns.index('Type 2') + 1\n",
    "\n",
    "# Insert 'Total' back into the list at the right position\n",
    "columns.insert(index, 'Total')\n",
    "\n",
    "# Reorder df using the new columns order\n",
    "df = df[columns]\n",
    "\n",
    "# Display the DataFrame\n",
    "df.head()\n"
   ]
  },
  {
   "cell_type": "code",
   "execution_count": null,
   "metadata": {
    "tags": []
   },
   "outputs": [],
   "source": [
    "#The problem with the technique above is that when you have a lot of columns you have a lot of typing to do. \n",
    "    ##Some datasets can easily contain 30 or more columns\n",
    "\n",
    "#Comment out the code in the cell above and run the program from the top\n",
    "\n",
    "#The lines of code below rearrange the order of your columns \n",
    "cols = list(df.columns)\n",
    "df = df[cols[0:4] + [cols[-1]]+cols[4:12]]\n",
    "\n",
    "#cols[0:4]: Selects the first four columns.\n",
    "#[cols[-1]]: Adds the last column into the new order.\n",
    "#cols[4:12]: Adds columns 4 to 11 from the original DataFrame to the new order.\n",
    "\n",
    "#Display the top of the re-ordered DataFrame\n",
    "df.head(5)"
   ]
  },
  {
   "cell_type": "code",
   "execution_count": null,
   "metadata": {
    "tags": []
   },
   "outputs": [],
   "source": [
    "df.head()"
   ]
  },
  {
   "cell_type": "code",
   "execution_count": null,
   "metadata": {
    "tags": []
   },
   "outputs": [],
   "source": [
    "#Using the list and index method demonstrated above and order the columns as follows:\n",
    "    \n",
    "#Comment out the code in the cell above and run the program from the top\n",
    "\n",
    "#The lines of code below rearrange the order of your columns \n",
    "cols = list(df.columns)\n",
    "\n",
    "# Reorder columns based on the specified indices\n",
    "dfBad = df[cols[:5] + [cols[10]] + [cols[11]] + cols[8:10] + cols[6:8] + [cols[5]] + [cols[12]]]\n",
    "\n",
    "#cols[:5] selects '#', 'Name', 'Type 1', 'Type 2', and 'Total'.\n",
    "#[cols[10]] selects 'Speed'.\n",
    "#[cols[11]] selects 'Generation'.\n",
    "#cols[8:10] selects 'Sp. Atk' and 'Sp. Def'.\n",
    "#cols[6:8] selects 'Attack' and 'Defense'.\n",
    "#[cols[5]] selects 'HP'.\n",
    "#[cols[12]] selects 'Legendary'\n",
    "\n",
    "#Use code to put your columns in the required order \n",
    "\n",
    "\n",
    "#Display the top of the re-ordered DataFrame\n",
    "dfBad.head()\n"
   ]
  },
  {
   "cell_type": "markdown",
   "metadata": {},
   "source": [
    "## Filtering Data"
   ]
  },
  {
   "cell_type": "markdown",
   "metadata": {},
   "source": [
    "**Using str.contains for string values**"
   ]
  },
  {
   "cell_type": "code",
   "execution_count": null,
   "metadata": {},
   "outputs": [],
   "source": [
    "#Display all rows where the Type 1 column contains the word Grass\n",
    "df.loc[df['Type 1'].str.contains('Grass')]"
   ]
  },
  {
   "cell_type": "code",
   "execution_count": null,
   "metadata": {},
   "outputs": [],
   "source": [
    "#Search for a specific piece of text in a column - \n",
    "\n",
    "#This code will search for the text Mega is the Name column\n",
    "df.loc[df['Name'].str.contains('Mega')]"
   ]
  },
  {
   "cell_type": "code",
   "execution_count": null,
   "metadata": {},
   "outputs": [],
   "source": [
    "#This code will display all values in the Name column that DO NOT contain the word Mega the ~ symbol is used rather than ! symbol\n",
    "df.loc[~df['Name'].str.contains('Mega')]"
   ]
  },
  {
   "cell_type": "code",
   "execution_count": null,
   "metadata": {},
   "outputs": [],
   "source": [
    "#To search for different pieces of text you will have to import Regular Expressions - needed for 'or' and 'and' symbols \n",
    " #Note: ordinarily - all new libraries should be kept at the top of the notebook\n",
    "import re"
   ]
  },
  {
   "cell_type": "code",
   "execution_count": null,
   "metadata": {},
   "outputs": [],
   "source": [
    "#Check if the Type 1 column contains Fire or Grass\n",
    "df.loc[df['Type 1'].str.contains('Fire|Grass', regex=True)]"
   ]
  },
  {
   "cell_type": "code",
   "execution_count": null,
   "metadata": {},
   "outputs": [],
   "source": [
    "#This code will NOT work as Python is case sensitive\n",
    "df.loc[df['Type 1'].str.contains('fire|grass', regex=True)]"
   ]
  },
  {
   "cell_type": "code",
   "execution_count": null,
   "metadata": {},
   "outputs": [],
   "source": [
    "#Python is case sensitive, so here is a useful flag that means - ignore case\n",
    "df.loc[df['Type 1'].str.contains('fire|grass', flags=re.I, regex=True)]"
   ]
  },
  {
   "cell_type": "code",
   "execution_count": null,
   "metadata": {},
   "outputs": [],
   "source": [
    "#using str.contains - Write a statement to:\n",
    "  #check if the Type 1 column contains fire or grass OR the Type 2 column contains poison or ground\n",
    "df.loc[(df['Type 1'].str.contains('fire|grass', flags=re.I, regex=True)) | (df['Type 2'].str.contains('poision|ground', flags=re.I, regex=True))]"
   ]
  },
  {
   "cell_type": "code",
   "execution_count": null,
   "metadata": {},
   "outputs": [],
   "source": [
    "#using str.contains - Write a statement to:\n",
    "  #check if the Type 1 column contains fire or grass AND the Type 2 column contains poison or ground\n",
    "df.loc[(df['Type 1'].str.contains('fire|grass', flags=re.I, regex=True)) & (df['Type 2'].str.contains('poision|ground', flags=re.I, regex=True))]\n"
   ]
  },
  {
   "cell_type": "markdown",
   "metadata": {},
   "source": [
    "**Using Comparison Operators for text or numeric values**"
   ]
  },
  {
   "cell_type": "code",
   "execution_count": null,
   "metadata": {},
   "outputs": [],
   "source": [
    "#This code will filter all rows where the Type 1 column contains the word Grass\n",
    "df.loc[df['Type 1'] == \"Grass\"]"
   ]
  },
  {
   "cell_type": "code",
   "execution_count": null,
   "metadata": {},
   "outputs": [],
   "source": [
    "#Filtering Data using Several Criteria\n",
    "#We are not saving the results here but you can overwrite your exisiting dataframe or save to a new df\n",
    "#It would just depend on your requirements\n",
    "\n",
    "#This code will filter all records where Grass is in the Type 1 column AND Poison is in the Type 2 column \n",
    "  #AND the values in HP are greater than 70\n",
    "\n",
    "df.loc[(df['Type 1'] == 'Grass') & (df['Type 2'] == 'Poison') & (df['HP'] > 70)]"
   ]
  },
  {
   "cell_type": "code",
   "execution_count": null,
   "metadata": {},
   "outputs": [],
   "source": [
    "#using comaprison operators  - Write a statement to:\n",
    "  #check if the Type 1 column contains Fire or Grass AND the Type 2 column contains poison or ground AND HP > 70\n",
    "df.loc[(df['Type 1'].str.contains('fire|grass', flags=re.I, regex=True)) & (df['Type 2'].str.contains('poision|ground', flags=re.I, regex=True)) & (df['HP'] > 70)]"
   ]
  },
  {
   "cell_type": "markdown",
   "metadata": {},
   "source": [
    "\n",
    "## Conditional Changes"
   ]
  },
  {
   "cell_type": "code",
   "execution_count": null,
   "metadata": {},
   "outputs": [],
   "source": [
    "#If Fire appears in the Type 1 column - replace it with the text Flamer\n",
    "df.loc[df['Type 1'] == 'Fire', 'Type 1'] = 'Flamer'\n",
    "\n",
    "#Display the DataFrame\n",
    "df"
   ]
  },
  {
   "cell_type": "code",
   "execution_count": null,
   "metadata": {},
   "outputs": [],
   "source": [
    "#If the Total is greater than 500, then modify the contents of 2 other columns\n",
    "df.loc[df['Total'] > 500, ['Generation','Legendary']] = [9, 'True']\n",
    "\n",
    "#Display the DataFrame\n",
    "df"
   ]
  },
  {
   "cell_type": "code",
   "execution_count": null,
   "metadata": {},
   "outputs": [],
   "source": [
    "#If Poison appears in the Type 2 column - replace it with the text Poisonous\n",
    "df.loc[df['Type 1'] == 'Poison', 'Type 1'] = 'Poisonous'\n",
    "\n",
    "#Display the DataFrame\n",
    "df\n"
   ]
  },
  {
   "cell_type": "code",
   "execution_count": null,
   "metadata": {},
   "outputs": [],
   "source": [
    "#If Psychic appears in the Type 1 column - replace HP with 90 and Defense with 70\n",
    "df.loc[df['Type 1'] == 'Psychic', ['HP', 'Defense']] = [90, 70]\n",
    "\n",
    "#Display the DataFrame\n",
    "df.loc[df['Type 1'] == 'Psychic']"
   ]
  },
  {
   "cell_type": "markdown",
   "metadata": {},
   "source": [
    "## Aggregate Statistics (Groupby)\n"
   ]
  },
  {
   "cell_type": "code",
   "execution_count": null,
   "metadata": {},
   "outputs": [],
   "source": [
    "#This code will group together similar values in a specified column\n",
    "#It will find the mean for each column\n",
    "#df.describe()\n",
    "#df.groupby(['Type 1']).mean()\n",
    "df_grouped = df.groupby(['Type 1']).mean(numeric_only=True).round(0).astype(int)\n",
    "df_grouped\n"
   ]
  },
  {
   "cell_type": "code",
   "execution_count": null,
   "metadata": {},
   "outputs": [],
   "source": [
    "#This code will sort your results in descending order by a specified criteria\n",
    "df.groupby(['Type 1']).mean().sort_values('Defense', ascending=False)\n",
    "\n",
    "#In the code here - mean can be replaced by sum or count - experiement if you wish"
   ]
  },
  {
   "cell_type": "code",
   "execution_count": null,
   "metadata": {},
   "outputs": [],
   "source": [
    "#Create a new column called 'count' with a value of 1 in each cell\n",
    "df['count'] = 1\n",
    "df"
   ]
  },
  {
   "cell_type": "code",
   "execution_count": null,
   "metadata": {},
   "outputs": [],
   "source": [
    "# Adjust pandas display options\n",
    "pd.set_option('display.max_rows', 20)  # This line will allow displaying all rows\n",
    "\n",
    "# Count the occurrences and rename a column for\n",
    "df.groupby(['Type 1', 'Type 2']).count()['count']"
   ]
  },
  {
   "cell_type": "markdown",
   "metadata": {},
   "source": [
    "## Handle Null Values and Object Data"
   ]
  },
  {
   "cell_type": "markdown",
   "metadata": {},
   "source": [
    "**Take appropriate steps to handle the null values**"
   ]
  },
  {
   "cell_type": "code",
   "execution_count": null,
   "metadata": {},
   "outputs": [],
   "source": [
    "#Check for null values again\n",
    "df.isnull().sum()"
   ]
  },
  {
   "cell_type": "code",
   "execution_count": null,
   "metadata": {},
   "outputs": [],
   "source": [
    "#Deal with Null values in the Type 2 columns - there are so many. What should we do?\n",
    "#We can remove the second type field however it is critical to pokemon as secondary typings are important to the game.\n",
    "df['Type 2'].fillna('None', inplace=True)"
   ]
  },
  {
   "cell_type": "code",
   "execution_count": null,
   "metadata": {
    "tags": []
   },
   "outputs": [],
   "source": [
    "df"
   ]
  },
  {
   "cell_type": "markdown",
   "metadata": {},
   "source": [
    "**How should we handle the Name column? What things do we need to consider?**"
   ]
  },
  {
   "cell_type": "code",
   "execution_count": null,
   "metadata": {},
   "outputs": [],
   "source": [
    "#Name column - describe the DataFrame to View the Name column\n",
    "#df.describe(include=\"O\")\n",
    "\n",
    "#Take appropriate action\n",
    "# Check the descriptive statistics of the 'Name' column\n",
    "name_description = df['Name'].describe(include=\"O\")\n",
    "print(name_description)\n",
    "\n",
    "# Check for missing values in the 'Name' column\n",
    "missing_names = df['Name'].isnull().sum()\n",
    "print(\"Number of missing values in 'Name' column:\", missing_names)\n",
    "\n",
    "# Check the length of names\n",
    "name_lengths = df['Name'].str.len()\n",
    "print(\"Maximum length of name:\", name_lengths.max())\n",
    "print(\"Minimum length of name:\", name_lengths.min())\n",
    "\n",
    "# Check for duplicates\n",
    "duplicate_names = df.duplicated(subset=['Name']).sum()\n",
    "print(\"Number of duplicate names:\", duplicate_names)\n",
    "\n"
   ]
  },
  {
   "cell_type": "markdown",
   "metadata": {},
   "source": [
    "**Take appropriate steps to make the Type 1 column Numeric**"
   ]
  },
  {
   "cell_type": "code",
   "execution_count": null,
   "metadata": {},
   "outputs": [],
   "source": [
    "#Check the datatypes again\n",
    "df.dtypes"
   ]
  },
  {
   "cell_type": "code",
   "execution_count": null,
   "metadata": {},
   "outputs": [],
   "source": [
    "#Make Type 1 column numeric - use get dummies\n",
    "# Make 'Type 1' column numeric using one-hot encoding\n",
    "df = pd.get_dummies(df, columns=['Type 1'], prefix='Type1')\n",
    "\n",
    "# Check the datatypes after one-hot encoding\n",
    "print(df.dtypes)\n"
   ]
  },
  {
   "cell_type": "code",
   "execution_count": null,
   "metadata": {
    "tags": []
   },
   "outputs": [],
   "source": [
    "df.dtypes"
   ]
  },
  {
   "cell_type": "code",
   "execution_count": null,
   "metadata": {},
   "outputs": [],
   "source": [
    "#Delete the Type 1 column\n",
    "# Delete the original 'Type 1' column if needed\n",
    "del df['Type 1']"
   ]
  },
  {
   "cell_type": "code",
   "execution_count": null,
   "metadata": {},
   "outputs": [],
   "source": [
    "#Check the datatypes in the DataFrame\n",
    "# Display the column names in the DataFrame\n",
    "df"
   ]
  },
  {
   "cell_type": "markdown",
   "metadata": {},
   "source": [
    "**Take appropriate steps to change the Bool columns to Numeric**"
   ]
  },
  {
   "cell_type": "code",
   "execution_count": null,
   "metadata": {},
   "outputs": [],
   "source": [
    "#Use Mapping to change the values in the Legendary column\n",
    "df.Legendary = df.Legendary.map({True: 1, False: 0})"
   ]
  },
  {
   "cell_type": "code",
   "execution_count": null,
   "metadata": {},
   "outputs": [],
   "source": [
    "#Check that all columns are now numeric\n",
    "pd.set_option('display.max_rows', 40)\n",
    "df.dtypes"
   ]
  },
  {
   "cell_type": "code",
   "execution_count": null,
   "metadata": {
    "tags": []
   },
   "outputs": [],
   "source": [
    "# Get the boolean columns\n",
    "bool_columns = df.select_dtypes(include=bool).columns\n",
    "\n",
    "# Convert boolean columns to numeric (0 for False, 1 for True)\n",
    "df[bool_columns] = df[bool_columns].astype(int)\n",
    "\n",
    "# Check that all columns are now numeric\n",
    "print(df.dtypes)\n"
   ]
  },
  {
   "cell_type": "code",
   "execution_count": null,
   "metadata": {
    "tags": []
   },
   "outputs": [],
   "source": [
    "df"
   ]
  },
  {
   "cell_type": "code",
   "execution_count": null,
   "metadata": {
    "tags": []
   },
   "outputs": [],
   "source": [
    "# Initialize LabelEncoder\n",
    "from sklearn.preprocessing import LabelEncoder\n",
    "\n",
    "label_encoder = LabelEncoder()\n",
    "\n",
    "# Encode 'Name' and 'Type 2' columns\n",
    "df['Name'] = label_encoder.fit_transform(df['Name'])\n",
    "df['Type 2'] = label_encoder.fit_transform(df['Type 2'])"
   ]
  },
  {
   "cell_type": "code",
   "execution_count": null,
   "metadata": {
    "tags": []
   },
   "outputs": [],
   "source": [
    "df"
   ]
  },
  {
   "cell_type": "code",
   "execution_count": null,
   "metadata": {
    "tags": []
   },
   "outputs": [],
   "source": [
    "df.dtypes"
   ]
  },
  {
   "cell_type": "code",
   "execution_count": null,
   "metadata": {},
   "outputs": [],
   "source": []
  }
 ],
 "metadata": {
  "kernelspec": {
   "display_name": "Python 3 (ipykernel)",
   "language": "python",
   "name": "python3"
  },
  "language_info": {
   "codemirror_mode": {
    "name": "ipython",
    "version": 3
   },
   "file_extension": ".py",
   "mimetype": "text/x-python",
   "name": "python",
   "nbconvert_exporter": "python",
   "pygments_lexer": "ipython3",
   "version": "3.11.5"
  }
 },
 "nbformat": 4,
 "nbformat_minor": 4
}
