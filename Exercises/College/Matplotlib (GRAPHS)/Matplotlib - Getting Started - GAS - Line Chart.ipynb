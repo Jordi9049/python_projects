{
 "cells": [
  {
   "cell_type": "markdown",
   "metadata": {},
   "source": [
    "# Real World Examples - Line Charts\n",
    "Keith Galli task - Line Graphs based on video https://www.youtube.com/watch?v=0P7QnIQDBJY&feature=youtu.be  \n"
   ]
  },
  {
   "cell_type": "markdown",
   "metadata": {},
   "source": [
    "UP UNTIL THIS POINT, IN ALL OF THE EXERCISES THAT YOU HAVE COMPLETED, ALL OF THE DATAFRAMES HAVE BEEN REFERRED TO AS ***df***. IN THIS SCENARIO THE DATAFRAME HAS A NEW NAME ***gas***."
   ]
  },
  {
   "cell_type": "markdown",
   "metadata": {},
   "source": [
    "#### Load the Libraries"
   ]
  },
  {
   "cell_type": "code",
   "execution_count": null,
   "metadata": {},
   "outputs": [],
   "source": [
    "#Load Necessary Libraries\n",
    "import numpy as np\n",
    "import pandas as pd\n",
    "\n",
    "#This is a library for creating graphs - \n",
    "    #sometimes additional libraries are also needed\n",
    "    #& matplotlib is not the only option for creating graphs\n",
    "import matplotlib.pyplot as plt\n"
   ]
  },
  {
   "cell_type": "markdown",
   "metadata": {},
   "source": [
    "## Cleaning the Data\n",
    "\n",
    "Before creating any of the charts below, you should check the datasets for null values."
   ]
  },
  {
   "cell_type": "markdown",
   "metadata": {},
   "source": [
    "#### Cleaning the Gas Prices Dataset"
   ]
  },
  {
   "cell_type": "code",
   "execution_count": null,
   "metadata": {},
   "outputs": [],
   "source": [
    "#Read in the Gas_prices file\n",
    "gas = pd.read_csv('gas_prices.csv')\n",
    "\n",
    "#Examine the dataframe - it provides prices for 10 countries over an 18 year period\n",
    "gas"
   ]
  },
  {
   "cell_type": "code",
   "execution_count": null,
   "metadata": {},
   "outputs": [],
   "source": [
    "#get the shape of the dataframe. It is quite small\n",
    "gas.shape"
   ]
  },
  {
   "cell_type": "code",
   "execution_count": null,
   "metadata": {},
   "outputs": [],
   "source": [
    "#count the number of null values in the dataframe\n",
    "gas.isna().sum()"
   ]
  },
  {
   "cell_type": "code",
   "execution_count": null,
   "metadata": {},
   "outputs": [],
   "source": [
    "#get the precise location of the null value - in the Australia column\n",
    "gas[gas['Australia'].isnull()]"
   ]
  },
  {
   "cell_type": "code",
   "execution_count": null,
   "metadata": {},
   "outputs": [],
   "source": [
    "#As this is the first row in our dataframe - this simplest thing might be to delete the row\n",
    "gas = gas.dropna(how='any', subset=['Australia'])\n",
    "gas['Australia'].isna().sum()"
   ]
  },
  {
   "cell_type": "code",
   "execution_count": null,
   "metadata": {},
   "outputs": [],
   "source": [
    "#Get the shape of the DataFrame again\n",
    "gas.shape"
   ]
  },
  {
   "cell_type": "markdown",
   "metadata": {},
   "source": [
    "## Creating Charts  \n"
   ]
  },
  {
   "cell_type": "markdown",
   "metadata": {},
   "source": [
    "### Line Graph showing Prices"
   ]
  },
  {
   "cell_type": "markdown",
   "metadata": {},
   "source": [
    "#### Display the Dataset"
   ]
  },
  {
   "cell_type": "code",
   "execution_count": null,
   "metadata": {},
   "outputs": [],
   "source": [
    "#Examine the dataframe \n",
    "gas"
   ]
  },
  {
   "cell_type": "markdown",
   "metadata": {},
   "source": [
    "#### Very Basic Line Graph"
   ]
  },
  {
   "cell_type": "code",
   "execution_count": null,
   "metadata": {},
   "outputs": [],
   "source": [
    "#This code will extract the year and the price for the USA from the dataframe\n",
    "plt.plot(gas.Year, gas.USA)\n",
    "#This code will extract the year and the price for Canada from the dataframe\n",
    "plt.plot(gas.Year, gas.Canada)\n",
    "#This code will extract the year and the price for Australia from the dataframe\n",
    "plt.plot(gas.Year, gas.Australia)\n",
    "\n",
    "#If your column names have more than one word you will have to use the following format:\n",
    "plt.plot(gas['Year'], gas['South Korea'])\n",
    "\n",
    "#This code with show the chart \n",
    "plt.show()"
   ]
  },
  {
   "cell_type": "markdown",
   "metadata": {},
   "source": [
    "#### More Detailed Line Graph\n",
    "  \n",
    "The graph above provides a very poor visual representation of the data. It has no title, and there are no labels on the axis. There is no legend to tell us which line is which. The x axis values are hard to read. We will address these issues below:\n"
   ]
  },
  {
   "cell_type": "code",
   "execution_count": null,
   "metadata": {},
   "outputs": [],
   "source": [
    "#You can control the size of your chart\n",
    "plt.figure(figsize=(8,5))\n",
    "\n",
    "#You can add a title with formatting using a font dictionary\n",
    "plt.title('Gas Prices over Time (in USD)', fontdict={'fontweight':'bold', 'fontsize': 18})\n",
    "\n",
    "#This code uses short hand notation to format the style and colour of the lines in the chart\n",
    "#We can change the labels on our individual lines if we want to make them more meaningful than the default column names\n",
    "plt.plot(gas.Year, gas.USA, 'b.-', label='United States')\n",
    "plt.plot(gas.Year, gas.Canada, 'r.-', label='Canada')\n",
    "plt.plot(gas.Year, gas['South Korea'], 'g.-', label='South Korea')\n",
    "plt.plot(gas.Year, gas.Australia, 'y.-',label='Australia' )\n",
    "\n",
    "#This code controls how the values on the x are displayed - the ticks indicate 3 year intervals\n",
    "plt.xticks(gas.Year[::3].tolist())\n",
    "\n",
    "#Although our records stop at 2008 - we might want more space at the edge of our chart - so we can add another tick interval\n",
    "#plt.xticks(gas.Year[::3].tolist()+[2009])\n",
    "\n",
    "#Add labels to the x and y axis\n",
    "plt.xlabel('Year')\n",
    "plt.ylabel('US Dollars')\n",
    "\n",
    "#Add a legend to the chart - this may not work if you have not added labels to the lines (Like we did above)\n",
    "plt.legend()\n",
    "\n",
    "#Save the chart as a separate image\n",
    "#plt.savefig('Gas_price_figure.png', dpi=300)\n",
    "\n",
    "#display the chart within the notebook\n",
    "plt.show()"
   ]
  },
  {
   "cell_type": "markdown",
   "metadata": {},
   "source": [
    "####  An Alternative Way to Display Many Values in a Line Chart\n",
    "Look at the FOR loop section"
   ]
  },
  {
   "cell_type": "code",
   "execution_count": null,
   "metadata": {},
   "outputs": [],
   "source": [
    "#This code - produces the same chart as the code above.\n",
    "#You may find the code above easier to understand.\n",
    "\n",
    "#You can control the size of your chart\n",
    "plt.figure(figsize=(8,5))\n",
    "\n",
    "#You can add a title with formatting by using a font dictionary\n",
    "plt.title('Gas Prices over Time (in USD)', fontdict={'fontweight':'bold', 'fontsize': 18})\n",
    "\n",
    "# Another Way to plot many values!\n",
    "countries_to_look_at = ['Australia', 'USA', 'Canada', 'South Korea']\n",
    "counter =0\n",
    "for country in gas:                       #For each item in the dataframe\n",
    "    if country in countries_to_look_at:   #If the item is in the dataframe appears in the list of countries_to_look_at\n",
    "        counter+=1\n",
    "        plt.plot(gas.Year, gas[country], marker='.', label=country)   #Plot the line - Set the label equal to country\n",
    "\n",
    "        \n",
    "#This code controls how the values on the x are displayed - the ticks indicate 3 year intervals\n",
    "#Although our records stop at 2008 - we might want more space at the edge of our chart - so we can add another tick interval\n",
    "plt.xticks(gas.Year[::3].tolist()+[2009])\n",
    "\n",
    "#Add labels to the x and y axis\n",
    "plt.xlabel('Year')\n",
    "plt.ylabel('US Dollars')\n",
    "\n",
    "#Add a legend to the chart - this may not work if you have not added labels to the lines (Like we did above)\n",
    "plt.legend()\n",
    "\n",
    "#Save the chart as a separate image\n",
    "#plt.savefig('Gas_price_figure.png', dpi=300)\n",
    "\n",
    "#display the chart within the notebook\n",
    "plt.show()"
   ]
  },
  {
   "attachments": {},
   "cell_type": "markdown",
   "metadata": {},
   "source": [
    "**Change the reference from gas to df**\n",
    "\n",
    "Use Find and Replace. If you choose **Edit** from the main menu and **Find** from the dropdown list, you can expand the **Find dialog box** to make it Find and Replace.\n",
    "\n",
    "In the Find box type **gas**, in the Replace box type **df**, then click on the **Match Case** icon, then click the **Replace All** button at the bottom of the window.\n",
    "\n",
    "Check the name of your datafile (where you are reading in the dataset at the top of the Notebook)... the name has probably been changed too. Change it back to correct file name. Run through the notebook to check it still works.\n",
    "\n",
    "The title on your charts may also need to be changed back (but hopefully not as we have the Match Case icon selected).\n"
   ]
  },
  {
   "cell_type": "markdown",
   "metadata": {},
   "source": [
    "## TASK"
   ]
  },
  {
   "cell_type": "markdown",
   "metadata": {},
   "source": [
    "### Create a Detailed Line Graph  to Show the Gas Prices for Germany, Italy,  Mexico, UK and Japan\n",
    "   \n",
    "* Make the size of the chart 16 * 8 \n",
    "* Provide a meaningful title at font size 16\n",
    "* Use 2 year intervals\n",
    "* Use a Circle marker - google 'matplotlib markers' or check out this link: https://matplotlib.org/stable/api/markers_api.html\n",
    "* Rotate the labels in the x axis 45 degrees - google 'matplotlib rotate x axis labels' or check out this link: https://www.geeksforgeeks.org/how-to-rotate-x-axis-tick-label-text-in-matplotlib/\n"
   ]
  },
  {
   "cell_type": "code",
   "execution_count": null,
   "metadata": {},
   "outputs": [],
   "source": [
    "##Detailed Line Chart\n"
   ]
  },
  {
   "cell_type": "code",
   "execution_count": null,
   "metadata": {},
   "outputs": [],
   "source": []
  }
 ],
 "metadata": {
  "kernelspec": {
   "display_name": "Python 3 (ipykernel)",
   "language": "python",
   "name": "python3"
  },
  "language_info": {
   "codemirror_mode": {
    "name": "ipython",
    "version": 3
   },
   "file_extension": ".py",
   "mimetype": "text/x-python",
   "name": "python",
   "nbconvert_exporter": "python",
   "pygments_lexer": "ipython3",
   "version": "3.11.7"
  }
 },
 "nbformat": 4,
 "nbformat_minor": 4
}
