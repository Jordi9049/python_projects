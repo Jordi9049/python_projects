{
 "cells": [
  {
   "cell_type": "markdown",
   "metadata": {},
   "source": [
    "# Real World Examples - Histograms, Pie Charts, Box & Whisker Charts\n",
    "Keith Galli task - based on video https://www.youtube.com/watch?v=0P7QnIQDBJY&feature=youtu.be  \n",
    "Histograms, Pie Charts, Box & Whisker Chart"
   ]
  },
  {
   "cell_type": "markdown",
   "metadata": {},
   "source": [
    "#### Load the Libraries"
   ]
  },
  {
   "cell_type": "code",
   "execution_count": 47,
   "metadata": {},
   "outputs": [],
   "source": [
    "#Load the Necessary Libraries\n",
    "import numpy as np\n",
    "import pandas as pd\n",
    "\n",
    "#This is a library for creating graphs - \n",
    "    #sometimes additional libraries are also needed\n",
    "    #& matplotlib is not the only option for creating graphs\n",
    "import matplotlib.pyplot as plt\n",
    "\n",
    "pd.set_option('display.max_columns', None)"
   ]
  },
  {
   "cell_type": "markdown",
   "metadata": {},
   "source": [
    "## Cleaning the Data\n",
    "\n",
    "Before creating any of the charts below, you should check the datasets for null values."
   ]
  },
  {
   "cell_type": "markdown",
   "metadata": {},
   "source": [
    "#### Cleaning the Fifa Dataset"
   ]
  },
  {
   "cell_type": "code",
   "execution_count": 2,
   "metadata": {},
   "outputs": [
    {
     "data": {
      "text/html": [
       "<div>\n",
       "<style scoped>\n",
       "    .dataframe tbody tr th:only-of-type {\n",
       "        vertical-align: middle;\n",
       "    }\n",
       "\n",
       "    .dataframe tbody tr th {\n",
       "        vertical-align: top;\n",
       "    }\n",
       "\n",
       "    .dataframe thead th {\n",
       "        text-align: right;\n",
       "    }\n",
       "</style>\n",
       "<table border=\"1\" class=\"dataframe\">\n",
       "  <thead>\n",
       "    <tr style=\"text-align: right;\">\n",
       "      <th></th>\n",
       "      <th>Unnamed: 0</th>\n",
       "      <th>ID</th>\n",
       "      <th>Name</th>\n",
       "      <th>Age</th>\n",
       "      <th>Photo</th>\n",
       "      <th>Nationality</th>\n",
       "      <th>Flag</th>\n",
       "      <th>Overall</th>\n",
       "      <th>Potential</th>\n",
       "      <th>Club</th>\n",
       "      <th>...</th>\n",
       "      <th>Composure</th>\n",
       "      <th>Marking</th>\n",
       "      <th>StandingTackle</th>\n",
       "      <th>SlidingTackle</th>\n",
       "      <th>GKDiving</th>\n",
       "      <th>GKHandling</th>\n",
       "      <th>GKKicking</th>\n",
       "      <th>GKPositioning</th>\n",
       "      <th>GKReflexes</th>\n",
       "      <th>Release Clause</th>\n",
       "    </tr>\n",
       "  </thead>\n",
       "  <tbody>\n",
       "    <tr>\n",
       "      <th>0</th>\n",
       "      <td>0</td>\n",
       "      <td>158023</td>\n",
       "      <td>L. Messi</td>\n",
       "      <td>31</td>\n",
       "      <td>https://cdn.sofifa.org/players/4/19/158023.png</td>\n",
       "      <td>Argentina</td>\n",
       "      <td>https://cdn.sofifa.org/flags/52.png</td>\n",
       "      <td>94</td>\n",
       "      <td>94</td>\n",
       "      <td>FC Barcelona</td>\n",
       "      <td>...</td>\n",
       "      <td>96.0</td>\n",
       "      <td>33.0</td>\n",
       "      <td>28.0</td>\n",
       "      <td>26.0</td>\n",
       "      <td>6.0</td>\n",
       "      <td>11.0</td>\n",
       "      <td>15.0</td>\n",
       "      <td>14.0</td>\n",
       "      <td>8.0</td>\n",
       "      <td>€226.5M</td>\n",
       "    </tr>\n",
       "    <tr>\n",
       "      <th>1</th>\n",
       "      <td>1</td>\n",
       "      <td>20801</td>\n",
       "      <td>Cristiano Ronaldo</td>\n",
       "      <td>33</td>\n",
       "      <td>https://cdn.sofifa.org/players/4/19/20801.png</td>\n",
       "      <td>Portugal</td>\n",
       "      <td>https://cdn.sofifa.org/flags/38.png</td>\n",
       "      <td>94</td>\n",
       "      <td>94</td>\n",
       "      <td>Juventus</td>\n",
       "      <td>...</td>\n",
       "      <td>95.0</td>\n",
       "      <td>28.0</td>\n",
       "      <td>31.0</td>\n",
       "      <td>23.0</td>\n",
       "      <td>7.0</td>\n",
       "      <td>11.0</td>\n",
       "      <td>15.0</td>\n",
       "      <td>14.0</td>\n",
       "      <td>11.0</td>\n",
       "      <td>€127.1M</td>\n",
       "    </tr>\n",
       "    <tr>\n",
       "      <th>2</th>\n",
       "      <td>2</td>\n",
       "      <td>190871</td>\n",
       "      <td>Neymar Jr</td>\n",
       "      <td>26</td>\n",
       "      <td>https://cdn.sofifa.org/players/4/19/190871.png</td>\n",
       "      <td>Brazil</td>\n",
       "      <td>https://cdn.sofifa.org/flags/54.png</td>\n",
       "      <td>92</td>\n",
       "      <td>93</td>\n",
       "      <td>Paris Saint-Germain</td>\n",
       "      <td>...</td>\n",
       "      <td>94.0</td>\n",
       "      <td>27.0</td>\n",
       "      <td>24.0</td>\n",
       "      <td>33.0</td>\n",
       "      <td>9.0</td>\n",
       "      <td>9.0</td>\n",
       "      <td>15.0</td>\n",
       "      <td>15.0</td>\n",
       "      <td>11.0</td>\n",
       "      <td>€228.1M</td>\n",
       "    </tr>\n",
       "    <tr>\n",
       "      <th>3</th>\n",
       "      <td>3</td>\n",
       "      <td>193080</td>\n",
       "      <td>De Gea</td>\n",
       "      <td>27</td>\n",
       "      <td>https://cdn.sofifa.org/players/4/19/193080.png</td>\n",
       "      <td>Spain</td>\n",
       "      <td>https://cdn.sofifa.org/flags/45.png</td>\n",
       "      <td>91</td>\n",
       "      <td>93</td>\n",
       "      <td>Manchester United</td>\n",
       "      <td>...</td>\n",
       "      <td>68.0</td>\n",
       "      <td>15.0</td>\n",
       "      <td>21.0</td>\n",
       "      <td>13.0</td>\n",
       "      <td>90.0</td>\n",
       "      <td>85.0</td>\n",
       "      <td>87.0</td>\n",
       "      <td>88.0</td>\n",
       "      <td>94.0</td>\n",
       "      <td>€138.6M</td>\n",
       "    </tr>\n",
       "    <tr>\n",
       "      <th>4</th>\n",
       "      <td>4</td>\n",
       "      <td>192985</td>\n",
       "      <td>K. De Bruyne</td>\n",
       "      <td>27</td>\n",
       "      <td>https://cdn.sofifa.org/players/4/19/192985.png</td>\n",
       "      <td>Belgium</td>\n",
       "      <td>https://cdn.sofifa.org/flags/7.png</td>\n",
       "      <td>91</td>\n",
       "      <td>92</td>\n",
       "      <td>Manchester City</td>\n",
       "      <td>...</td>\n",
       "      <td>88.0</td>\n",
       "      <td>68.0</td>\n",
       "      <td>58.0</td>\n",
       "      <td>51.0</td>\n",
       "      <td>15.0</td>\n",
       "      <td>13.0</td>\n",
       "      <td>5.0</td>\n",
       "      <td>10.0</td>\n",
       "      <td>13.0</td>\n",
       "      <td>€196.4M</td>\n",
       "    </tr>\n",
       "  </tbody>\n",
       "</table>\n",
       "<p>5 rows × 89 columns</p>\n",
       "</div>"
      ],
      "text/plain": [
       "   Unnamed: 0      ID               Name  Age  \\\n",
       "0           0  158023           L. Messi   31   \n",
       "1           1   20801  Cristiano Ronaldo   33   \n",
       "2           2  190871          Neymar Jr   26   \n",
       "3           3  193080             De Gea   27   \n",
       "4           4  192985       K. De Bruyne   27   \n",
       "\n",
       "                                            Photo Nationality  \\\n",
       "0  https://cdn.sofifa.org/players/4/19/158023.png   Argentina   \n",
       "1   https://cdn.sofifa.org/players/4/19/20801.png    Portugal   \n",
       "2  https://cdn.sofifa.org/players/4/19/190871.png      Brazil   \n",
       "3  https://cdn.sofifa.org/players/4/19/193080.png       Spain   \n",
       "4  https://cdn.sofifa.org/players/4/19/192985.png     Belgium   \n",
       "\n",
       "                                  Flag  Overall  Potential  \\\n",
       "0  https://cdn.sofifa.org/flags/52.png       94         94   \n",
       "1  https://cdn.sofifa.org/flags/38.png       94         94   \n",
       "2  https://cdn.sofifa.org/flags/54.png       92         93   \n",
       "3  https://cdn.sofifa.org/flags/45.png       91         93   \n",
       "4   https://cdn.sofifa.org/flags/7.png       91         92   \n",
       "\n",
       "                  Club  ... Composure Marking StandingTackle  SlidingTackle  \\\n",
       "0         FC Barcelona  ...      96.0    33.0           28.0           26.0   \n",
       "1             Juventus  ...      95.0    28.0           31.0           23.0   \n",
       "2  Paris Saint-Germain  ...      94.0    27.0           24.0           33.0   \n",
       "3    Manchester United  ...      68.0    15.0           21.0           13.0   \n",
       "4      Manchester City  ...      88.0    68.0           58.0           51.0   \n",
       "\n",
       "  GKDiving  GKHandling  GKKicking  GKPositioning GKReflexes Release Clause  \n",
       "0      6.0        11.0       15.0           14.0        8.0        €226.5M  \n",
       "1      7.0        11.0       15.0           14.0       11.0        €127.1M  \n",
       "2      9.0         9.0       15.0           15.0       11.0        €228.1M  \n",
       "3     90.0        85.0       87.0           88.0       94.0        €138.6M  \n",
       "4     15.0        13.0        5.0           10.0       13.0        €196.4M  \n",
       "\n",
       "[5 rows x 89 columns]"
      ]
     },
     "execution_count": 2,
     "metadata": {},
     "output_type": "execute_result"
    }
   ],
   "source": [
    "#Read in the file\n",
    "df = pd.read_csv('fifa_data.csv')\n",
    "\n",
    "#Examine the first five rows of your dataframe\n",
    "df.head(5)"
   ]
  },
  {
   "cell_type": "code",
   "execution_count": 3,
   "metadata": {},
   "outputs": [
    {
     "data": {
      "text/plain": [
       "(18207, 89)"
      ]
     },
     "execution_count": 3,
     "metadata": {},
     "output_type": "execute_result"
    }
   ],
   "source": [
    "#Get the shape of the dataframe - This dataset is enormous. \n",
    "df.shape"
   ]
  },
  {
   "cell_type": "code",
   "execution_count": 4,
   "metadata": {},
   "outputs": [
    {
     "data": {
      "text/plain": [
       "(18207, 88)"
      ]
     },
     "execution_count": 4,
     "metadata": {},
     "output_type": "execute_result"
    }
   ],
   "source": [
    "#As Jupyter can provide us with index references we can delete the first column in our dataframe - delete it\n",
    "df = df.drop(df.columns[[0]], axis=1) \n",
    "\n",
    "#Display the shape of the dataframe\n",
    "df.shape"
   ]
  },
  {
   "cell_type": "code",
   "execution_count": 5,
   "metadata": {},
   "outputs": [
    {
     "data": {
      "text/html": [
       "<div>\n",
       "<style scoped>\n",
       "    .dataframe tbody tr th:only-of-type {\n",
       "        vertical-align: middle;\n",
       "    }\n",
       "\n",
       "    .dataframe tbody tr th {\n",
       "        vertical-align: top;\n",
       "    }\n",
       "\n",
       "    .dataframe thead th {\n",
       "        text-align: right;\n",
       "    }\n",
       "</style>\n",
       "<table border=\"1\" class=\"dataframe\">\n",
       "  <thead>\n",
       "    <tr style=\"text-align: right;\">\n",
       "      <th></th>\n",
       "      <th>ID</th>\n",
       "      <th>Name</th>\n",
       "      <th>Age</th>\n",
       "      <th>Photo</th>\n",
       "      <th>Nationality</th>\n",
       "      <th>Flag</th>\n",
       "      <th>Overall</th>\n",
       "      <th>Potential</th>\n",
       "      <th>Club</th>\n",
       "      <th>Club Logo</th>\n",
       "      <th>...</th>\n",
       "      <th>Composure</th>\n",
       "      <th>Marking</th>\n",
       "      <th>StandingTackle</th>\n",
       "      <th>SlidingTackle</th>\n",
       "      <th>GKDiving</th>\n",
       "      <th>GKHandling</th>\n",
       "      <th>GKKicking</th>\n",
       "      <th>GKPositioning</th>\n",
       "      <th>GKReflexes</th>\n",
       "      <th>Release Clause</th>\n",
       "    </tr>\n",
       "  </thead>\n",
       "  <tbody>\n",
       "    <tr>\n",
       "      <th>0</th>\n",
       "      <td>158023</td>\n",
       "      <td>L. Messi</td>\n",
       "      <td>31</td>\n",
       "      <td>https://cdn.sofifa.org/players/4/19/158023.png</td>\n",
       "      <td>Argentina</td>\n",
       "      <td>https://cdn.sofifa.org/flags/52.png</td>\n",
       "      <td>94</td>\n",
       "      <td>94</td>\n",
       "      <td>FC Barcelona</td>\n",
       "      <td>https://cdn.sofifa.org/teams/2/light/241.png</td>\n",
       "      <td>...</td>\n",
       "      <td>96.0</td>\n",
       "      <td>33.0</td>\n",
       "      <td>28.0</td>\n",
       "      <td>26.0</td>\n",
       "      <td>6.0</td>\n",
       "      <td>11.0</td>\n",
       "      <td>15.0</td>\n",
       "      <td>14.0</td>\n",
       "      <td>8.0</td>\n",
       "      <td>€226.5M</td>\n",
       "    </tr>\n",
       "    <tr>\n",
       "      <th>1</th>\n",
       "      <td>20801</td>\n",
       "      <td>Cristiano Ronaldo</td>\n",
       "      <td>33</td>\n",
       "      <td>https://cdn.sofifa.org/players/4/19/20801.png</td>\n",
       "      <td>Portugal</td>\n",
       "      <td>https://cdn.sofifa.org/flags/38.png</td>\n",
       "      <td>94</td>\n",
       "      <td>94</td>\n",
       "      <td>Juventus</td>\n",
       "      <td>https://cdn.sofifa.org/teams/2/light/45.png</td>\n",
       "      <td>...</td>\n",
       "      <td>95.0</td>\n",
       "      <td>28.0</td>\n",
       "      <td>31.0</td>\n",
       "      <td>23.0</td>\n",
       "      <td>7.0</td>\n",
       "      <td>11.0</td>\n",
       "      <td>15.0</td>\n",
       "      <td>14.0</td>\n",
       "      <td>11.0</td>\n",
       "      <td>€127.1M</td>\n",
       "    </tr>\n",
       "    <tr>\n",
       "      <th>2</th>\n",
       "      <td>190871</td>\n",
       "      <td>Neymar Jr</td>\n",
       "      <td>26</td>\n",
       "      <td>https://cdn.sofifa.org/players/4/19/190871.png</td>\n",
       "      <td>Brazil</td>\n",
       "      <td>https://cdn.sofifa.org/flags/54.png</td>\n",
       "      <td>92</td>\n",
       "      <td>93</td>\n",
       "      <td>Paris Saint-Germain</td>\n",
       "      <td>https://cdn.sofifa.org/teams/2/light/73.png</td>\n",
       "      <td>...</td>\n",
       "      <td>94.0</td>\n",
       "      <td>27.0</td>\n",
       "      <td>24.0</td>\n",
       "      <td>33.0</td>\n",
       "      <td>9.0</td>\n",
       "      <td>9.0</td>\n",
       "      <td>15.0</td>\n",
       "      <td>15.0</td>\n",
       "      <td>11.0</td>\n",
       "      <td>€228.1M</td>\n",
       "    </tr>\n",
       "    <tr>\n",
       "      <th>3</th>\n",
       "      <td>193080</td>\n",
       "      <td>De Gea</td>\n",
       "      <td>27</td>\n",
       "      <td>https://cdn.sofifa.org/players/4/19/193080.png</td>\n",
       "      <td>Spain</td>\n",
       "      <td>https://cdn.sofifa.org/flags/45.png</td>\n",
       "      <td>91</td>\n",
       "      <td>93</td>\n",
       "      <td>Manchester United</td>\n",
       "      <td>https://cdn.sofifa.org/teams/2/light/11.png</td>\n",
       "      <td>...</td>\n",
       "      <td>68.0</td>\n",
       "      <td>15.0</td>\n",
       "      <td>21.0</td>\n",
       "      <td>13.0</td>\n",
       "      <td>90.0</td>\n",
       "      <td>85.0</td>\n",
       "      <td>87.0</td>\n",
       "      <td>88.0</td>\n",
       "      <td>94.0</td>\n",
       "      <td>€138.6M</td>\n",
       "    </tr>\n",
       "    <tr>\n",
       "      <th>4</th>\n",
       "      <td>192985</td>\n",
       "      <td>K. De Bruyne</td>\n",
       "      <td>27</td>\n",
       "      <td>https://cdn.sofifa.org/players/4/19/192985.png</td>\n",
       "      <td>Belgium</td>\n",
       "      <td>https://cdn.sofifa.org/flags/7.png</td>\n",
       "      <td>91</td>\n",
       "      <td>92</td>\n",
       "      <td>Manchester City</td>\n",
       "      <td>https://cdn.sofifa.org/teams/2/light/10.png</td>\n",
       "      <td>...</td>\n",
       "      <td>88.0</td>\n",
       "      <td>68.0</td>\n",
       "      <td>58.0</td>\n",
       "      <td>51.0</td>\n",
       "      <td>15.0</td>\n",
       "      <td>13.0</td>\n",
       "      <td>5.0</td>\n",
       "      <td>10.0</td>\n",
       "      <td>13.0</td>\n",
       "      <td>€196.4M</td>\n",
       "    </tr>\n",
       "  </tbody>\n",
       "</table>\n",
       "<p>5 rows × 88 columns</p>\n",
       "</div>"
      ],
      "text/plain": [
       "       ID               Name  Age  \\\n",
       "0  158023           L. Messi   31   \n",
       "1   20801  Cristiano Ronaldo   33   \n",
       "2  190871          Neymar Jr   26   \n",
       "3  193080             De Gea   27   \n",
       "4  192985       K. De Bruyne   27   \n",
       "\n",
       "                                            Photo Nationality  \\\n",
       "0  https://cdn.sofifa.org/players/4/19/158023.png   Argentina   \n",
       "1   https://cdn.sofifa.org/players/4/19/20801.png    Portugal   \n",
       "2  https://cdn.sofifa.org/players/4/19/190871.png      Brazil   \n",
       "3  https://cdn.sofifa.org/players/4/19/193080.png       Spain   \n",
       "4  https://cdn.sofifa.org/players/4/19/192985.png     Belgium   \n",
       "\n",
       "                                  Flag  Overall  Potential  \\\n",
       "0  https://cdn.sofifa.org/flags/52.png       94         94   \n",
       "1  https://cdn.sofifa.org/flags/38.png       94         94   \n",
       "2  https://cdn.sofifa.org/flags/54.png       92         93   \n",
       "3  https://cdn.sofifa.org/flags/45.png       91         93   \n",
       "4   https://cdn.sofifa.org/flags/7.png       91         92   \n",
       "\n",
       "                  Club                                     Club Logo  ...  \\\n",
       "0         FC Barcelona  https://cdn.sofifa.org/teams/2/light/241.png  ...   \n",
       "1             Juventus   https://cdn.sofifa.org/teams/2/light/45.png  ...   \n",
       "2  Paris Saint-Germain   https://cdn.sofifa.org/teams/2/light/73.png  ...   \n",
       "3    Manchester United   https://cdn.sofifa.org/teams/2/light/11.png  ...   \n",
       "4      Manchester City   https://cdn.sofifa.org/teams/2/light/10.png  ...   \n",
       "\n",
       "  Composure Marking  StandingTackle SlidingTackle  GKDiving  GKHandling  \\\n",
       "0      96.0    33.0            28.0          26.0       6.0        11.0   \n",
       "1      95.0    28.0            31.0          23.0       7.0        11.0   \n",
       "2      94.0    27.0            24.0          33.0       9.0         9.0   \n",
       "3      68.0    15.0            21.0          13.0      90.0        85.0   \n",
       "4      88.0    68.0            58.0          51.0      15.0        13.0   \n",
       "\n",
       "   GKKicking GKPositioning GKReflexes Release Clause  \n",
       "0       15.0          14.0        8.0        €226.5M  \n",
       "1       15.0          14.0       11.0        €127.1M  \n",
       "2       15.0          15.0       11.0        €228.1M  \n",
       "3       87.0          88.0       94.0        €138.6M  \n",
       "4        5.0          10.0       13.0        €196.4M  \n",
       "\n",
       "[5 rows x 88 columns]"
      ]
     },
     "execution_count": 5,
     "metadata": {},
     "output_type": "execute_result"
    }
   ],
   "source": [
    "#Examine the first five rows of your dataframe again\n",
    "df.head(5)"
   ]
  },
  {
   "cell_type": "code",
   "execution_count": 6,
   "metadata": {},
   "outputs": [
    {
     "data": {
      "text/plain": [
       "ID                   0\n",
       "Name                 0\n",
       "Age                  0\n",
       "Photo                0\n",
       "Nationality          0\n",
       "                  ... \n",
       "GKHandling          48\n",
       "GKKicking           48\n",
       "GKPositioning       48\n",
       "GKReflexes          48\n",
       "Release Clause    1564\n",
       "Length: 88, dtype: int64"
      ]
     },
     "execution_count": 6,
     "metadata": {},
     "output_type": "execute_result"
    }
   ],
   "source": [
    "#check for null values\n",
    "df.isna().sum()\n",
    "\n",
    "#The output generated here does not give us a clear picture."
   ]
  },
  {
   "cell_type": "code",
   "execution_count": 7,
   "metadata": {},
   "outputs": [
    {
     "data": {
      "text/plain": [
       "48"
      ]
     },
     "execution_count": 7,
     "metadata": {},
     "output_type": "execute_result"
    }
   ],
   "source": [
    "#Count the number of null values in the columns we will be using - Preferred Foot\n",
    "#There are 48 null values in this column\n",
    "  #when we consider the number of records in the DataFrame the simpliest thing to do would be to delete the rows\n",
    "df['Preferred Foot'].isna().sum()"
   ]
  },
  {
   "cell_type": "code",
   "execution_count": 8,
   "metadata": {},
   "outputs": [
    {
     "data": {
      "text/plain": [
       "241"
      ]
     },
     "execution_count": 8,
     "metadata": {},
     "output_type": "execute_result"
    }
   ],
   "source": [
    "#Count the number of null values in the columns we will be using - Club\n",
    "df['Club'].isna().sum()"
   ]
  },
  {
   "cell_type": "code",
   "execution_count": 9,
   "metadata": {},
   "outputs": [
    {
     "data": {
      "text/plain": [
       "48"
      ]
     },
     "execution_count": 9,
     "metadata": {},
     "output_type": "execute_result"
    }
   ],
   "source": [
    "#Count the number of null values in the columns we will be using - Weight\n",
    "df['Weight'].isna().sum()"
   ]
  },
  {
   "cell_type": "code",
   "execution_count": 10,
   "metadata": {},
   "outputs": [
    {
     "data": {
      "text/plain": [
       "48"
      ]
     },
     "execution_count": 10,
     "metadata": {},
     "output_type": "execute_result"
    }
   ],
   "source": [
    "#Count the number of null values in the columns we will be using - Composure\n",
    "df['Composure'].isna().sum()"
   ]
  },
  {
   "cell_type": "code",
   "execution_count": 35,
   "metadata": {},
   "outputs": [
    {
     "name": "stdout",
     "output_type": "stream",
     "text": [
      "('ID', 0)\n",
      "('Name', 0)\n",
      "('Age', 0)\n",
      "('Photo', 0)\n",
      "('Nationality', 0)\n",
      "('Flag', 0)\n",
      "('Overall', 0)\n",
      "('Potential', 0)\n",
      "('Club', 0)\n",
      "('Club Logo', 0)\n",
      "('Value', 0)\n",
      "('Wage', 0)\n",
      "('Special', 0)\n",
      "('Preferred Foot', 0)\n",
      "('International Reputation', 0)\n",
      "('Weak Foot', 0)\n",
      "('Skill Moves', 0)\n",
      "('Work Rate', 0)\n",
      "('Body Type', 0)\n",
      "('Real Face', 0)\n",
      "('Position', 0)\n",
      "('Jersey Number', 0)\n",
      "('Joined', 1264)\n",
      "('Loaned From', 16654)\n",
      "('Contract Valid Until', 0)\n",
      "('Height', 0)\n",
      "('Weight', 0)\n",
      "('LS', 1992)\n",
      "('ST', 1992)\n",
      "('RS', 1992)\n",
      "('LW', 1992)\n",
      "('LF', 1992)\n",
      "('CF', 1992)\n",
      "('RF', 1992)\n",
      "('RW', 1992)\n",
      "('LAM', 1992)\n",
      "('CAM', 1992)\n",
      "('RAM', 1992)\n",
      "('LM', 1992)\n",
      "('LCM', 1992)\n",
      "('CM', 1992)\n",
      "('RCM', 1992)\n",
      "('RM', 1992)\n",
      "('LWB', 1992)\n",
      "('LDM', 1992)\n",
      "('CDM', 1992)\n",
      "('RDM', 1992)\n",
      "('RWB', 1992)\n",
      "('LB', 1992)\n",
      "('LCB', 1992)\n",
      "('CB', 1992)\n",
      "('RCB', 1992)\n",
      "('RB', 1992)\n",
      "('Crossing', 0)\n",
      "('Finishing', 0)\n",
      "('HeadingAccuracy', 0)\n",
      "('ShortPassing', 0)\n",
      "('Volleys', 0)\n",
      "('Dribbling', 0)\n",
      "('Curve', 0)\n",
      "('FKAccuracy', 0)\n",
      "('LongPassing', 0)\n",
      "('BallControl', 0)\n",
      "('Acceleration', 0)\n",
      "('SprintSpeed', 0)\n",
      "('Agility', 0)\n",
      "('Reactions', 0)\n",
      "('Balance', 0)\n",
      "('ShotPower', 0)\n",
      "('Jumping', 0)\n",
      "('Stamina', 0)\n",
      "('Strength', 0)\n",
      "('LongShots', 0)\n",
      "('Aggression', 0)\n",
      "('Interceptions', 0)\n",
      "('Positioning', 0)\n",
      "('Vision', 0)\n",
      "('Penalties', 0)\n",
      "('Composure', 0)\n",
      "('Marking', 0)\n",
      "('StandingTackle', 0)\n",
      "('SlidingTackle', 0)\n",
      "('GKDiving', 0)\n",
      "('GKHandling', 0)\n",
      "('GKKicking', 0)\n",
      "('GKPositioning', 0)\n",
      "('GKReflexes', 0)\n",
      "('Release Clause', 1275)\n"
     ]
    }
   ],
   "source": [
    "#It would have been easier to\n",
    "\n",
    "#Get the null values and save them in a variable called nulls\n",
    "  #the results returned are a Pandas Series\n",
    "nulls = df.isna().sum()\n",
    "\n",
    "#To check the type of nulls\n",
    "#print(type(nulls))\n",
    "\n",
    "#To print each item in a Series\n",
    "for items in nulls.items():\n",
    "    print(items)"
   ]
  },
  {
   "cell_type": "markdown",
   "metadata": {},
   "source": [
    "We are simply going to drop the null values in each of the columns that we intend to use.  \n",
    "\n",
    "As you know there are various other options available to handle null values, but when we consider the number of records in the DataFrame the simpliest thing to do would be to delete the rows.\n",
    "\n",
    "Why do we only drop the null values in the columns we are using? Would it not be easier to drop all null values in the DataFrame?"
   ]
  },
  {
   "cell_type": "code",
   "execution_count": 12,
   "metadata": {},
   "outputs": [
    {
     "data": {
      "text/plain": [
       "0"
      ]
     },
     "execution_count": 12,
     "metadata": {},
     "output_type": "execute_result"
    }
   ],
   "source": [
    "#drop rows with null values in the Preferred Foot column\n",
    "df = df.dropna(how='any', subset=['Preferred Foot'])\n",
    "df['Preferred Foot'].isna().sum()"
   ]
  },
  {
   "cell_type": "code",
   "execution_count": 13,
   "metadata": {},
   "outputs": [
    {
     "data": {
      "text/plain": [
       "0"
      ]
     },
     "execution_count": 13,
     "metadata": {},
     "output_type": "execute_result"
    }
   ],
   "source": [
    "#drop rows with null values in the Weight column\n",
    "df = df.dropna(how='any', subset=['Weight'])\n",
    "df['Weight'].isna().sum()"
   ]
  },
  {
   "cell_type": "code",
   "execution_count": 14,
   "metadata": {},
   "outputs": [
    {
     "data": {
      "text/plain": [
       "0"
      ]
     },
     "execution_count": 14,
     "metadata": {},
     "output_type": "execute_result"
    }
   ],
   "source": [
    "#drop rows with null values in the Club column\n",
    "df = df.dropna(how='any', subset=['Club'])\n",
    "df['Club'].isna().sum()"
   ]
  },
  {
   "cell_type": "code",
   "execution_count": 15,
   "metadata": {},
   "outputs": [
    {
     "data": {
      "text/plain": [
       "0"
      ]
     },
     "execution_count": 15,
     "metadata": {},
     "output_type": "execute_result"
    }
   ],
   "source": [
    "#drop rows with null values in the Composure column\n",
    "df = df.dropna(how='any', subset=['Composure'])\n",
    "df['Composure'].isna().sum()"
   ]
  },
  {
   "cell_type": "markdown",
   "metadata": {},
   "source": [
    "## CREATING CHARTS \n"
   ]
  },
  {
   "cell_type": "markdown",
   "metadata": {},
   "source": [
    "## 1 Create a Histograms\n",
    "\n",
    "A histogram takes in a series of data and divides the data into a number of bins. It then plots the frequency data points in each bin (i.e. the interval of points). It is useful in understanding the count of data ranges.  "
   ]
  },
  {
   "cell_type": "markdown",
   "metadata": {},
   "source": [
    "### Histogram #1: A Histogram to Show a Summary of the Overall column in the Fifa DataFrame"
   ]
  },
  {
   "cell_type": "code",
   "execution_count": 48,
   "metadata": {},
   "outputs": [
    {
     "data": {
      "text/html": [
       "<div>\n",
       "<style scoped>\n",
       "    .dataframe tbody tr th:only-of-type {\n",
       "        vertical-align: middle;\n",
       "    }\n",
       "\n",
       "    .dataframe tbody tr th {\n",
       "        vertical-align: top;\n",
       "    }\n",
       "\n",
       "    .dataframe thead th {\n",
       "        text-align: right;\n",
       "    }\n",
       "</style>\n",
       "<table border=\"1\" class=\"dataframe\">\n",
       "  <thead>\n",
       "    <tr style=\"text-align: right;\">\n",
       "      <th></th>\n",
       "      <th>ID</th>\n",
       "      <th>Name</th>\n",
       "      <th>Age</th>\n",
       "      <th>Photo</th>\n",
       "      <th>Nationality</th>\n",
       "      <th>Flag</th>\n",
       "      <th>Overall</th>\n",
       "      <th>Potential</th>\n",
       "      <th>Club</th>\n",
       "      <th>Club Logo</th>\n",
       "      <th>Value</th>\n",
       "      <th>Wage</th>\n",
       "      <th>Special</th>\n",
       "      <th>Preferred Foot</th>\n",
       "      <th>International Reputation</th>\n",
       "      <th>Weak Foot</th>\n",
       "      <th>Skill Moves</th>\n",
       "      <th>Work Rate</th>\n",
       "      <th>Body Type</th>\n",
       "      <th>Real Face</th>\n",
       "      <th>Position</th>\n",
       "      <th>Jersey Number</th>\n",
       "      <th>Joined</th>\n",
       "      <th>Loaned From</th>\n",
       "      <th>Contract Valid Until</th>\n",
       "      <th>Height</th>\n",
       "      <th>Weight</th>\n",
       "      <th>LS</th>\n",
       "      <th>ST</th>\n",
       "      <th>RS</th>\n",
       "      <th>LW</th>\n",
       "      <th>LF</th>\n",
       "      <th>CF</th>\n",
       "      <th>RF</th>\n",
       "      <th>RW</th>\n",
       "      <th>LAM</th>\n",
       "      <th>CAM</th>\n",
       "      <th>RAM</th>\n",
       "      <th>LM</th>\n",
       "      <th>LCM</th>\n",
       "      <th>CM</th>\n",
       "      <th>RCM</th>\n",
       "      <th>RM</th>\n",
       "      <th>LWB</th>\n",
       "      <th>LDM</th>\n",
       "      <th>CDM</th>\n",
       "      <th>RDM</th>\n",
       "      <th>RWB</th>\n",
       "      <th>LB</th>\n",
       "      <th>LCB</th>\n",
       "      <th>CB</th>\n",
       "      <th>RCB</th>\n",
       "      <th>RB</th>\n",
       "      <th>Crossing</th>\n",
       "      <th>Finishing</th>\n",
       "      <th>HeadingAccuracy</th>\n",
       "      <th>ShortPassing</th>\n",
       "      <th>Volleys</th>\n",
       "      <th>Dribbling</th>\n",
       "      <th>Curve</th>\n",
       "      <th>FKAccuracy</th>\n",
       "      <th>LongPassing</th>\n",
       "      <th>BallControl</th>\n",
       "      <th>Acceleration</th>\n",
       "      <th>SprintSpeed</th>\n",
       "      <th>Agility</th>\n",
       "      <th>Reactions</th>\n",
       "      <th>Balance</th>\n",
       "      <th>ShotPower</th>\n",
       "      <th>Jumping</th>\n",
       "      <th>Stamina</th>\n",
       "      <th>Strength</th>\n",
       "      <th>LongShots</th>\n",
       "      <th>Aggression</th>\n",
       "      <th>Interceptions</th>\n",
       "      <th>Positioning</th>\n",
       "      <th>Vision</th>\n",
       "      <th>Penalties</th>\n",
       "      <th>Composure</th>\n",
       "      <th>Marking</th>\n",
       "      <th>StandingTackle</th>\n",
       "      <th>SlidingTackle</th>\n",
       "      <th>GKDiving</th>\n",
       "      <th>GKHandling</th>\n",
       "      <th>GKKicking</th>\n",
       "      <th>GKPositioning</th>\n",
       "      <th>GKReflexes</th>\n",
       "      <th>Release Clause</th>\n",
       "    </tr>\n",
       "  </thead>\n",
       "  <tbody>\n",
       "    <tr>\n",
       "      <th>0</th>\n",
       "      <td>158023</td>\n",
       "      <td>L. Messi</td>\n",
       "      <td>31</td>\n",
       "      <td>https://cdn.sofifa.org/players/4/19/158023.png</td>\n",
       "      <td>Argentina</td>\n",
       "      <td>https://cdn.sofifa.org/flags/52.png</td>\n",
       "      <td>94</td>\n",
       "      <td>94</td>\n",
       "      <td>FC Barcelona</td>\n",
       "      <td>https://cdn.sofifa.org/teams/2/light/241.png</td>\n",
       "      <td>€110.5M</td>\n",
       "      <td>€565K</td>\n",
       "      <td>2202</td>\n",
       "      <td>Left</td>\n",
       "      <td>5.0</td>\n",
       "      <td>4.0</td>\n",
       "      <td>4.0</td>\n",
       "      <td>Medium/ Medium</td>\n",
       "      <td>Messi</td>\n",
       "      <td>Yes</td>\n",
       "      <td>RF</td>\n",
       "      <td>10.0</td>\n",
       "      <td>Jul 1, 2004</td>\n",
       "      <td>NaN</td>\n",
       "      <td>2021</td>\n",
       "      <td>5'7</td>\n",
       "      <td>159</td>\n",
       "      <td>88+2</td>\n",
       "      <td>88+2</td>\n",
       "      <td>88+2</td>\n",
       "      <td>92+2</td>\n",
       "      <td>93+2</td>\n",
       "      <td>93+2</td>\n",
       "      <td>93+2</td>\n",
       "      <td>92+2</td>\n",
       "      <td>93+2</td>\n",
       "      <td>93+2</td>\n",
       "      <td>93+2</td>\n",
       "      <td>91+2</td>\n",
       "      <td>84+2</td>\n",
       "      <td>84+2</td>\n",
       "      <td>84+2</td>\n",
       "      <td>91+2</td>\n",
       "      <td>64+2</td>\n",
       "      <td>61+2</td>\n",
       "      <td>61+2</td>\n",
       "      <td>61+2</td>\n",
       "      <td>64+2</td>\n",
       "      <td>59+2</td>\n",
       "      <td>47+2</td>\n",
       "      <td>47+2</td>\n",
       "      <td>47+2</td>\n",
       "      <td>59+2</td>\n",
       "      <td>84.0</td>\n",
       "      <td>95.0</td>\n",
       "      <td>70.0</td>\n",
       "      <td>90.0</td>\n",
       "      <td>86.0</td>\n",
       "      <td>97.0</td>\n",
       "      <td>93.0</td>\n",
       "      <td>94.0</td>\n",
       "      <td>87.0</td>\n",
       "      <td>96.0</td>\n",
       "      <td>91.0</td>\n",
       "      <td>86.0</td>\n",
       "      <td>91.0</td>\n",
       "      <td>95.0</td>\n",
       "      <td>95.0</td>\n",
       "      <td>85.0</td>\n",
       "      <td>68.0</td>\n",
       "      <td>72.0</td>\n",
       "      <td>59.0</td>\n",
       "      <td>94.0</td>\n",
       "      <td>48.0</td>\n",
       "      <td>22.0</td>\n",
       "      <td>94.0</td>\n",
       "      <td>94.0</td>\n",
       "      <td>75.0</td>\n",
       "      <td>96.0</td>\n",
       "      <td>33.0</td>\n",
       "      <td>28.0</td>\n",
       "      <td>26.0</td>\n",
       "      <td>6.0</td>\n",
       "      <td>11.0</td>\n",
       "      <td>15.0</td>\n",
       "      <td>14.0</td>\n",
       "      <td>8.0</td>\n",
       "      <td>€226.5M</td>\n",
       "    </tr>\n",
       "    <tr>\n",
       "      <th>1</th>\n",
       "      <td>20801</td>\n",
       "      <td>Cristiano Ronaldo</td>\n",
       "      <td>33</td>\n",
       "      <td>https://cdn.sofifa.org/players/4/19/20801.png</td>\n",
       "      <td>Portugal</td>\n",
       "      <td>https://cdn.sofifa.org/flags/38.png</td>\n",
       "      <td>94</td>\n",
       "      <td>94</td>\n",
       "      <td>Juventus</td>\n",
       "      <td>https://cdn.sofifa.org/teams/2/light/45.png</td>\n",
       "      <td>€77M</td>\n",
       "      <td>€405K</td>\n",
       "      <td>2228</td>\n",
       "      <td>Right</td>\n",
       "      <td>5.0</td>\n",
       "      <td>4.0</td>\n",
       "      <td>5.0</td>\n",
       "      <td>High/ Low</td>\n",
       "      <td>C. Ronaldo</td>\n",
       "      <td>Yes</td>\n",
       "      <td>ST</td>\n",
       "      <td>7.0</td>\n",
       "      <td>Jul 10, 2018</td>\n",
       "      <td>NaN</td>\n",
       "      <td>2022</td>\n",
       "      <td>6'2</td>\n",
       "      <td>183</td>\n",
       "      <td>91+3</td>\n",
       "      <td>91+3</td>\n",
       "      <td>91+3</td>\n",
       "      <td>89+3</td>\n",
       "      <td>90+3</td>\n",
       "      <td>90+3</td>\n",
       "      <td>90+3</td>\n",
       "      <td>89+3</td>\n",
       "      <td>88+3</td>\n",
       "      <td>88+3</td>\n",
       "      <td>88+3</td>\n",
       "      <td>88+3</td>\n",
       "      <td>81+3</td>\n",
       "      <td>81+3</td>\n",
       "      <td>81+3</td>\n",
       "      <td>88+3</td>\n",
       "      <td>65+3</td>\n",
       "      <td>61+3</td>\n",
       "      <td>61+3</td>\n",
       "      <td>61+3</td>\n",
       "      <td>65+3</td>\n",
       "      <td>61+3</td>\n",
       "      <td>53+3</td>\n",
       "      <td>53+3</td>\n",
       "      <td>53+3</td>\n",
       "      <td>61+3</td>\n",
       "      <td>84.0</td>\n",
       "      <td>94.0</td>\n",
       "      <td>89.0</td>\n",
       "      <td>81.0</td>\n",
       "      <td>87.0</td>\n",
       "      <td>88.0</td>\n",
       "      <td>81.0</td>\n",
       "      <td>76.0</td>\n",
       "      <td>77.0</td>\n",
       "      <td>94.0</td>\n",
       "      <td>89.0</td>\n",
       "      <td>91.0</td>\n",
       "      <td>87.0</td>\n",
       "      <td>96.0</td>\n",
       "      <td>70.0</td>\n",
       "      <td>95.0</td>\n",
       "      <td>95.0</td>\n",
       "      <td>88.0</td>\n",
       "      <td>79.0</td>\n",
       "      <td>93.0</td>\n",
       "      <td>63.0</td>\n",
       "      <td>29.0</td>\n",
       "      <td>95.0</td>\n",
       "      <td>82.0</td>\n",
       "      <td>85.0</td>\n",
       "      <td>95.0</td>\n",
       "      <td>28.0</td>\n",
       "      <td>31.0</td>\n",
       "      <td>23.0</td>\n",
       "      <td>7.0</td>\n",
       "      <td>11.0</td>\n",
       "      <td>15.0</td>\n",
       "      <td>14.0</td>\n",
       "      <td>11.0</td>\n",
       "      <td>€127.1M</td>\n",
       "    </tr>\n",
       "    <tr>\n",
       "      <th>2</th>\n",
       "      <td>190871</td>\n",
       "      <td>Neymar Jr</td>\n",
       "      <td>26</td>\n",
       "      <td>https://cdn.sofifa.org/players/4/19/190871.png</td>\n",
       "      <td>Brazil</td>\n",
       "      <td>https://cdn.sofifa.org/flags/54.png</td>\n",
       "      <td>92</td>\n",
       "      <td>93</td>\n",
       "      <td>Paris Saint-Germain</td>\n",
       "      <td>https://cdn.sofifa.org/teams/2/light/73.png</td>\n",
       "      <td>€118.5M</td>\n",
       "      <td>€290K</td>\n",
       "      <td>2143</td>\n",
       "      <td>Right</td>\n",
       "      <td>5.0</td>\n",
       "      <td>5.0</td>\n",
       "      <td>5.0</td>\n",
       "      <td>High/ Medium</td>\n",
       "      <td>Neymar</td>\n",
       "      <td>Yes</td>\n",
       "      <td>LW</td>\n",
       "      <td>10.0</td>\n",
       "      <td>Aug 3, 2017</td>\n",
       "      <td>NaN</td>\n",
       "      <td>2022</td>\n",
       "      <td>5'9</td>\n",
       "      <td>150</td>\n",
       "      <td>84+3</td>\n",
       "      <td>84+3</td>\n",
       "      <td>84+3</td>\n",
       "      <td>89+3</td>\n",
       "      <td>89+3</td>\n",
       "      <td>89+3</td>\n",
       "      <td>89+3</td>\n",
       "      <td>89+3</td>\n",
       "      <td>89+3</td>\n",
       "      <td>89+3</td>\n",
       "      <td>89+3</td>\n",
       "      <td>88+3</td>\n",
       "      <td>81+3</td>\n",
       "      <td>81+3</td>\n",
       "      <td>81+3</td>\n",
       "      <td>88+3</td>\n",
       "      <td>65+3</td>\n",
       "      <td>60+3</td>\n",
       "      <td>60+3</td>\n",
       "      <td>60+3</td>\n",
       "      <td>65+3</td>\n",
       "      <td>60+3</td>\n",
       "      <td>47+3</td>\n",
       "      <td>47+3</td>\n",
       "      <td>47+3</td>\n",
       "      <td>60+3</td>\n",
       "      <td>79.0</td>\n",
       "      <td>87.0</td>\n",
       "      <td>62.0</td>\n",
       "      <td>84.0</td>\n",
       "      <td>84.0</td>\n",
       "      <td>96.0</td>\n",
       "      <td>88.0</td>\n",
       "      <td>87.0</td>\n",
       "      <td>78.0</td>\n",
       "      <td>95.0</td>\n",
       "      <td>94.0</td>\n",
       "      <td>90.0</td>\n",
       "      <td>96.0</td>\n",
       "      <td>94.0</td>\n",
       "      <td>84.0</td>\n",
       "      <td>80.0</td>\n",
       "      <td>61.0</td>\n",
       "      <td>81.0</td>\n",
       "      <td>49.0</td>\n",
       "      <td>82.0</td>\n",
       "      <td>56.0</td>\n",
       "      <td>36.0</td>\n",
       "      <td>89.0</td>\n",
       "      <td>87.0</td>\n",
       "      <td>81.0</td>\n",
       "      <td>94.0</td>\n",
       "      <td>27.0</td>\n",
       "      <td>24.0</td>\n",
       "      <td>33.0</td>\n",
       "      <td>9.0</td>\n",
       "      <td>9.0</td>\n",
       "      <td>15.0</td>\n",
       "      <td>15.0</td>\n",
       "      <td>11.0</td>\n",
       "      <td>€228.1M</td>\n",
       "    </tr>\n",
       "    <tr>\n",
       "      <th>3</th>\n",
       "      <td>193080</td>\n",
       "      <td>De Gea</td>\n",
       "      <td>27</td>\n",
       "      <td>https://cdn.sofifa.org/players/4/19/193080.png</td>\n",
       "      <td>Spain</td>\n",
       "      <td>https://cdn.sofifa.org/flags/45.png</td>\n",
       "      <td>91</td>\n",
       "      <td>93</td>\n",
       "      <td>Manchester United</td>\n",
       "      <td>https://cdn.sofifa.org/teams/2/light/11.png</td>\n",
       "      <td>€72M</td>\n",
       "      <td>€260K</td>\n",
       "      <td>1471</td>\n",
       "      <td>Right</td>\n",
       "      <td>4.0</td>\n",
       "      <td>3.0</td>\n",
       "      <td>1.0</td>\n",
       "      <td>Medium/ Medium</td>\n",
       "      <td>Lean</td>\n",
       "      <td>Yes</td>\n",
       "      <td>GK</td>\n",
       "      <td>1.0</td>\n",
       "      <td>Jul 1, 2011</td>\n",
       "      <td>NaN</td>\n",
       "      <td>2020</td>\n",
       "      <td>6'4</td>\n",
       "      <td>168</td>\n",
       "      <td>NaN</td>\n",
       "      <td>NaN</td>\n",
       "      <td>NaN</td>\n",
       "      <td>NaN</td>\n",
       "      <td>NaN</td>\n",
       "      <td>NaN</td>\n",
       "      <td>NaN</td>\n",
       "      <td>NaN</td>\n",
       "      <td>NaN</td>\n",
       "      <td>NaN</td>\n",
       "      <td>NaN</td>\n",
       "      <td>NaN</td>\n",
       "      <td>NaN</td>\n",
       "      <td>NaN</td>\n",
       "      <td>NaN</td>\n",
       "      <td>NaN</td>\n",
       "      <td>NaN</td>\n",
       "      <td>NaN</td>\n",
       "      <td>NaN</td>\n",
       "      <td>NaN</td>\n",
       "      <td>NaN</td>\n",
       "      <td>NaN</td>\n",
       "      <td>NaN</td>\n",
       "      <td>NaN</td>\n",
       "      <td>NaN</td>\n",
       "      <td>NaN</td>\n",
       "      <td>17.0</td>\n",
       "      <td>13.0</td>\n",
       "      <td>21.0</td>\n",
       "      <td>50.0</td>\n",
       "      <td>13.0</td>\n",
       "      <td>18.0</td>\n",
       "      <td>21.0</td>\n",
       "      <td>19.0</td>\n",
       "      <td>51.0</td>\n",
       "      <td>42.0</td>\n",
       "      <td>57.0</td>\n",
       "      <td>58.0</td>\n",
       "      <td>60.0</td>\n",
       "      <td>90.0</td>\n",
       "      <td>43.0</td>\n",
       "      <td>31.0</td>\n",
       "      <td>67.0</td>\n",
       "      <td>43.0</td>\n",
       "      <td>64.0</td>\n",
       "      <td>12.0</td>\n",
       "      <td>38.0</td>\n",
       "      <td>30.0</td>\n",
       "      <td>12.0</td>\n",
       "      <td>68.0</td>\n",
       "      <td>40.0</td>\n",
       "      <td>68.0</td>\n",
       "      <td>15.0</td>\n",
       "      <td>21.0</td>\n",
       "      <td>13.0</td>\n",
       "      <td>90.0</td>\n",
       "      <td>85.0</td>\n",
       "      <td>87.0</td>\n",
       "      <td>88.0</td>\n",
       "      <td>94.0</td>\n",
       "      <td>€138.6M</td>\n",
       "    </tr>\n",
       "    <tr>\n",
       "      <th>4</th>\n",
       "      <td>192985</td>\n",
       "      <td>K. De Bruyne</td>\n",
       "      <td>27</td>\n",
       "      <td>https://cdn.sofifa.org/players/4/19/192985.png</td>\n",
       "      <td>Belgium</td>\n",
       "      <td>https://cdn.sofifa.org/flags/7.png</td>\n",
       "      <td>91</td>\n",
       "      <td>92</td>\n",
       "      <td>Manchester City</td>\n",
       "      <td>https://cdn.sofifa.org/teams/2/light/10.png</td>\n",
       "      <td>€102M</td>\n",
       "      <td>€355K</td>\n",
       "      <td>2281</td>\n",
       "      <td>Right</td>\n",
       "      <td>4.0</td>\n",
       "      <td>5.0</td>\n",
       "      <td>4.0</td>\n",
       "      <td>High/ High</td>\n",
       "      <td>Normal</td>\n",
       "      <td>Yes</td>\n",
       "      <td>RCM</td>\n",
       "      <td>7.0</td>\n",
       "      <td>Aug 30, 2015</td>\n",
       "      <td>NaN</td>\n",
       "      <td>2023</td>\n",
       "      <td>5'11</td>\n",
       "      <td>154</td>\n",
       "      <td>82+3</td>\n",
       "      <td>82+3</td>\n",
       "      <td>82+3</td>\n",
       "      <td>87+3</td>\n",
       "      <td>87+3</td>\n",
       "      <td>87+3</td>\n",
       "      <td>87+3</td>\n",
       "      <td>87+3</td>\n",
       "      <td>88+3</td>\n",
       "      <td>88+3</td>\n",
       "      <td>88+3</td>\n",
       "      <td>88+3</td>\n",
       "      <td>87+3</td>\n",
       "      <td>87+3</td>\n",
       "      <td>87+3</td>\n",
       "      <td>88+3</td>\n",
       "      <td>77+3</td>\n",
       "      <td>77+3</td>\n",
       "      <td>77+3</td>\n",
       "      <td>77+3</td>\n",
       "      <td>77+3</td>\n",
       "      <td>73+3</td>\n",
       "      <td>66+3</td>\n",
       "      <td>66+3</td>\n",
       "      <td>66+3</td>\n",
       "      <td>73+3</td>\n",
       "      <td>93.0</td>\n",
       "      <td>82.0</td>\n",
       "      <td>55.0</td>\n",
       "      <td>92.0</td>\n",
       "      <td>82.0</td>\n",
       "      <td>86.0</td>\n",
       "      <td>85.0</td>\n",
       "      <td>83.0</td>\n",
       "      <td>91.0</td>\n",
       "      <td>91.0</td>\n",
       "      <td>78.0</td>\n",
       "      <td>76.0</td>\n",
       "      <td>79.0</td>\n",
       "      <td>91.0</td>\n",
       "      <td>77.0</td>\n",
       "      <td>91.0</td>\n",
       "      <td>63.0</td>\n",
       "      <td>90.0</td>\n",
       "      <td>75.0</td>\n",
       "      <td>91.0</td>\n",
       "      <td>76.0</td>\n",
       "      <td>61.0</td>\n",
       "      <td>87.0</td>\n",
       "      <td>94.0</td>\n",
       "      <td>79.0</td>\n",
       "      <td>88.0</td>\n",
       "      <td>68.0</td>\n",
       "      <td>58.0</td>\n",
       "      <td>51.0</td>\n",
       "      <td>15.0</td>\n",
       "      <td>13.0</td>\n",
       "      <td>5.0</td>\n",
       "      <td>10.0</td>\n",
       "      <td>13.0</td>\n",
       "      <td>€196.4M</td>\n",
       "    </tr>\n",
       "  </tbody>\n",
       "</table>\n",
       "</div>"
      ],
      "text/plain": [
       "       ID               Name  Age  \\\n",
       "0  158023           L. Messi   31   \n",
       "1   20801  Cristiano Ronaldo   33   \n",
       "2  190871          Neymar Jr   26   \n",
       "3  193080             De Gea   27   \n",
       "4  192985       K. De Bruyne   27   \n",
       "\n",
       "                                            Photo Nationality  \\\n",
       "0  https://cdn.sofifa.org/players/4/19/158023.png   Argentina   \n",
       "1   https://cdn.sofifa.org/players/4/19/20801.png    Portugal   \n",
       "2  https://cdn.sofifa.org/players/4/19/190871.png      Brazil   \n",
       "3  https://cdn.sofifa.org/players/4/19/193080.png       Spain   \n",
       "4  https://cdn.sofifa.org/players/4/19/192985.png     Belgium   \n",
       "\n",
       "                                  Flag  Overall  Potential  \\\n",
       "0  https://cdn.sofifa.org/flags/52.png       94         94   \n",
       "1  https://cdn.sofifa.org/flags/38.png       94         94   \n",
       "2  https://cdn.sofifa.org/flags/54.png       92         93   \n",
       "3  https://cdn.sofifa.org/flags/45.png       91         93   \n",
       "4   https://cdn.sofifa.org/flags/7.png       91         92   \n",
       "\n",
       "                  Club                                     Club Logo    Value  \\\n",
       "0         FC Barcelona  https://cdn.sofifa.org/teams/2/light/241.png  €110.5M   \n",
       "1             Juventus   https://cdn.sofifa.org/teams/2/light/45.png     €77M   \n",
       "2  Paris Saint-Germain   https://cdn.sofifa.org/teams/2/light/73.png  €118.5M   \n",
       "3    Manchester United   https://cdn.sofifa.org/teams/2/light/11.png     €72M   \n",
       "4      Manchester City   https://cdn.sofifa.org/teams/2/light/10.png    €102M   \n",
       "\n",
       "    Wage  Special Preferred Foot  International Reputation  Weak Foot  \\\n",
       "0  €565K     2202           Left                       5.0        4.0   \n",
       "1  €405K     2228          Right                       5.0        4.0   \n",
       "2  €290K     2143          Right                       5.0        5.0   \n",
       "3  €260K     1471          Right                       4.0        3.0   \n",
       "4  €355K     2281          Right                       4.0        5.0   \n",
       "\n",
       "   Skill Moves       Work Rate   Body Type Real Face Position  Jersey Number  \\\n",
       "0          4.0  Medium/ Medium       Messi       Yes       RF           10.0   \n",
       "1          5.0       High/ Low  C. Ronaldo       Yes       ST            7.0   \n",
       "2          5.0    High/ Medium      Neymar       Yes       LW           10.0   \n",
       "3          1.0  Medium/ Medium        Lean       Yes       GK            1.0   \n",
       "4          4.0      High/ High      Normal       Yes      RCM            7.0   \n",
       "\n",
       "         Joined Loaned From Contract Valid Until Height  Weight    LS    ST  \\\n",
       "0   Jul 1, 2004         NaN                 2021    5'7     159  88+2  88+2   \n",
       "1  Jul 10, 2018         NaN                 2022    6'2     183  91+3  91+3   \n",
       "2   Aug 3, 2017         NaN                 2022    5'9     150  84+3  84+3   \n",
       "3   Jul 1, 2011         NaN                 2020    6'4     168   NaN   NaN   \n",
       "4  Aug 30, 2015         NaN                 2023   5'11     154  82+3  82+3   \n",
       "\n",
       "     RS    LW    LF    CF    RF    RW   LAM   CAM   RAM    LM   LCM    CM  \\\n",
       "0  88+2  92+2  93+2  93+2  93+2  92+2  93+2  93+2  93+2  91+2  84+2  84+2   \n",
       "1  91+3  89+3  90+3  90+3  90+3  89+3  88+3  88+3  88+3  88+3  81+3  81+3   \n",
       "2  84+3  89+3  89+3  89+3  89+3  89+3  89+3  89+3  89+3  88+3  81+3  81+3   \n",
       "3   NaN   NaN   NaN   NaN   NaN   NaN   NaN   NaN   NaN   NaN   NaN   NaN   \n",
       "4  82+3  87+3  87+3  87+3  87+3  87+3  88+3  88+3  88+3  88+3  87+3  87+3   \n",
       "\n",
       "    RCM    RM   LWB   LDM   CDM   RDM   RWB    LB   LCB    CB   RCB    RB  \\\n",
       "0  84+2  91+2  64+2  61+2  61+2  61+2  64+2  59+2  47+2  47+2  47+2  59+2   \n",
       "1  81+3  88+3  65+3  61+3  61+3  61+3  65+3  61+3  53+3  53+3  53+3  61+3   \n",
       "2  81+3  88+3  65+3  60+3  60+3  60+3  65+3  60+3  47+3  47+3  47+3  60+3   \n",
       "3   NaN   NaN   NaN   NaN   NaN   NaN   NaN   NaN   NaN   NaN   NaN   NaN   \n",
       "4  87+3  88+3  77+3  77+3  77+3  77+3  77+3  73+3  66+3  66+3  66+3  73+3   \n",
       "\n",
       "   Crossing  Finishing  HeadingAccuracy  ShortPassing  Volleys  Dribbling  \\\n",
       "0      84.0       95.0             70.0          90.0     86.0       97.0   \n",
       "1      84.0       94.0             89.0          81.0     87.0       88.0   \n",
       "2      79.0       87.0             62.0          84.0     84.0       96.0   \n",
       "3      17.0       13.0             21.0          50.0     13.0       18.0   \n",
       "4      93.0       82.0             55.0          92.0     82.0       86.0   \n",
       "\n",
       "   Curve  FKAccuracy  LongPassing  BallControl  Acceleration  SprintSpeed  \\\n",
       "0   93.0        94.0         87.0         96.0          91.0         86.0   \n",
       "1   81.0        76.0         77.0         94.0          89.0         91.0   \n",
       "2   88.0        87.0         78.0         95.0          94.0         90.0   \n",
       "3   21.0        19.0         51.0         42.0          57.0         58.0   \n",
       "4   85.0        83.0         91.0         91.0          78.0         76.0   \n",
       "\n",
       "   Agility  Reactions  Balance  ShotPower  Jumping  Stamina  Strength  \\\n",
       "0     91.0       95.0     95.0       85.0     68.0     72.0      59.0   \n",
       "1     87.0       96.0     70.0       95.0     95.0     88.0      79.0   \n",
       "2     96.0       94.0     84.0       80.0     61.0     81.0      49.0   \n",
       "3     60.0       90.0     43.0       31.0     67.0     43.0      64.0   \n",
       "4     79.0       91.0     77.0       91.0     63.0     90.0      75.0   \n",
       "\n",
       "   LongShots  Aggression  Interceptions  Positioning  Vision  Penalties  \\\n",
       "0       94.0        48.0           22.0         94.0    94.0       75.0   \n",
       "1       93.0        63.0           29.0         95.0    82.0       85.0   \n",
       "2       82.0        56.0           36.0         89.0    87.0       81.0   \n",
       "3       12.0        38.0           30.0         12.0    68.0       40.0   \n",
       "4       91.0        76.0           61.0         87.0    94.0       79.0   \n",
       "\n",
       "   Composure  Marking  StandingTackle  SlidingTackle  GKDiving  GKHandling  \\\n",
       "0       96.0     33.0            28.0           26.0       6.0        11.0   \n",
       "1       95.0     28.0            31.0           23.0       7.0        11.0   \n",
       "2       94.0     27.0            24.0           33.0       9.0         9.0   \n",
       "3       68.0     15.0            21.0           13.0      90.0        85.0   \n",
       "4       88.0     68.0            58.0           51.0      15.0        13.0   \n",
       "\n",
       "   GKKicking  GKPositioning  GKReflexes Release Clause  \n",
       "0       15.0           14.0         8.0        €226.5M  \n",
       "1       15.0           14.0        11.0        €127.1M  \n",
       "2       15.0           15.0        11.0        €228.1M  \n",
       "3       87.0           88.0        94.0        €138.6M  \n",
       "4        5.0           10.0        13.0        €196.4M  "
      ]
     },
     "execution_count": 48,
     "metadata": {},
     "output_type": "execute_result"
    }
   ],
   "source": [
    "#Examine the first five rows of your dataframe\n",
    "df.head(5)\n",
    "\n"
   ]
  },
  {
   "cell_type": "markdown",
   "metadata": {},
   "source": [
    "#### Creating the Histogram - Specifying the Bins, Adding a Title, Labelling the Axis and Changing the Colour of the Histogram\n",
    "\n",
    "These 2 lines of code would create the most basic chart - but obviously we need things like titles, labels, etc  \n",
    "  \n",
    "plt.hist(df.Overall)  \n",
    "plt.show()"
   ]
  },
  {
   "cell_type": "code",
   "execution_count": 17,
   "metadata": {},
   "outputs": [
    {
     "data": {
      "image/png": "[encoded data removed]",
      "text/plain": [
       "<Figure size 1200x500 with 1 Axes>"
      ]
     },
     "metadata": {},
     "output_type": "display_data"
    }
   ],
   "source": [
    "#Creating a Histogram with Formatting\n",
    "\n",
    "#Specify the increments (bins) \n",
    "  #to help decide on the best starting and ending point for bins you could calculate the max and min values in the column\n",
    "bins = [40,50,60,70,80,90,100]\n",
    "\n",
    "#Specify a chart size\n",
    "plt.figure(figsize=(12,5))\n",
    "\n",
    "#The histogram will use the values in the bins list to summarise the Overall column in DataFrame\n",
    "  #It will basically count the number of occurences in each band (bin)\n",
    "#You can change the default colour of the chart - do a goodle search for a colour picker and copy the hex code\n",
    "plt.hist(df.Overall, bins=bins, color='#abcdef')\n",
    "\n",
    "#The ticks at the bottom will use the values in the bins list \n",
    "plt.xticks(bins)\n",
    "\n",
    "##Add a title and labels\n",
    "plt.ylabel('Number of Players')\n",
    "plt.xlabel('Skill Level')\n",
    "plt.title('Distribution of Player Skills in FIFA 2018')\n",
    "\n",
    "#Save the chart\n",
    "#plt.savefig('histogram.png', dpi=300)\n",
    "\n",
    "plt.show()"
   ]
  },
  {
   "cell_type": "markdown",
   "metadata": {},
   "source": [
    "### Histogram #2: Create A Histogram to Show a Summary of the Composure column in the Fifa DataFrame\n",
    "\n",
    "* ~~Make the size of the chart 12 * 8~~\n",
    "* Specify Appropriate Bins - you might want to find the max and the min in the Composure column\n",
    "* Provide a meaningful title\n",
    "* Add labels to the Axes\n",
    "* Change the colour of the Histogram so that it is different from the one above"
   ]
  },
  {
   "cell_type": "code",
   "execution_count": 18,
   "metadata": {},
   "outputs": [],
   "source": [
    "####Creating the Histogram \n",
    "#Creating a Histogram with Formatting\n",
    "\n",
    "#Specify the increments (bins) \n",
    "  #to help decide on the best starting and ending point for bins you could calculate the max and min values in the column\n",
    "bins = [40,50,60,70,80,90,100]\n",
    "\n",
    "#Specify a chart size\n",
    "plt.figure(figsize=(12,8))\n",
    "\n",
    "#The histogram will use the values in the bins list to summarise the Overall column in DataFrame\n",
    "  #It will basically count the number of occurences in each band (bin)\n",
    "#You can change the default colour of the chart - do a goodle search for a colour picker and copy the hex code\n",
    "plt.hist(df.Overall, bins=bins, color='#abcdef')\n",
    "\n",
    "#The ticks at the bottom will use the values in the bins list \n",
    "plt.xticks(bins)\n",
    "\n",
    "##Add a title and labels\n",
    "plt.ylabel('Number of Players')\n",
    "plt.xlabel('Skill Level')\n",
    "plt.title('Distribution of Player Skills in FIFA 2018')\n",
    "\n",
    "#Save the chart\n",
    "#plt.savefig('histogram.png', dpi=300)\n",
    "\n",
    "plt.show()\n",
    "\n"
   ]
  },
  {
   "cell_type": "markdown",
   "metadata": {},
   "source": [
    "## 2 Create Pie Charts\n",
    "A Pie Chart is a circular plot which is divided into slices to illustrate numerical proportion. The slices of the pie chart are used to show the proportion of parts out of a whole."
   ]
  },
  {
   "cell_type": "markdown",
   "metadata": {},
   "source": [
    "### Pie Chart #1 - Proportion of Players who Prefer Left Foot or Right Foot"
   ]
  },
  {
   "cell_type": "markdown",
   "metadata": {},
   "source": [
    "#### Examine the Dataframe"
   ]
  },
  {
   "cell_type": "code",
   "execution_count": 19,
   "metadata": {},
   "outputs": [
    {
     "data": {
      "text/html": [
       "<div>\n",
       "<style scoped>\n",
       "    .dataframe tbody tr th:only-of-type {\n",
       "        vertical-align: middle;\n",
       "    }\n",
       "\n",
       "    .dataframe tbody tr th {\n",
       "        vertical-align: top;\n",
       "    }\n",
       "\n",
       "    .dataframe thead th {\n",
       "        text-align: right;\n",
       "    }\n",
       "</style>\n",
       "<table border=\"1\" class=\"dataframe\">\n",
       "  <thead>\n",
       "    <tr style=\"text-align: right;\">\n",
       "      <th></th>\n",
       "      <th>ID</th>\n",
       "      <th>Name</th>\n",
       "      <th>Age</th>\n",
       "      <th>Photo</th>\n",
       "      <th>Nationality</th>\n",
       "      <th>Flag</th>\n",
       "      <th>Overall</th>\n",
       "      <th>Potential</th>\n",
       "      <th>Club</th>\n",
       "      <th>Club Logo</th>\n",
       "      <th>...</th>\n",
       "      <th>Composure</th>\n",
       "      <th>Marking</th>\n",
       "      <th>StandingTackle</th>\n",
       "      <th>SlidingTackle</th>\n",
       "      <th>GKDiving</th>\n",
       "      <th>GKHandling</th>\n",
       "      <th>GKKicking</th>\n",
       "      <th>GKPositioning</th>\n",
       "      <th>GKReflexes</th>\n",
       "      <th>Release Clause</th>\n",
       "    </tr>\n",
       "  </thead>\n",
       "  <tbody>\n",
       "    <tr>\n",
       "      <th>0</th>\n",
       "      <td>158023</td>\n",
       "      <td>L. Messi</td>\n",
       "      <td>31</td>\n",
       "      <td>https://cdn.sofifa.org/players/4/19/158023.png</td>\n",
       "      <td>Argentina</td>\n",
       "      <td>https://cdn.sofifa.org/flags/52.png</td>\n",
       "      <td>94</td>\n",
       "      <td>94</td>\n",
       "      <td>FC Barcelona</td>\n",
       "      <td>https://cdn.sofifa.org/teams/2/light/241.png</td>\n",
       "      <td>...</td>\n",
       "      <td>96.0</td>\n",
       "      <td>33.0</td>\n",
       "      <td>28.0</td>\n",
       "      <td>26.0</td>\n",
       "      <td>6.0</td>\n",
       "      <td>11.0</td>\n",
       "      <td>15.0</td>\n",
       "      <td>14.0</td>\n",
       "      <td>8.0</td>\n",
       "      <td>€226.5M</td>\n",
       "    </tr>\n",
       "    <tr>\n",
       "      <th>1</th>\n",
       "      <td>20801</td>\n",
       "      <td>Cristiano Ronaldo</td>\n",
       "      <td>33</td>\n",
       "      <td>https://cdn.sofifa.org/players/4/19/20801.png</td>\n",
       "      <td>Portugal</td>\n",
       "      <td>https://cdn.sofifa.org/flags/38.png</td>\n",
       "      <td>94</td>\n",
       "      <td>94</td>\n",
       "      <td>Juventus</td>\n",
       "      <td>https://cdn.sofifa.org/teams/2/light/45.png</td>\n",
       "      <td>...</td>\n",
       "      <td>95.0</td>\n",
       "      <td>28.0</td>\n",
       "      <td>31.0</td>\n",
       "      <td>23.0</td>\n",
       "      <td>7.0</td>\n",
       "      <td>11.0</td>\n",
       "      <td>15.0</td>\n",
       "      <td>14.0</td>\n",
       "      <td>11.0</td>\n",
       "      <td>€127.1M</td>\n",
       "    </tr>\n",
       "    <tr>\n",
       "      <th>2</th>\n",
       "      <td>190871</td>\n",
       "      <td>Neymar Jr</td>\n",
       "      <td>26</td>\n",
       "      <td>https://cdn.sofifa.org/players/4/19/190871.png</td>\n",
       "      <td>Brazil</td>\n",
       "      <td>https://cdn.sofifa.org/flags/54.png</td>\n",
       "      <td>92</td>\n",
       "      <td>93</td>\n",
       "      <td>Paris Saint-Germain</td>\n",
       "      <td>https://cdn.sofifa.org/teams/2/light/73.png</td>\n",
       "      <td>...</td>\n",
       "      <td>94.0</td>\n",
       "      <td>27.0</td>\n",
       "      <td>24.0</td>\n",
       "      <td>33.0</td>\n",
       "      <td>9.0</td>\n",
       "      <td>9.0</td>\n",
       "      <td>15.0</td>\n",
       "      <td>15.0</td>\n",
       "      <td>11.0</td>\n",
       "      <td>€228.1M</td>\n",
       "    </tr>\n",
       "    <tr>\n",
       "      <th>3</th>\n",
       "      <td>193080</td>\n",
       "      <td>De Gea</td>\n",
       "      <td>27</td>\n",
       "      <td>https://cdn.sofifa.org/players/4/19/193080.png</td>\n",
       "      <td>Spain</td>\n",
       "      <td>https://cdn.sofifa.org/flags/45.png</td>\n",
       "      <td>91</td>\n",
       "      <td>93</td>\n",
       "      <td>Manchester United</td>\n",
       "      <td>https://cdn.sofifa.org/teams/2/light/11.png</td>\n",
       "      <td>...</td>\n",
       "      <td>68.0</td>\n",
       "      <td>15.0</td>\n",
       "      <td>21.0</td>\n",
       "      <td>13.0</td>\n",
       "      <td>90.0</td>\n",
       "      <td>85.0</td>\n",
       "      <td>87.0</td>\n",
       "      <td>88.0</td>\n",
       "      <td>94.0</td>\n",
       "      <td>€138.6M</td>\n",
       "    </tr>\n",
       "    <tr>\n",
       "      <th>4</th>\n",
       "      <td>192985</td>\n",
       "      <td>K. De Bruyne</td>\n",
       "      <td>27</td>\n",
       "      <td>https://cdn.sofifa.org/players/4/19/192985.png</td>\n",
       "      <td>Belgium</td>\n",
       "      <td>https://cdn.sofifa.org/flags/7.png</td>\n",
       "      <td>91</td>\n",
       "      <td>92</td>\n",
       "      <td>Manchester City</td>\n",
       "      <td>https://cdn.sofifa.org/teams/2/light/10.png</td>\n",
       "      <td>...</td>\n",
       "      <td>88.0</td>\n",
       "      <td>68.0</td>\n",
       "      <td>58.0</td>\n",
       "      <td>51.0</td>\n",
       "      <td>15.0</td>\n",
       "      <td>13.0</td>\n",
       "      <td>5.0</td>\n",
       "      <td>10.0</td>\n",
       "      <td>13.0</td>\n",
       "      <td>€196.4M</td>\n",
       "    </tr>\n",
       "  </tbody>\n",
       "</table>\n",
       "<p>5 rows × 88 columns</p>\n",
       "</div>"
      ],
      "text/plain": [
       "       ID               Name  Age  \\\n",
       "0  158023           L. Messi   31   \n",
       "1   20801  Cristiano Ronaldo   33   \n",
       "2  190871          Neymar Jr   26   \n",
       "3  193080             De Gea   27   \n",
       "4  192985       K. De Bruyne   27   \n",
       "\n",
       "                                            Photo Nationality  \\\n",
       "0  https://cdn.sofifa.org/players/4/19/158023.png   Argentina   \n",
       "1   https://cdn.sofifa.org/players/4/19/20801.png    Portugal   \n",
       "2  https://cdn.sofifa.org/players/4/19/190871.png      Brazil   \n",
       "3  https://cdn.sofifa.org/players/4/19/193080.png       Spain   \n",
       "4  https://cdn.sofifa.org/players/4/19/192985.png     Belgium   \n",
       "\n",
       "                                  Flag  Overall  Potential  \\\n",
       "0  https://cdn.sofifa.org/flags/52.png       94         94   \n",
       "1  https://cdn.sofifa.org/flags/38.png       94         94   \n",
       "2  https://cdn.sofifa.org/flags/54.png       92         93   \n",
       "3  https://cdn.sofifa.org/flags/45.png       91         93   \n",
       "4   https://cdn.sofifa.org/flags/7.png       91         92   \n",
       "\n",
       "                  Club                                     Club Logo  ...  \\\n",
       "0         FC Barcelona  https://cdn.sofifa.org/teams/2/light/241.png  ...   \n",
       "1             Juventus   https://cdn.sofifa.org/teams/2/light/45.png  ...   \n",
       "2  Paris Saint-Germain   https://cdn.sofifa.org/teams/2/light/73.png  ...   \n",
       "3    Manchester United   https://cdn.sofifa.org/teams/2/light/11.png  ...   \n",
       "4      Manchester City   https://cdn.sofifa.org/teams/2/light/10.png  ...   \n",
       "\n",
       "  Composure Marking  StandingTackle SlidingTackle  GKDiving  GKHandling  \\\n",
       "0      96.0    33.0            28.0          26.0       6.0        11.0   \n",
       "1      95.0    28.0            31.0          23.0       7.0        11.0   \n",
       "2      94.0    27.0            24.0          33.0       9.0         9.0   \n",
       "3      68.0    15.0            21.0          13.0      90.0        85.0   \n",
       "4      88.0    68.0            58.0          51.0      15.0        13.0   \n",
       "\n",
       "   GKKicking GKPositioning GKReflexes Release Clause  \n",
       "0       15.0          14.0        8.0        €226.5M  \n",
       "1       15.0          14.0       11.0        €127.1M  \n",
       "2       15.0          15.0       11.0        €228.1M  \n",
       "3       87.0          88.0       94.0        €138.6M  \n",
       "4        5.0          10.0       13.0        €196.4M  \n",
       "\n",
       "[5 rows x 88 columns]"
      ]
     },
     "execution_count": 19,
     "metadata": {},
     "output_type": "execute_result"
    }
   ],
   "source": [
    "#Examine the first five rows of your dataframe\n",
    "df.head(5)"
   ]
  },
  {
   "cell_type": "markdown",
   "metadata": {},
   "source": [
    "#### Filter and Count the Number of Players who Play with their Left Foot. Repeat for the Right Foot."
   ]
  },
  {
   "cell_type": "code",
   "execution_count": 50,
   "metadata": {},
   "outputs": [
    {
     "name": "stdout",
     "output_type": "stream",
     "text": [
      "4162\n",
      "13756\n"
     ]
    }
   ],
   "source": [
    "#Filter & Count - Adding [0] after count will return the number of records in that list\n",
    "left = df['Preferred Foot'].value_counts()['Left']\n",
    "print(left)\n",
    "\n",
    "#Filter & Count - Adding [0] after count will return the number of records in that list\n",
    "right = df['Preferred Foot'].value_counts()['Right']\n",
    "print(right)\n",
    "\n",
    "#Add the results to a list\n",
    "preferredFoot = [left, right]"
   ]
  },
  {
   "cell_type": "markdown",
   "metadata": {},
   "source": [
    "#### Creating and Formatting the Pie Chart"
   ]
  },
  {
   "cell_type": "code",
   "execution_count": 21,
   "metadata": {},
   "outputs": [
    {
     "data": {
      "image/png": "[encoded data removed]",
      "text/plain": [
       "<Figure size 800x500 with 1 Axes>"
      ]
     },
     "metadata": {},
     "output_type": "display_data"
    }
   ],
   "source": [
    "#Set the chart size\n",
    "plt.figure(figsize=(8,5))\n",
    "\n",
    "#specify the labels for each segment - make sure that they match the order of preferredFoot list\n",
    "labels = ['Left', 'Right']\n",
    "#Specify the colours for each segment \n",
    "  #you can use the color picker at w3schools: https://www.w3schools.com/colors/colors_picker.asp\n",
    "colors = ['#abcdef', '#aabbcc']\n",
    "\n",
    "#When drawing a pie chart you need to pass in the values - see the [] part below\n",
    "#Notice the percent notation to round your percentages. Using %% means that you want a % symbol included\n",
    "plt.pie(preferredFoot, labels =labels, colors=colors, autopct='%.2f %%')\n",
    "\n",
    "#Specify the title\n",
    "plt.title('Foot Preference of FIFA Players')\n",
    "\n",
    "#Plot the chart\n",
    "plt.show()"
   ]
  },
  {
   "cell_type": "markdown",
   "metadata": {},
   "source": [
    "### Pie Chart #2 - A Pie Chart Showing the Proportion of Players in Different Weight Categories\n",
    "\n",
    "Weight categories:\n",
    "* less then 125lbs\n",
    "* greater than or equal to 125lbs and less than 150lbs \n",
    "* greater than or equal to 150lbs and less than 175lbs \n",
    "* greater than or equal to 175lbs and less than 200lbs \n",
    "* greater than or equal to 200lbs "
   ]
  },
  {
   "cell_type": "markdown",
   "metadata": {},
   "source": [
    "#### Analysing the Values in the Weight Column"
   ]
  },
  {
   "cell_type": "code",
   "execution_count": 22,
   "metadata": {},
   "outputs": [
    {
     "data": {
      "text/plain": [
       "0        159lbs\n",
       "1        183lbs\n",
       "2        150lbs\n",
       "3        168lbs\n",
       "4        154lbs\n",
       "          ...  \n",
       "18202    134lbs\n",
       "18203    170lbs\n",
       "18204    148lbs\n",
       "18205    154lbs\n",
       "18206    176lbs\n",
       "Name: Weight, Length: 17918, dtype: object"
      ]
     },
     "execution_count": 22,
     "metadata": {},
     "output_type": "execute_result"
    }
   ],
   "source": [
    "#Display the content of the Weight column - to see the format of the data\n",
    "df.Weight"
   ]
  },
  {
   "cell_type": "code",
   "execution_count": 23,
   "metadata": {},
   "outputs": [
    {
     "data": {
      "text/plain": [
       "dtype('O')"
      ]
     },
     "execution_count": 23,
     "metadata": {},
     "output_type": "execute_result"
    }
   ],
   "source": [
    "#What datatype is Weight\n",
    "df.Weight.dtypes"
   ]
  },
  {
   "cell_type": "code",
   "execution_count": 24,
   "metadata": {},
   "outputs": [
    {
     "data": {
      "text/plain": [
       "0        159\n",
       "1        183\n",
       "2        150\n",
       "3        168\n",
       "4        154\n",
       "        ... \n",
       "18202    134\n",
       "18203    170\n",
       "18204    148\n",
       "18205    154\n",
       "18206    176\n",
       "Name: Weight, Length: 17918, dtype: int64"
      ]
     },
     "execution_count": 24,
     "metadata": {},
     "output_type": "execute_result"
    }
   ],
   "source": [
    "#To be able to filter the data we have to get rid of the text in the column\n",
    "#This code will strip lbs off the string and make the value numeric - this is a shorthand way of writing an If.. Else in Python \n",
    "df.Weight = [int(x.strip('lbs')) if type(x)==str else x for x in df.Weight]\n",
    "df.Weight"
   ]
  },
  {
   "cell_type": "code",
   "execution_count": 25,
   "metadata": {},
   "outputs": [
    {
     "data": {
      "text/plain": [
       "dtype('int64')"
      ]
     },
     "execution_count": 25,
     "metadata": {},
     "output_type": "execute_result"
    }
   ],
   "source": [
    "#What datatype is Weight now\n",
    "df.Weight.dtypes"
   ]
  },
  {
   "cell_type": "markdown",
   "metadata": {},
   "source": [
    "#### Filter & Count the Number in Each Weight Category"
   ]
  },
  {
   "cell_type": "code",
   "execution_count": 26,
   "metadata": {},
   "outputs": [
    {
     "name": "stdout",
     "output_type": "stream",
     "text": [
      "[41, 2264, 10725, 4523, 365]\n"
     ]
    }
   ],
   "source": [
    "#Filtering the data into Weight Categories and Counting the Numbers\n",
    "light = df.Weight[df.Weight < 125].count()\n",
    "\n",
    "light_medium = df.Weight[(df.Weight >= 125) & (df.Weight < 150)].count()\n",
    "\n",
    "medium = df.Weight[(df.Weight >= 150) & (df.Weight < 175)].count()\n",
    "\n",
    "medium_heavy = df.Weight[(df.Weight >= 175) & (df.Weight < 200)].count()\n",
    "\n",
    "heavy = df.Weight[df.Weight >= 200].count()\n",
    "\n",
    "#Add the results to a list\n",
    "weights = [light,light_medium, medium, medium_heavy, heavy]\n",
    "print(weights)"
   ]
  },
  {
   "cell_type": "markdown",
   "metadata": {},
   "source": [
    "#### Creating and Formatting the Pie Chart"
   ]
  },
  {
   "cell_type": "code",
   "execution_count": 73,
   "metadata": {},
   "outputs": [
    {
     "data": {
      "image/png": "[encoded data removed]",
      "text/plain": [
       "<Figure size 800x500 with 1 Axes>"
      ]
     },
     "metadata": {},
     "output_type": "display_data"
    }
   ],
   "source": [
    "#Set the chart size\n",
    "plt.figure(figsize=(8,5), dpi=100)\n",
    "\n",
    "#Choose a colour scheme style - check out the various colour schemes here\n",
    " #https://tonysyu.github.io/raw_content/matplotlib-style-gallery/gallery.html\n",
    " #notice that we don't need to use the color parameter if we choose the style\n",
    "plt.style.use('dark_background')\n",
    "\n",
    "#specify the labels for each segment - make sure that they match the order of the weights list\n",
    "label = ['under 125', '125-150', '150-175', '175-200', 'over 200']\n",
    "\n",
    "#If values are difficult to see in your chart you can break the pie chart apart\n",
    "#explode = (.1,.1,.1,.1,.1)\n",
    "#Or - You can choose different values for each segment\n",
    "explode = (.4,.2,.1,0,.4)\n",
    "\n",
    "plt.title('Weight of Professional Soccer Players (lbs)')\n",
    "\n",
    "#plot the chart specifying parameters\n",
    "  #pctdistance is the distance of your label from the centre of the pie chart\n",
    "plt.pie(weights, labels=label, explode=explode, pctdistance=0.8,autopct='%.2f %%')\n",
    "plt.show()"
   ]
  },
  {
   "cell_type": "markdown",
   "metadata": {},
   "source": [
    "### Pie Chart #3 - Create a Pie Chart to Show the Proportion of Players in Different Age Categories\n",
    "\n",
    "Age Categories:\n",
    "* less than 20\n",
    "* greater than or equal to 20 and less than 25 \n",
    "* greater than or equal to 25 and less than 30 \n",
    "* greater than or equal to 30 and less than 35 \n",
    "* greater than or equal to 35 and less than 40 \n",
    "* greater than or equal to 40"
   ]
  },
  {
   "cell_type": "markdown",
   "metadata": {},
   "source": [
    "#### Filter & Count the Number in Each Age Category"
   ]
  },
  {
   "cell_type": "code",
   "execution_count": 78,
   "metadata": {},
   "outputs": [
    {
     "name": "stdout",
     "output_type": "stream",
     "text": [
      "[2075, 6600, 5805, 2958, 459, 21]\n"
     ]
    }
   ],
   "source": [
    "#Filtering the data into Age Categories and Counting the Numbers\n",
    "\n",
    "age_teen = df[df['Age'] < 20]['Age'].count()\n",
    "\n",
    "age_young_adult = df[(df['Age'] >= 20) & (df['Age'] < 25)]['Age'].count()\n",
    "\n",
    "age_adult = df[(df['Age'] >= 25) & (df['Age'] < 30)]['Age'].count()\n",
    "\n",
    "age_established = df[(df['Age'] >= 30) & (df['Age'] < 35)]['Age'].count()\n",
    "\n",
    "age_experienced = df[(df['Age'] >= 35) & (df['Age'] < 40)]['Age'].count()\n",
    "\n",
    "age_senior = df[df['Age'] >= 40]['Age'].count()\n",
    "\n",
    "#Add the results to a list\n",
    "ageBands = [age_teen, age_young_adult, age_adult, age_established, age_experienced, age_senior]\n",
    "print(ageBands)"
   ]
  },
  {
   "cell_type": "markdown",
   "metadata": {},
   "source": [
    "#### Creating and Formatting the Pie Chart"
   ]
  },
  {
   "cell_type": "code",
   "execution_count": 143,
   "metadata": {},
   "outputs": [
    {
     "data": {
      "image/png": "[encoded data removed]",
      "text/plain": [
       "<Figure size 1200x840 with 1 Axes>"
      ]
     },
     "metadata": {},
     "output_type": "display_data"
    }
   ],
   "source": [
    "#Add a Title, Add Labels, and Explode the Pie Chart if Necessary (you will need 6 parameters with explode if you have 6 segments)\n",
    "#Choose your own colours for the segments - you will have to look at the first Pie Chart example\n",
    "  #you will need to create a colors list and use the color parameter when plotting the chart\n",
    "\n",
    "#Set the chart size\n",
    "plt.figure(figsize=(10,7), dpi=120)\n",
    "\n",
    "#Choose a colour scheme style - check out the various colour schemes here\n",
    " #https://tonysyu.github.io/raw_content/matplotlib-style-gallery/gallery.html\n",
    " #notice that we don't need to use the color parameter if we choose the style\n",
    "plt.style.use('ggplot')\n",
    "\n",
    "#specify the labels for each segment - make sure that they match the order of the weights list\n",
    "label = ['under 20', '20-25', '25-30', '30-35', '35-40', 'over 40']\n",
    "\n",
    "\n",
    "#If values are difficult to see in your chart you can break the pie chart apart\n",
    "#explode = (.1,.1,.1,.1,.1)\n",
    "\n",
    "#Or - You can choose different values for each segment\n",
    "#explode = (0.1,0,0,0,0.6,0.6)\n",
    "\n",
    "#plt.title('Age of Professional Soccer Players')\n",
    "\n",
    "#plot the chart specifying parameters\n",
    "  #pctdistance is the distance of your label from the centre of the pie chart\n",
    "#plt.pie(ageBands, labels=label, explode=explode, pctdistance=0.8,autopct='%.2f %%')\n",
    "\n",
    "# Specify text properties with a dictionary\n",
    "textprops = {\"color\":\"black\", 'fontsize': 14}\n",
    "\n",
    "# Custom colors for each segment\n",
    "#colors = ['#ff9999','red','#99ff99','#ffcc99','#c2c2f0','#ffb3e6']\n",
    "\n",
    "plt.title('Age of Professional Soccer Players', color='black', fontdict={'weight': 'bold'})\n",
    "\n",
    "# Plot the chart specifying parameters and using custom text properties and colors\n",
    "plt.pie(ageBands, labels=label, explode=explode, pctdistance=0.8, autopct='%.2f %%', textprops=textprops) #colors=colors explode=explode auto fixes the chart so nothing is obscured. Fix spacing\n",
    "\n",
    "plt.show()\n"
   ]
  },
  {
   "cell_type": "markdown",
   "metadata": {},
   "source": [
    "## 3 Create Box and Whiskers Charts \n",
    "  "
   ]
  },
  {
   "cell_type": "markdown",
   "metadata": {},
   "source": [
    "A Box and Whisker Plot (or Box Plot) is a convenient way of visually displaying the data distribution through their quartiles.\n",
    "\n",
    "The lines extending parallel from the boxes are known as the “whiskers”, which are used to indicate variability outside the upper and lower quartiles. Outliers are sometimes plotted as individual dots that are in-line with whiskers. Box Plots can be drawn either vertically or horizontally.\n",
    "\n",
    "Although Box Plots may seem primitive in comparison to a Histogram or Density Plot, they have the advantage of taking up less space, which is useful when comparing distributions between many groups or datasets.\n",
    "\n",
    "Here are the types of observations one can make from viewing a Box Plot:\n",
    "* What the key values are, such as: the average, median 25th percentile etc.\n",
    "* If there are any outliers and what their values are.\n",
    "* Is the data symmetrical.\n",
    "* How tightly is the data grouped.\n",
    "* If the data is skewed and if so, in what direction."
   ]
  },
  {
   "attachments": {
    "image.png": {
     "image/png": "[encoded data removed]"
    }
   },
   "cell_type": "markdown",
   "metadata": {},
   "source": [
    "![image.png](attachment:image.png)"
   ]
  },
  {
   "cell_type": "markdown",
   "metadata": {},
   "source": [
    "### Box and Whiskers Chart #1 - Show Overall Performance Scores for Players in Different Teams"
   ]
  },
  {
   "cell_type": "markdown",
   "metadata": {},
   "source": [
    "#### Extracting the Overall Results for Players in Each Club"
   ]
  },
  {
   "cell_type": "code",
   "execution_count": 145,
   "metadata": {},
   "outputs": [
    {
     "name": "stdout",
     "output_type": "stream",
     "text": [
      "33\n"
     ]
    }
   ],
   "source": [
    "#Extract the Overall performance score for players from each of the following teams - we will use these values in our chart\n",
    "barcelona = df.loc[df.Club == \"FC Barcelona\"]['Overall']\n",
    "madrid = df.loc[df.Club == \"Real Madrid\"]['Overall']\n",
    "dc = df.loc[df.Club == \"Derry City\"]['Overall']\n",
    "\n",
    "#Add the results to a list\n",
    "clubsPerformance = [barcelona, madrid, dc]\n",
    "\n",
    "#Uncomment the lines below to Explore the results of the extracted data - what is this?\n",
    "#print(barcelona)\n",
    "print(barcelona.count())"
   ]
  },
  {
   "cell_type": "markdown",
   "metadata": {},
   "source": [
    "#### Fomatted Box and Whisker Chart"
   ]
  },
  {
   "cell_type": "code",
   "execution_count": 146,
   "metadata": {},
   "outputs": [
    {
     "data": {
      "image/png": "[encoded data removed]",
      "text/plain": [
       "<Figure size 500x800 with 1 Axes>"
      ]
     },
     "metadata": {},
     "output_type": "display_data"
    }
   ],
   "source": [
    "plt.figure(figsize=(5,8), dpi=100)\n",
    "\n",
    "plt.style.use('default')\n",
    "\n",
    "#specify the labels for each segment - make sure that they match the order of the clubs list\n",
    "label = ['FC Barcelona','Real Madrid','Derry City']\n",
    "\n",
    "#Plot the chart using required parameters\n",
    "#patch_artist is a facecolour\n",
    "bp = plt.boxplot(clubsPerformance, labels=label, patch_artist=True, medianprops={'linewidth': 2})\n",
    "\n",
    "plt.title('Overall Perfomance Rating Comparison')\n",
    "plt.ylabel('FIFA Overall Rating')\n",
    "\n",
    "#We can style the boxes\n",
    "for box in bp['boxes']:\n",
    "    # change outline color\n",
    "    box.set(color='#4286f4', linewidth=2)\n",
    "    # change fill color to grey - but you must set patch_artist property to True - see above\n",
    "    box.set(facecolor = '#e0e0e0' )\n",
    "    # change hatch\n",
    "    #box.set(hatch = '/')\n",
    "    \n",
    "plt.show()"
   ]
  },
  {
   "cell_type": "markdown",
   "metadata": {},
   "source": [
    "### Box and Whiskers Chart #2 - Create a Box & Whiskers Chart to Show the Ages of Players in Different Teams\n",
    "\n",
    "Extract the Ages of Players at Juventus, Manchester City, Manchester United & Derry City\n",
    "* Provide a meaningful title\n",
    "* Provide a meaningful y label\n",
    "* Provide a meaningful label list - you have 4 teams, you will need 4 labels\n",
    "* Make the box colour different from the boxes in the example above"
   ]
  },
  {
   "cell_type": "markdown",
   "metadata": {},
   "source": [
    "#### Extracting the Age of Players in Each Club"
   ]
  },
  {
   "cell_type": "code",
   "execution_count": 172,
   "metadata": {},
   "outputs": [
    {
     "name": "stdout",
     "output_type": "stream",
     "text": [
      "25\n"
     ]
    }
   ],
   "source": [
    "#Extract the Overall performance score for players from each of the following teams - we will use these values in our chart\n",
    "juventus = df.loc[df.Club == \"Juventus\"]['Age']\n",
    "manchesterCity = df.loc[df.Club == \"Manchester City\"]['Age']\n",
    "manchesterUtd = df.loc[df.Club == \"Manchester United\"]['Age']\n",
    "dc = df.loc[df.Club == \"Derry City\"]['Age']\n",
    "\n",
    "#Add the results to a list\n",
    "clubsAge = [juventus, manchesterCity, manchesterUtd, dc]\n",
    "\n",
    "#Uncomment the lines below to Explore the results of the extracted data - what is this?\n",
    "#print(juventus)\n",
    "print(juventus.count())"
   ]
  },
  {
   "cell_type": "code",
   "execution_count": 150,
   "metadata": {},
   "outputs": [
    {
     "name": "stdout",
     "output_type": "stream",
     "text": [
      "651\n"
     ]
    }
   ],
   "source": [
    "print(df['Club'].nunique())"
   ]
  },
  {
   "cell_type": "code",
   "execution_count": 159,
   "metadata": {},
   "outputs": [],
   "source": [
    "temp_df = df['Club'].nunique()"
   ]
  },
  {
   "cell_type": "markdown",
   "metadata": {},
   "source": [
    "### Below not required for this task but may be useful for assignment\n",
    "\n",
    "Assuming clubsAges is a dictionary with club names as keys and lists of ages as values\n",
    "clubsAges = df.groupby('Club')['Age'].apply(list).to_dict()\n",
    "\n",
    "Print the entire dictionary if needed\n",
    "print(clubsAges)\n",
    "\n",
    "Print ages of players from Juventus as an example\n",
    "print(clubsAges['Juventus'])\n",
    "\n",
    "To iterate over the dictionary and print player ages for each club\n",
    "for club, ages in clubsAges.items():\n",
    "    print(f\"{club} player ages:\", ages)\n",
    "\n",
    "If you want a list of all ages across all clubs\n",
    "list_of_all_ages = [age for ages in clubsAges.values() for age in ages]\n"
   ]
  },
  {
   "cell_type": "code",
   "execution_count": 170,
   "metadata": {},
   "outputs": [
    {
     "name": "stdout",
     "output_type": "stream",
     "text": [
      "{' SSV Jahn Regensburg': [32, 33, 29, 25, 25, 29, 25, 25, 26, 28, 27, 26, 24, 22, 23, 33, 22, 28, 26, 22, 27, 19, 31, 24, 24, 23, 20, 25, 21], '1. FC Heidenheim 1846': [32, 27, 30, 27, 31, 29, 23, 27, 31, 25, 23, 24, 27, 25, 23, 20, 23, 21, 25, 19, 24, 23, 21, 17, 18, 18, 21, 18], '1. FC Kaiserslautern': [23, 28, 25, 26, 27, 27, 32, 25, 21, 33, 27, 22, 25, 20, 21, 23, 21, 32, 20, 20, 23, 22, 19, 20, 19, 19], '1. FC Köln': [25, 28, 21, 30, 22, 28, 23, 28, 27, 25, 28, 27, 26, 28, 26, 35, 22, 32, 20, 22, 23, 21, 21, 20, 18, 17, 19, 19], '1. FC Magdeburg': [31, 27, 26, 30, 32, 30, 22, 24, 21, 30, 21, 25, 29, 27, 23, 22, 23, 22, 23, 22, 20, 25, 25, 23, 19, 20], '1. FC Nürnberg': [22, 28, 29, 24, 24, 29, 24, 25, 26, 23, 29, 24, 26, 21, 34, 23, 25, 23, 21, 24, 21, 23, 24, 20, 19, 20, 22, 19, 18], '1. FC Union Berlin': [30, 31, 27, 26, 27, 32, 29, 27, 31, 26, 21, 26, 22, 24, 22, 25, 22, 23, 23, 31, 23, 32, 23, 29, 20, 18, 19, 18], '1. FSV Mainz 05': [22, 33, 21, 28, 29, 26, 24, 24, 22, 24, 27, 22, 31, 27, 28, 27, 21, 25, 22, 26, 23, 24, 24, 20, 23, 20, 19, 22, 17, 20, 19, 18], 'AC Ajaccio': [33, 36, 32, 29, 32, 21, 31, 33, 27, 30, 32, 25, 28, 22, 27, 22, 18, 33, 30, 24, 19, 18, 20], 'AC Horsens': [26, 30, 25, 25, 33, 35, 21, 24, 24, 33, 27, 20, 24, 23, 25, 26, 35, 22, 20, 23, 25, 23, 19, 18, 19], 'AD Alcorcón': [33, 33, 27, 29, 35, 33, 28, 30, 26, 27, 22, 26, 31, 26, 26, 33, 27, 30, 25, 25, 20, 25, 21, 25, 33, 19, 21, 22, 22], 'ADO Den Haag': [29, 24, 23, 28, 27, 32, 30, 30, 35, 20, 29, 23, 21, 21, 23, 29, 30, 26, 25, 20, 23, 23, 21, 19, 21, 22, 19, 18], 'AEK Athens': [24, 28, 26, 31, 28, 24, 31, 25, 29, 27, 21, 22, 25, 25, 27, 20, 25, 23, 28, 23, 25, 24, 23, 25, 19, 23, 19, 17], 'AFC Wimbledon': [25, 29, 27, 26, 28, 29, 31, 26, 22, 30, 24, 22, 23, 31, 23, 22, 21, 24, 18, 19, 21, 18, 19, 18, 21, 17], 'AIK': [23, 32, 30, 33, 33, 26, 27, 21, 27, 24, 28, 24, 28, 26, 29, 28, 32, 23, 29, 26, 28, 18, 38, 18, 17, 19, 17], 'AJ Auxerre': [30, 28, 29, 26, 31, 35, 26, 24, 32, 29, 22, 21, 24, 24, 27, 22, 37, 22, 22, 32, 24, 20, 18, 21, 16, 18, 20], 'AS Béziers': [34, 35, 25, 23, 33, 27, 25, 30, 24, 22, 27, 26, 26, 26, 23, 26, 23, 18, 25, 28, 24, 23, 24, 24, 27], 'AS Monaco': [32, 33, 30, 22, 22, 25, 28, 21, 25, 28, 34, 21, 24, 23, 34, 21, 26, 22, 21, 20, 23, 19, 22, 17, 20, 18, 22, 18, 16, 20, 21, 16, 17], 'AS Nancy Lorraine': [31, 26, 29, 30, 32, 32, 20, 24, 25, 27, 32, 25, 20, 29, 33, 23, 25, 19, 32, 21, 22, 25, 28, 22, 19, 22, 20, 18, 18, 19], 'AS Saint-Étienne': [31, 32, 28, 32, 28, 27, 23, 31, 27, 26, 29, 27, 25, 20, 20, 29, 32, 24, 17, 20, 20, 20, 21, 21], 'AZ Alkmaar': [25, 24, 27, 20, 33, 20, 28, 28, 26, 27, 24, 22, 22, 22, 21, 26, 25, 31, 19, 21, 23, 21, 20, 18, 20, 17, 21, 21, 20, 20], 'Aalborg BK': [26, 23, 25, 25, 28, 34, 27, 23, 25, 21, 35, 28, 21, 22, 23, 31, 22, 20, 19, 24, 17, 20, 17, 21, 18, 18, 18], 'Aarhus GF': [29, 21, 27, 29, 25, 28, 26, 29, 28, 24, 24, 21, 25, 30, 21, 28, 31, 23, 26, 17, 18, 18, 21, 18, 18, 18, 19], 'Aberdeen': [26, 30, 30, 30, 27, 21, 29, 25, 31, 21, 22, 24, 25, 33, 29, 31, 24, 18, 22, 20, 19, 21, 20, 19, 18, 20, 17], 'Accrington Stanley': [25, 27, 25, 31, 29, 29, 24, 21, 26, 33, 23, 26, 31, 30, 25, 20, 21, 21, 20, 19, 24, 22, 21, 21, 20, 19, 44, 18], 'Adelaide United': [31, 31, 30, 32, 23, 26, 24, 31, 26, 29, 24, 33, 31, 23, 23, 21, 20, 22, 21, 16, 17, 19, 18, 19, 19], 'Ajax': [25, 18, 21, 29, 22, 25, 28, 21, 34, 32, 21, 20, 26, 25, 26, 20, 22, 19, 20, 20, 18, 20, 20, 20, 20, 22, 20, 18, 19, 18], 'Akhisar Belediyespor': [27, 31, 32, 26, 30, 31, 29, 30, 32, 31, 29, 28, 31, 32, 35, 31, 24, 30, 30, 32, 25, 28, 38, 28, 23, 18], 'Al Ahli': [29, 29, 32, 27, 32, 26, 23, 32, 26, 30, 24, 29, 31, 34, 33, 26, 27, 28, 27, 21, 28, 20, 21, 20, 21, 19, 22, 21, 21, 19], 'Al Batin': [27, 35, 31, 27, 31, 29, 21, 27, 28, 28, 28, 31, 34, 26, 25, 26, 24, 20, 20, 22, 19, 28, 21, 20, 21, 19, 21, 26, 19, 19], 'Al Faisaly': [31, 31, 27, 29, 28, 29, 31, 30, 31, 28, 32, 31, 34, 24, 27, 30, 28, 27, 21, 27, 23, 23, 20, 20, 20, 20, 24, 25, 21, 21], 'Al Fateh': [29, 26, 25, 25, 27, 27, 25, 28, 27, 32, 26, 30, 22, 28, 25, 24, 30, 22, 24, 23, 21, 21, 23, 21, 22, 22, 21, 21], 'Al Fayha': [28, 29, 27, 33, 30, 25, 24, 28, 25, 30, 32, 25, 25, 28, 28, 26, 30, 28, 27, 29, 37, 21, 22, 20, 19, 20, 19, 21], 'Al Hazem': [25, 25, 25, 29, 31, 27, 27, 26, 28, 24, 25, 27, 26, 27, 29, 22, 25, 27, 24, 32, 29, 26, 26, 26, 19, 24, 24, 19, 20, 22], 'Al Hilal': [32, 27, 28, 26, 24, 28, 28, 29, 26, 29, 26, 36, 25, 25, 27, 32, 23, 28, 25, 30, 37, 31, 25, 24, 25, 19, 22, 22, 22, 21], 'Al Ittihad': [33, 32, 23, 27, 23, 26, 26, 29, 28, 26, 26, 32, 25, 30, 34, 23, 24, 27, 24, 23, 24, 21, 21, 25, 21, 19, 21, 22, 22, 23], 'Al Nassr': [28, 29, 25, 36, 27, 27, 32, 29, 28, 31, 27, 28, 30, 25, 30, 29, 24, 24, 32, 27, 21, 20, 23, 22, 26, 18, 19, 20], 'Al Qadisiyah': [32, 29, 24, 27, 22, 31, 28, 34, 26, 33, 24, 25, 25, 24, 25, 24, 24, 29, 20, 24, 23, 19, 23, 21, 22, 25, 19, 22, 22, 21], 'Al Raed': [33, 27, 28, 30, 27, 26, 31, 25, 27, 24, 24, 25, 25, 31, 24, 27, 29, 27, 27, 23, 27, 21, 23, 20, 26, 23, 21, 19, 20], 'Al Shabab': [29, 29, 29, 28, 27, 34, 26, 29, 25, 23, 34, 26, 32, 18, 21, 24, 23, 26, 20, 18, 18, 22, 24, 20, 23, 23, 19, 19, 19, 21], 'Al Taawoun': [29, 37, 35, 29, 28, 28, 29, 25, 31, 28, 23, 31, 23, 31, 26, 29, 29, 23, 28, 26, 23, 23, 21, 20, 23, 21, 20, 21, 19], 'Al Wehda': [27, 25, 29, 31, 25, 33, 22, 34, 28, 28, 25, 30, 24, 26, 26, 28, 21, 27, 20, 23, 25, 21, 24, 22, 19, 21, 19, 20, 18], 'Alanyaspor': [29, 33, 31, 33, 26, 20, 31, 29, 24, 28, 30, 30, 31, 32, 24, 27, 29, 28, 27, 34, 31, 29, 30, 30, 23, 19, 18, 20, 20, 20], 'Albacete BP': [33, 28, 29, 27, 29, 22, 33, 20, 25, 29, 23, 25, 24, 21, 30, 21, 31, 34, 25, 24, 22, 20, 20, 22, 19, 22, 18, 21, 18], 'Alianza Petrolera': [31, 28, 27, 32, 24, 26, 24, 30, 23, 28, 21, 25, 26, 24, 25, 32, 27, 23, 25, 23, 26, 25, 24, 20, 21, 21, 21, 20], 'Amiens SC': [31, 28, 27, 25, 25, 24, 24, 23, 32, 28, 21, 27, 24, 23, 26, 25, 35, 24, 24, 24, 29, 20, 23, 18, 19, 18, 19, 21, 18], 'América FC (Minas Gerais)': [30, 26, 30, 26, 26, 34, 26, 26, 30, 30, 34, 30, 26, 26, 26, 30, 26, 30, 30, 30], 'América de Cali': [27, 30, 31, 26, 27, 27, 33, 26, 26, 33, 23, 27, 29, 24, 34, 30, 33, 27, 24, 29, 25, 19, 18, 34, 19, 25, 18, 20], 'Angers SCO': [30, 31, 31, 35, 31, 25, 23, 28, 21, 28, 24, 27, 28, 26, 29, 29, 20, 29, 32, 24, 26, 29, 20, 21, 21, 29, 25, 22, 17, 17], 'Antalyaspor': [28, 29, 29, 31, 32, 26, 32, 30, 26, 30, 24, 33, 27, 28, 29, 33, 29, 32, 31, 27, 21, 20, 25, 26, 19, 22, 25, 22, 18, 20], 'Argentinos Juniors': [34, 31, 22, 29, 18, 25, 22, 20, 33, 19, 35, 22, 31, 29, 25, 21, 21, 20, 22, 22, 27, 22, 21, 17, 20, 19, 17, 21], 'Arka Gdynia': [29, 32, 31, 27, 22, 29, 28, 25, 25, 24, 30, 25, 31, 31, 23, 30, 31, 26, 34, 20, 21, 17, 17, 24, 17, 18, 20], 'Arsenal': [29, 29, 27, 26, 30, 29, 22, 26, 27, 32, 36, 25, 23, 32, 25, 34, 22, 27, 25, 22, 25, 19, 20, 26, 20, 21, 21, 17, 19, 22, 18, 17, 19], 'Ascoli': [31, 23, 23, 29, 27, 29, 25, 23, 33, 24, 29, 29, 28, 26, 28, 25, 28, 24, 26, 23, 18, 20, 21, 21, 29, 21, 22, 21, 20, 19], 'Aston Villa': [22, 30, 29, 29, 27, 23, 28, 20, 23, 33, 30, 20, 27, 27, 22, 33, 26, 29, 30, 34, 33, 30, 20, 20, 19, 20, 20, 21, 17, 19], 'Atalanta': [30, 30, 32, 27, 25, 27, 26, 23, 27, 28, 24, 23, 24, 22, 23, 22, 20, 22, 19, 21, 25, 23, 19, 27], 'Athletic Club de Bilbao': [28, 37, 24, 25, 30, 31, 31, 27, 29, 26, 29, 23, 23, 28, 21, 30, 21, 22, 33, 25, 21, 26, 20, 21, 19, 21, 18, 20, 18, 20, 21], 'Atiker Konyaspor': [26, 27, 33, 31, 29, 28, 29, 29, 26, 34, 24, 23, 27, 27, 26, 28, 32, 27, 23, 25, 24, 30, 31, 27, 21, 25, 21], 'Atlanta United': [25, 24, 23, 26, 27, 33, 19, 24, 23, 26, 34, 34, 23, 31, 30, 27, 29, 18, 23, 19, 24, 31, 21, 21, 23, 22, 19, 18, 22], 'Atlético Bucaramanga': [27, 28, 34, 29, 29, 22, 31, 37, 36, 25, 21, 26, 29, 32, 22, 28, 24, 25, 26, 27, 24, 27, 21, 20, 20, 27, 20, 23], 'Atlético Huila': [22, 28, 22, 29, 21, 40, 24, 25, 24, 30, 23, 21, 33, 24, 17, 33, 24, 27, 20, 21, 21, 23, 23, 20, 19, 17, 19, 16], 'Atlético Madrid': [25, 32, 27, 23, 26, 29, 32, 23, 22, 27, 31, 22, 23, 22, 25, 23, 28, 33, 30, 26, 22, 18, 19, 19, 20, 20, 20, 20, 19, 21, 22, 18, 17], 'Atlético Mineiro': [26, 30, 34, 30, 30, 26, 26, 26, 26, 34, 26, 30, 30, 30, 26, 30, 26, 26, 34, 30], 'Atlético Nacional': [29, 31, 37, 31, 25, 29, 30, 25, 23, 35, 24, 26, 24, 25, 22, 22, 28, 22, 25, 24, 20, 19, 21, 18, 18, 17, 19, 18], 'Atlético Paranaense': [26, 34, 26, 30, 30, 30, 34, 30, 34, 34, 26, 34, 34, 26, 26, 34, 30, 30, 34, 26], 'Atlético Tucumán': [33, 29, 31, 30, 38, 40, 27, 29, 35, 28, 32, 29, 23, 25, 26, 28, 29, 31, 28, 34, 23, 22, 26, 21, 24, 18, 22, 17], 'Audax Italiano': [27, 31, 23, 29, 22, 24, 22, 22, 24, 24, 32, 22, 24, 32, 21, 29, 29, 19, 27, 22, 19, 18, 19, 26, 20, 22, 18, 19], 'BB Erzurumspor': [33, 31, 27, 27, 26, 26, 28, 35, 28, 26, 27, 29, 29, 26, 30, 28, 23, 31, 27, 29, 18, 27, 29, 20, 20], 'BK Häcken': [32, 33, 29, 24, 27, 35, 20, 32, 30, 24, 29, 28, 30, 23, 31, 24, 34, 21, 26, 20, 20, 25, 17, 19, 17, 18, 19], 'BSC Young Boys': [34, 23, 29, 24, 35, 25, 24, 26, 23, 21, 28, 35, 23, 24, 22, 23, 21, 20, 19, 21, 20, 18, 21, 19], 'Bahia': [30, 26, 30, 26, 34, 30, 30, 34, 26, 34, 30, 26, 34, 30, 34, 30, 26, 26, 34, 30], 'Barnsley': [25, 23, 25, 24, 25, 23, 23, 25, 22, 25, 24, 25, 23, 23, 25, 23, 22, 22, 20, 18, 20, 20, 19, 20, 20, 19, 18, 18], 'Bayer 04 Leverkusen': [28, 22, 29, 22, 20, 28, 25, 29, 29, 19, 25, 30, 27, 24, 24, 24, 22, 34, 19, 23, 26, 17, 31, 19, 18, 19], 'Beijing Renhe FC': [32, 29, 30, 25, 36, 34, 29, 33, 30, 29, 27, 32, 28, 28, 27, 28, 29, 21, 22, 27, 21, 21, 29, 24, 21, 28, 22, 20], 'Beijing Sinobo Guoan FC': [27, 28, 30, 32, 27, 23, 28, 28, 28, 30, 26, 27, 35, 29, 25, 30, 28, 29, 22, 24, 20, 29, 21, 21, 20, 28, 21, 18], 'Belgrano de Córdoba': [30, 31, 27, 23, 23, 31, 25, 22, 26, 21, 34, 26, 28, 28, 24, 22, 30, 24, 36, 28, 23, 20, 20, 18, 20, 16, 17], 'Benevento': [36, 28, 37, 24, 21, 32, 29, 33, 24, 26, 31, 28, 24, 28, 25, 23, 24, 24, 24, 22, 20, 28, 38, 22, 21], 'Beşiktaş JK': [35, 34, 30, 29, 26, 25, 31, 25, 30, 33, 34, 26, 33, 29, 25, 27, 23, 27, 34, 29, 20, 21, 19, 20, 22, 18, 19, 17], 'Birmingham City': [27, 23, 21, 26, 26, 31, 26, 30, 28, 30, 29, 36, 32, 27, 27, 21, 33, 24, 22, 21, 24, 25, 22, 22, 23, 19, 20, 19, 21, 21], 'Blackburn Rovers': [24, 32, 23, 24, 25, 29, 22, 27, 21, 32, 19, 27, 21, 27, 24, 24, 20, 33, 23, 26, 29, 19, 21, 26, 18, 20, 20, 20, 19, 18], 'Blackpool': [29, 31, 29, 23, 30, 31, 23, 26, 24, 24, 26, 31, 25, 24, 27, 23, 24, 26, 20, 21, 20, 21, 24, 25, 29, 20, 17, 18], 'Boavista FC': [33, 28, 32, 37, 26, 28, 34, 25, 28, 26, 23, 27, 27, 24, 23, 28, 27, 28, 22, 22, 26, 26, 23, 28, 17, 23, 18], 'Boca Juniors': [22, 28, 29, 24, 34, 27, 32, 28, 31, 22, 24, 27, 29, 33, 27, 29, 25, 22, 26, 22, 23, 23, 31, 22, 18, 19, 20], 'Bohemian FC': [27, 29, 27, 33, 23, 22, 26, 22, 20, 21, 22, 24, 18, 20, 17, 21, 19, 20, 19, 17, 18, 19, 17, 16, 20], 'Bologna': [28, 24, 31, 36, 34, 32, 30, 23, 27, 27, 22, 25, 25, 34, 27, 27, 22, 21, 23, 25, 22, 20, 26, 19, 20, 26, 18], 'Bolton Wanderers': [26, 28, 28, 31, 31, 27, 30, 21, 28, 29, 26, 26, 24, 30, 27, 28, 24, 35, 34, 29, 30, 31, 31, 35, 25, 20, 17, 35, 19, 19], 'Borussia Dortmund': [29, 29, 26, 26, 27, 22, 24, 24, 29, 28, 33, 22, 19, 22, 22, 24, 30, 19, 18, 30, 23, 27, 19, 23, 19, 18, 17, 20, 22, 19, 17, 17, 18], 'Borussia Mönchengladbach': [29, 25, 27, 25, 29, 33, 24, 25, 30, 30, 28, 21, 21, 27, 27, 32, 28, 25, 21, 30, 18, 20, 18, 20, 20, 18, 19, 20, 19, 18], 'Botafogo': [26, 30, 26, 26, 26, 26, 26, 34, 34, 34, 34, 30, 34, 26, 26, 34, 34, 34, 34, 34], 'Bournemouth': [23, 23, 26, 31, 27, 21, 35, 24, 27, 25, 28, 31, 33, 31, 38, 28, 22, 20, 31, 22, 25, 20, 19, 21, 21, 19, 18, 18, 19, 18, 18, 18], 'Boyacá Chicó FC': [27, 25, 28, 27, 30, 27, 34, 23, 22, 30, 21, 31, 30, 27, 21, 24, 23, 21, 24, 23, 26, 20, 24, 22, 19, 18], 'Bradford City': [25, 23, 35, 28, 27, 25, 21, 26, 28, 26, 31, 30, 23, 29, 27, 28, 30, 30, 24, 19, 25, 21, 20, 19, 20, 19, 20, 20], 'Bray Wanderers': [28, 27, 30, 26, 33, 25, 24, 21, 23, 21, 29, 22, 24, 22, 20, 17, 19, 17, 16, 17, 17, 16, 17], 'Brentford': [22, 21, 28, 25, 25, 24, 26, 25, 24, 20, 27, 20, 22, 21, 23, 24, 25, 29, 20, 30, 23, 19, 19, 19, 19, 20, 20, 20, 17, 19], 'Brescia': [27, 35, 28, 26, 22, 26, 24, 30, 25, 24, 18, 25, 24, 21, 21, 22, 22, 23, 29, 26, 26, 23, 21, 23, 21, 20, 20, 19, 17], 'Brighton & Hove Albion': [26, 26, 25, 27, 24, 27, 26, 34, 25, 26, 29, 30, 24, 23, 30, 37, 23, 29, 31, 30, 21, 22, 29, 27, 20, 18, 20, 20, 18, 20, 21, 20], 'Brisbane Roar': [30, 35, 30, 34, 33, 28, 25, 31, 32, 22, 33, 27, 35, 26, 19, 26, 21, 20, 19, 26, 20, 20, 22], 'Bristol City': [25, 23, 27, 25, 27, 26, 26, 25, 22, 27, 30, 22, 30, 27, 27, 31, 33, 23, 28, 19, 20, 22, 23, 20, 21, 21, 20, 19, 21, 19], 'Bristol Rovers': [23, 28, 32, 27, 26, 28, 26, 31, 33, 22, 25, 26, 24, 28, 25, 30, 27, 24, 21, 21, 29, 20, 21, 20, 28, 20, 18, 21], 'Brøndby IF': [23, 30, 23, 30, 28, 29, 28, 23, 23, 23, 25, 26, 23, 29, 24, 30, 23, 28, 27, 23, 27, 20, 20, 19, 17, 20, 18], 'Burnley': [26, 25, 30, 27, 28, 32, 31, 29, 26, 26, 29, 28, 28, 31, 26, 28, 32, 26, 25, 24, 27, 33, 34, 18, 31, 21, 18, 18, 18, 19, 18, 19, 19], 'Bursaspor': [28, 30, 33, 31, 27, 28, 28, 25, 23, 25, 22, 32, 29, 25, 21, 27, 25, 21, 25, 23, 22, 21, 22, 23, 21, 18, 18, 19, 18, 20], 'Burton Albion': [27, 31, 29, 33, 29, 32, 22, 27, 30, 23, 29, 28, 23, 37, 22, 21, 22, 23, 34, 24, 22, 19, 20, 22, 18, 22, 18, 18], 'Bury': [31, 34, 27, 25, 27, 22, 29, 31, 25, 32, 18, 35, 32, 29, 36, 28, 24, 21, 24, 24, 19, 24, 32, 18, 19, 17, 17, 18], 'CA Osasuna': [30, 30, 23, 29, 24, 28, 25, 32, 32, 23, 29, 26, 32, 25, 34, 24, 29, 21, 33, 22, 21, 21, 20, 22, 20], 'CD Antofagasta': [22, 33, 31, 27, 28, 23, 29, 36, 21, 25, 24, 30, 34, 27, 32, 33, 35, 22, 21, 22, 20, 20, 22, 19, 20, 20, 18], 'CD Aves': [23, 32, 28, 30, 34, 34, 32, 35, 31, 30, 25, 25, 23, 27, 28, 22, 24, 24, 22, 24, 29, 23, 26, 21, 33, 23, 25, 22], 'CD Everton de Viña del Mar': [30, 30, 29, 31, 26, 23, 24, 22, 30, 21, 28, 21, 27, 25, 30, 25, 19, 26, 25, 23, 20, 20, 21, 20, 18, 19, 18], 'CD Feirense': [25, 27, 35, 24, 32, 24, 29, 25, 26, 27, 23, 24, 28, 27, 24, 27, 26, 34, 28, 31, 34, 25, 26, 19, 21, 20], 'CD Huachipato': [24, 24, 29, 26, 28, 24, 26, 24, 21, 21, 22, 26, 21, 29, 22, 23, 21, 18, 21, 19, 21, 31, 21, 20, 18, 19, 18], 'CD Leganés': [29, 34, 28, 27, 31, 19, 27, 26, 25, 26, 28, 29, 24, 30, 29, 25, 29, 25, 29, 24, 21, 27, 23, 28, 23, 20, 23, 21, 20, 20, 23, 19, 20], 'CD Lugo': [35, 27, 27, 24, 30, 25, 31, 33, 29, 27, 30, 25, 22, 26, 24, 22, 22, 20, 23, 23, 21, 22, 20, 26, 25, 21, 21, 23, 21, 21], 'CD Nacional': [31, 31, 24, 25, 23, 24, 26, 24, 30, 23, 24, 27, 33, 21, 23, 20, 25, 23, 26, 24, 21, 27, 25, 22, 21, 18], 'CD Numancia': [28, 28, 24, 25, 29, 28, 26, 28, 32, 20, 28, 27, 21, 25, 24, 30, 23, 31, 25, 25, 24, 24, 25, 25, 23, 22, 23, 21], \"CD O'Higgins\": [33, 23, 36, 28, 35, 23, 34, 26, 33, 26, 23, 24, 32, 22, 24, 22, 19, 20, 26, 20, 18, 19, 19, 19, 20, 18, 23, 18], 'CD Palestino': [34, 30, 35, 27, 33, 24, 28, 30, 34, 24, 23, 30, 24, 25, 27, 25, 18, 20, 24, 27, 21, 19, 32, 22, 19, 18, 21], 'CD Tenerife': [23, 33, 23, 24, 33, 32, 31, 23, 21, 25, 25, 23, 34, 27, 23, 34, 27, 32, 32, 22, 25, 19, 19, 23, 19, 22, 21, 19, 21, 22], 'CD Tondela': [26, 37, 25, 22, 23, 21, 28, 28, 25, 33, 22, 26, 25, 26, 29, 27, 24, 21, 26, 23, 22, 23, 25, 21, 22], 'CD Universidad de Concepción': [33, 34, 35, 29, 35, 26, 29, 29, 41, 29, 27, 25, 29, 31, 31, 29, 21, 27, 20, 26, 30, 19, 24, 19, 26, 19, 20], 'CF Rayo Majadahonda': [33, 33, 31, 24, 32, 34, 23, 34, 23, 22, 31, 22, 21, 34, 23, 25, 23, 23, 19, 26, 33, 20, 22, 16, 23, 27], 'CF Reus Deportiu': [26, 25, 28, 25, 35, 26, 25, 29, 29, 21, 33, 20, 23, 26, 23, 22, 26, 21, 21, 20, 24, 19, 20, 22, 19, 23, 18, 18], 'Cagliari': [36, 29, 24, 29, 32, 21, 26, 36, 32, 32, 27, 28, 30, 21, 22, 28, 32, 34, 25, 26, 31, 25, 32, 24], 'Cambridge United': [38, 30, 27, 27, 33, 23, 35, 22, 27, 24, 24, 22, 26, 28, 21, 24, 24, 21, 23, 18, 18, 19, 19, 44, 18, 18, 18, 16], 'Cardiff City': [24, 33, 28, 28, 27, 29, 27, 24, 28, 28, 25, 29, 28, 24, 23, 26, 23, 29, 27, 27, 31, 27, 27, 30, 30, 25, 35, 21, 21, 21, 19, 19, 20], 'Carlisle United': [26, 32, 32, 30, 31, 31, 33, 23, 21, 27, 30, 24, 22, 22, 27, 23, 18, 23, 22, 23, 22, 17, 19, 18], 'Carpi': [22, 28, 23, 27, 28, 25, 29, 31, 28, 25, 28, 28, 22, 26, 23, 21, 26, 26, 25, 21, 21, 23, 19, 24, 26, 21, 24, 19, 21, 18], 'Ceará Sporting Club': [34, 26, 26, 34, 30, 26, 34, 34, 26, 34, 30, 30, 30, 34, 26, 30, 34, 30, 30, 26], 'Celtic': [33, 20, 25, 26, 21, 25, 27, 29, 27, 35, 20, 22, 23, 20, 31, 30, 31, 23, 26, 20, 19, 28, 32, 26, 23, 37, 21, 19], 'Central Coast Mariners': [31, 26, 29, 34, 19, 24, 22, 24, 24, 28, 26, 22, 25, 31, 32, 23, 20, 21, 31, 21, 20, 20, 22, 18, 18], 'Cerezo Osaka': [28, 27, 30, 27, 30, 25, 28, 30, 28, 28, 26, 27, 30, 32, 27, 30, 32, 32, 33, 24, 24, 26, 20, 36, 26, 32, 22, 19, 19, 22], 'Chamois Niortais Football Club': [32, 24, 23, 27, 22, 18, 19, 22, 24, 22, 23, 22, 24, 19, 22, 30, 20, 24, 21, 19, 24, 22, 21, 18, 19, 21, 23, 19], 'Changchun Yatai FC': [29, 30, 31, 31, 30, 25, 26, 23, 27, 31, 35, 27, 35, 32, 26, 29, 28, 27, 23, 22, 23, 25, 21, 23, 21, 28, 21, 24], 'Chapecoense': [26, 34, 34, 34, 34, 34, 30, 30, 26, 30, 30, 30, 34, 30, 34, 30, 26, 26, 30, 26], 'Charlton Athletic': [30, 25, 27, 28, 32, 22, 26, 24, 24, 22, 21, 30, 23, 31, 33, 22, 25, 20, 26, 26, 21, 20, 19, 20, 21, 19, 19, 20], 'Chelsea': [27, 27, 28, 26, 29, 24, 23, 27, 31, 31, 25, 25, 30, 31, 22, 32, 26, 25, 24, 28, 27, 22, 36, 23, 24, 38, 17, 17, 17, 18, 17, 17, 18], 'Cheltenham Town': [35, 28, 29, 30, 32, 32, 24, 32, 28, 21, 24, 28, 24, 19, 26, 22, 21, 23, 21, 28, 24, 21, 21, 19], 'Chicago Fire': [33, 30, 27, 31, 30, 27, 31, 25, 27, 25, 27, 21, 23, 22, 22, 24, 27, 22, 19, 22, 24, 29, 24], 'Chievo Verona': [31, 39, 33, 31, 29, 33, 30, 27, 32, 27, 30, 27, 35, 24, 31, 23, 39, 27, 34, 20, 24, 20, 21, 23, 27, 20, 17, 21], 'Chongqing Dangdai Lifan FC SWM Team': [29, 25, 32, 26, 35, 26, 35, 32, 36, 31, 35, 33, 28, 27, 24, 31, 31, 32, 22, 25, 24, 29, 29, 23, 23, 25, 21, 20], 'Cittadella': [36, 26, 27, 26, 26, 24, 21, 22, 25, 22, 26, 30, 25, 31, 26, 25, 24, 26, 26, 23, 27, 21, 21, 23, 20, 21, 19, 18, 19], 'Clermont Foot 63': [21, 29, 21, 30, 24, 27, 34, 21, 29, 24, 22, 19, 20, 25, 27, 27, 24, 31, 26, 20, 21, 20, 20, 21, 20], 'Club América': [30, 27, 26, 34, 23, 23, 24, 32, 25, 27, 20, 31, 27, 25, 29, 29, 26, 18, 20, 27, 19, 26, 18, 20, 20, 20, 20, 21, 23, 21], 'Club Atlas': [30, 29, 29, 29, 27, 26, 22, 31, 23, 26, 28, 19, 22, 22, 21, 35, 21, 21, 21, 20, 20, 18, 20, 20, 21, 18, 20, 20, 18], 'Club Atlético Aldosivi': [36, 30, 23, 30, 26, 31, 26, 31, 23, 28, 26, 29, 36, 25, 32, 27, 33, 32, 21, 29, 26, 22, 29, 28, 23, 21, 18], 'Club Atlético Banfield': [34, 34, 31, 28, 22, 32, 23, 22, 22, 25, 31, 22, 22, 22, 20, 18, 25, 22, 21, 18, 20, 22, 21, 19, 20, 21, 18], 'Club Atlético Colón': [24, 31, 25, 30, 28, 34, 26, 25, 37, 21, 28, 23, 27, 24, 39, 24, 36, 28, 19, 21, 19, 22, 20, 17, 22, 18, 26, 19], 'Club Atlético Huracán': [32, 25, 27, 20, 31, 36, 30, 25, 21, 24, 36, 32, 34, 36, 36, 27, 33, 25, 29, 22, 25, 19, 21, 21, 23, 20, 21, 19], 'Club Atlético Lanús': [30, 30, 24, 30, 25, 30, 26, 24, 23, 27, 28, 26, 24, 26, 27, 20, 31, 22, 25, 20, 21, 17, 24, 21, 26, 19, 19, 19], 'Club Atlético Talleres': [39, 26, 37, 25, 22, 30, 21, 19, 25, 23, 25, 21, 23, 22, 39, 23, 27, 26, 18, 22, 19, 19, 19, 19, 22, 20, 21, 18], 'Club Atlético Tigre': [33, 34, 31, 31, 32, 33, 24, 29, 31, 22, 34, 33, 36, 24, 30, 36, 24, 36, 24, 24, 29, 20, 24, 27, 25, 20, 21, 19], 'Club Brugge KV': [25, 24, 30, 21, 25, 25, 21, 29, 30, 24, 20, 21, 24, 21, 26, 26, 21, 25, 22, 23, 19, 24, 23, 20, 18, 17, 18, 18], 'Club Deportes Temuco': [32, 35, 37, 26, 28, 31, 24, 33, 21, 31, 24, 24, 29, 30, 25, 35, 26, 26, 24, 32, 22, 22, 20, 20, 23, 18, 22, 19], 'Club León': [33, 29, 28, 30, 23, 32, 28, 27, 29, 23, 23, 25, 30, 33, 29, 29, 24, 22, 21, 21, 26, 19, 21, 22, 27, 18, 19, 25, 20, 19], 'Club Necaxa': [32, 23, 23, 29, 26, 26, 27, 32, 25, 34, 26, 20, 25, 21, 29, 24, 21, 23, 37, 19, 24, 20, 27, 23, 24, 20, 23, 21, 19, 23], 'Club Tijuana': [30, 28, 26, 26, 28, 24, 31, 27, 34, 25, 26, 22, 29, 24, 38, 23, 22, 23, 21, 24, 18, 20, 17, 20, 19, 18, 18, 18], 'Clube Sport Marítimo': [34, 28, 30, 28, 25, 27, 25, 24, 28, 24, 31, 21, 26, 23, 27, 27, 25, 28, 26, 22, 24, 20, 24], 'Colchester United': [22, 25, 26, 22, 22, 25, 22, 30, 26, 27, 21, 26, 22, 23, 22, 31, 20, 21, 21, 20, 21, 18, 19, 19, 21, 17, 19, 20], 'Colo-Colo': [34, 37, 27, 29, 28, 27, 37, 33, 31, 24, 23, 27, 28, 20, 24, 37, 33, 24, 22, 23, 18, 22, 18, 19, 19, 18, 18, 20], 'Colorado Rapids': [39, 22, 29, 25, 31, 28, 27, 23, 29, 26, 30, 26, 27, 24, 22, 24, 31, 23, 24, 23, 22, 24, 16], 'Columbus Crew SC': [33, 23, 30, 32, 25, 26, 29, 19, 27, 22, 23, 28, 26, 30, 29, 35, 22, 31, 23, 22, 25, 21, 23, 23, 20, 24], 'Cork City': [30, 26, 26, 27, 28, 37, 24, 23, 27, 36, 21, 25, 20, 23, 21, 21, 20, 23, 22, 21, 24, 18, 19, 18, 18], 'Cosenza': [24, 21, 27, 30, 32, 24, 36, 25, 28, 32, 25, 29, 30, 28, 23, 29, 21, 26, 25, 29, 24, 22, 26, 19, 23, 21, 21, 17, 20, 20], 'Coventry City': [30, 28, 36, 24, 28, 23, 21, 20, 29, 23, 20, 23, 25, 19, 22, 19, 27, 26, 18, 22, 26, 20, 21, 22, 19, 19, 19, 20], 'Cracovia': [32, 25, 29, 28, 22, 25, 30, 27, 29, 28, 21, 26, 36, 29, 23, 19, 26, 21, 23, 29, 24, 22, 22, 19, 17, 18, 19], 'Crawley Town': [32, 26, 24, 32, 26, 34, 28, 31, 28, 28, 27, 26, 25, 28, 39, 23, 21, 22, 21, 22, 23, 19, 17, 20], 'Crewe Alexandra': [26, 35, 30, 30, 24, 34, 29, 30, 24, 23, 22, 20, 22, 24, 20, 20, 21, 34, 19, 20, 19, 18, 18, 17, 20, 18, 18, 19], 'Crotone': [26, 35, 26, 27, 25, 27, 26, 26, 25, 24, 21, 23, 24, 28, 26, 25, 20, 20, 22, 20, 26, 27, 20, 17], 'Cruz Azul': [28, 30, 31, 27, 37, 29, 30, 19, 31, 25, 24, 28, 28, 30, 30, 24, 23, 32, 25, 24, 18, 27, 19, 24, 17], 'Cruzeiro': [34, 30, 30, 34, 30, 34, 26, 34, 30, 26, 34, 26, 34, 34, 30, 26, 26, 30, 30, 34], 'Crystal Palace': [25, 31, 22, 27, 28, 29, 27, 27, 26, 28, 30, 31, 31, 28, 20, 28, 25, 21, 32, 25, 24, 28, 22, 39, 22, 18, 19, 19, 18, 20, 18, 18], 'Curicó Unido': [32, 34, 28, 35, 26, 31, 28, 27, 34, 28, 35, 33, 24, 28, 35, 32, 29, 32, 26, 22, 22, 32, 20, 19, 19, 20, 19, 19], 'Cádiz CF': [27, 39, 25, 24, 32, 28, 33, 26, 34, 30, 26, 24, 27, 24, 21, 23, 25, 27, 24, 22, 28, 30, 21, 25, 23, 20, 24, 21, 22, 23], 'Córdoba CF': [32, 27, 32, 32, 31, 28, 23, 26, 26, 23, 27, 30, 23, 21, 26, 22, 22, 23, 33, 22, 21, 19, 18, 21, 21, 21], 'DC United': [32, 24, 27, 23, 23, 23, 29, 33, 27, 27, 24, 27, 25, 18, 27, 25, 33, 27, 27, 26, 27, 23, 27, 20, 25, 28, 24, 23], 'DSC Arminia Bielefeld': [25, 27, 30, 30, 26, 28, 25, 26, 26, 21, 24, 29, 24, 24, 21, 21, 26, 17, 33, 24, 25, 21, 30, 20, 18, 20, 19, 19], 'Daegu FC': [26, 31, 26, 24, 28, 20, 25, 23, 27, 21, 25, 19, 27, 27, 24, 24, 29, 20, 21, 22, 21, 20, 20, 26, 19, 25, 20, 22], 'Dalian YiFang FC': [24, 30, 32, 30, 31, 33, 30, 23, 32, 22, 25, 28, 27, 25, 30, 23, 23, 30, 23, 24, 28, 22, 25, 21, 25, 22, 39, 21], 'Dalkurd FF': [26, 30, 23, 23, 29, 30, 25, 23, 25, 30, 23, 24, 30, 25, 27, 26, 21, 22, 30, 30, 18], 'De Graafschap': [28, 24, 25, 29, 25, 28, 27, 25, 21, 30, 25, 24, 26, 24, 23, 21, 23, 25, 29, 31, 22, 19, 19, 20, 19, 19, 19, 19, 23, 19], 'Defensa y Justicia': [29, 34, 23, 23, 30, 20, 24, 28, 29, 22, 31, 24, 23, 28, 20, 23, 20, 21, 28, 26, 27, 22, 25, 22, 26, 20, 24, 18], 'Deportes Iquique': [32, 30, 34, 34, 26, 38, 30, 29, 23, 29, 26, 34, 28, 23, 27, 22, 27, 22, 21, 27, 20, 23, 25, 17, 19, 19, 18], 'Deportes Tolima': [27, 27, 28, 25, 28, 29, 34, 28, 24, 23, 26, 28, 28, 22, 26, 25, 29, 22, 27, 22, 25, 23, 23, 25, 24, 20, 19, 18], 'Deportivo Alavés': [26, 28, 26, 32, 28, 24, 28, 26, 30, 22, 24, 26, 24, 24, 28, 22, 27, 25, 26, 21, 23, 21, 22, 24, 19, 21, 20], 'Deportivo Cali': [37, 33, 29, 37, 32, 21, 27, 24, 27, 21, 25, 29, 24, 23, 28, 25, 32, 26, 22, 23, 22, 18, 17, 20, 25, 18, 21, 19], 'Deportivo Pasto': [32, 23, 26, 31, 29, 33, 32, 32, 35, 29, 25, 38, 28, 26, 24, 26, 25, 23, 23, 25, 25, 19, 20, 19, 22, 23, 24, 20], 'Deportivo Toluca': [34, 29, 35, 27, 33, 29, 28, 30, 33, 26, 31, 25, 25, 28, 20, 26, 29, 25, 26, 32, 25, 20, 27, 18, 18, 20, 18, 22], 'Deportivo de La Coruña': [25, 29, 30, 25, 25, 35, 33, 29, 30, 31, 22, 28, 34, 28, 23, 32, 24, 23, 24, 26, 21, 24, 24, 23, 22, 19, 22, 21, 21, 27], 'Derby County': [33, 19, 31, 32, 21, 24, 31, 31, 28, 33, 23, 31, 27, 27, 25, 29, 29, 25, 31, 30, 20, 30, 28, 23, 23, 21, 17, 26, 17, 20], 'Derry City': [24, 20, 33, 19, 34, 26, 20, 22, 22, 20, 21, 23, 21, 19, 17, 19, 19, 19], 'Dijon FCO': [25, 29, 28, 24, 32, 31, 21, 31, 26, 23, 32, 25, 26, 30, 23, 38, 26, 29, 27, 28, 22, 19, 23, 17, 26, 17], 'Dinamo Zagreb': [27, 20, 27, 28, 28, 22, 22, 25, 26, 28, 27, 20, 23, 26, 24, 20, 28, 32, 29, 26, 21, 21, 31, 22, 21, 21, 23, 19], 'Djurgårdens IF': [29, 24, 29, 36, 24, 35, 26, 26, 27, 32, 28, 26, 20, 22, 27, 25, 23, 29, 20, 23, 17, 20, 18, 18, 21], 'Doncaster Rovers': [26, 29, 37, 22, 26, 29, 34, 27, 19, 21, 24, 30, 23, 29, 23, 24, 19, 22, 22, 24, 22, 20, 21, 18, 19, 19, 18, 17], 'Dundalk': [23, 26, 25, 27, 26, 26, 32, 30, 31, 24, 21, 22, 23, 36, 25, 26, 26, 27, 21, 19, 23, 18, 18], 'Dundee FC': [38, 22, 25, 30, 27, 32, 23, 22, 31, 30, 28, 24, 28, 24, 19, 30, 20, 24, 25, 25, 21, 18, 19, 19, 18], 'Dynamo Kyiv': [20, 24, 27, 28, 25, 30, 28, 30, 25, 25, 29, 23, 22, 23, 24, 21, 19, 26, 21, 26, 25, 24, 24, 19, 18, 19, 20, 17], 'ESTAC Troyes': [41, 34, 28, 31, 27, 26, 25, 28, 21, 30, 23, 28, 24, 28, 29, 26, 34, 29, 26, 24, 21, 21, 20, 18, 34, 24, 18, 20, 20, 22], 'Eintracht Braunschweig': [25, 25, 25, 30, 24, 34, 22, 25, 21, 26, 23, 28, 33, 21, 24, 22, 25, 20, 28, 20, 20, 21, 21, 20, 19, 18, 20, 18], 'Eintracht Frankfurt': [24, 27, 24, 31, 20, 30, 28, 34, 24, 25, 28, 23, 24, 30, 24, 25, 23, 23, 31, 23, 22, 26, 32, 25, 28, 18, 26, 21, 33, 19, 18, 19, 17], 'Elche CF': [31, 25, 38, 25, 19, 20, 39, 23, 28, 27, 32, 30, 24, 29, 21, 30, 25, 30, 33, 34, 21, 21, 24, 22, 20, 17], 'Empoli': [31, 24, 33, 30, 36, 26, 24, 24, 35, 24, 23, 26, 27, 20, 24, 28, 27, 25, 28, 37, 24, 22, 23, 21, 21, 24, 18, 23, 23, 19, 20, 18, 19], 'En Avant de Guingamp': [31, 22, 29, 30, 20, 28, 27, 34, 28, 23, 34, 24, 21, 25, 23, 20, 29, 23, 26, 30, 18, 21, 24, 18, 20], 'Envigado FC': [22, 29, 21, 23, 23, 25, 24, 23, 21, 23, 21, 25, 23, 21, 20, 21, 29, 20, 22, 20, 19, 20, 20, 25, 20, 20, 19, 18], 'Esbjerg fB': [25, 23, 25, 33, 27, 20, 21, 34, 33, 27, 20, 21, 19, 21, 28, 24, 27, 20, 23, 32, 16, 20, 18, 17, 21], 'Estudiantes de La Plata': [34, 21, 28, 31, 26, 27, 36, 34, 27, 39, 26, 25, 21, 36, 18, 21, 26, 20, 25, 26, 23, 22, 20, 20, 22, 20, 21, 18], 'Ettifaq FC': [28, 27, 24, 25, 32, 27, 23, 25, 26, 26, 24, 28, 25, 23, 28, 24, 23, 23, 21, 23, 22, 22, 19, 21, 22, 20, 23, 20, 21, 18], 'Everton': [24, 28, 28, 24, 25, 25, 24, 29, 21, 23, 27, 28, 29, 23, 33, 27, 35, 21, 20, 28, 21, 35, 20, 21, 20, 24, 22, 19, 18, 21, 19, 18], 'Excelsior': [32, 25, 31, 27, 33, 29, 19, 21, 28, 23, 35, 23, 26, 27, 23, 22, 21, 28, 22, 22, 20, 20, 18, 18, 17, 18], 'Exeter City': [30, 31, 31, 32, 23, 24, 27, 28, 25, 23, 31, 26, 22, 21, 35, 19, 27, 23, 36, 22, 19, 23, 17, 18, 17, 18, 17, 19], 'Extremadura UD': [31, 30, 27, 25, 28, 29, 26, 24, 28, 30, 29, 35, 27, 22, 33, 28, 27, 31, 28, 22, 20, 19, 29, 21, 32, 21, 22, 20, 20, 22], 'FC Admira Wacker Mödling': [31, 26, 24, 23, 24, 24, 27, 21, 21, 19, 24, 28, 20, 22, 22, 23, 19, 19, 22, 20, 18, 17, 19, 19, 19, 16], 'FC Augsburg': [26, 24, 34, 24, 29, 25, 29, 24, 24, 28, 27, 31, 29, 28, 27, 20, 33, 33, 19, 28, 20, 27, 20, 22, 20, 20, 17, 19, 19, 18, 19], 'FC Barcelona': [31, 31, 26, 29, 26, 24, 29, 30, 31, 31, 21, 26, 21, 21, 23, 25, 29, 24, 24, 22, 32, 23, 20, 19, 18, 19, 18, 18, 19, 18, 19, 21, 19], 'FC Basel 1893': [30, 25, 28, 25, 28, 29, 33, 29, 21, 27, 29, 24, 30, 20, 21, 24, 20, 22, 28, 22, 20, 23, 19, 18, 17, 20, 20], 'FC Bayern München': [29, 32, 26, 29, 28, 27, 23, 26, 29, 22, 34, 23, 22, 23, 22, 29, 35, 29, 32, 20, 18, 18, 17, 17, 19, 20, 19, 18, 19], 'FC Carl Zeiss Jena': [27, 28, 26, 23, 23, 20, 21, 25, 23, 28, 23, 30, 27, 24, 25, 29, 27, 30, 25, 20, 22, 21, 21, 19, 20, 20, 18, 18], 'FC Dallas': [33, 28, 27, 27, 21, 23, 30, 23, 32, 26, 24, 25, 20, 24, 23, 35, 27, 26, 26, 29, 23, 18, 22, 17, 28, 22, 17, 19, 17], 'FC Emmen': [29, 30, 26, 24, 28, 23, 22, 23, 25, 23, 21, 24, 27, 31, 18, 27, 26, 22, 24, 28, 25, 21, 40, 22, 22, 18, 19, 20, 19, 19], 'FC Energie Cottbus': [23, 32, 35, 25, 24, 25, 24, 24, 21, 26, 26, 28, 35, 28, 24, 30, 22, 21, 32, 26, 28, 20, 26, 23, 21, 18, 20, 17], 'FC Erzgebirge Aue': [30, 30, 36, 26, 26, 21, 27, 26, 24, 25, 23, 28, 27, 27, 28, 32, 34, 20, 22, 20, 22, 18, 24, 20, 22, 19, 19, 18, 19], 'FC Girondins de Bordeaux': [30, 25, 22, 24, 27, 32, 28, 24, 19, 25, 27, 20, 19, 25, 22, 22, 24, 33, 36, 22, 22, 22, 18, 18, 21, 24, 19, 19, 19, 20, 20], 'FC Groningen': [28, 20, 24, 24, 26, 21, 22, 20, 21, 36, 18, 18, 20, 20, 22, 21, 21, 20, 23, 20, 18, 19, 19, 18, 20, 18], 'FC Hansa Rostock': [25, 25, 26, 26, 26, 25, 23, 32, 22, 23, 31, 28, 26, 26, 22, 26, 20, 35, 21, 21, 19, 23, 21, 24, 18], 'FC Ingolstadt 04': [30, 25, 32, 29, 24, 26, 28, 25, 28, 25, 28, 27, 31, 24, 27, 29, 24, 21, 20, 23, 20, 35, 20, 20, 28, 21, 18, 18, 21, 18], 'FC København': [24, 26, 29, 33, 29, 22, 26, 27, 22, 27, 27, 25, 25, 24, 25, 36, 30, 33, 24, 19, 19, 19, 21], 'FC Lorient': [31, 28, 24, 32, 21, 32, 24, 29, 29, 26, 32, 34, 28, 23, 20, 25, 22, 20, 22, 21, 18, 26, 22, 17, 19, 19, 21, 25, 17, 20], 'FC Lugano': [31, 24, 35, 23, 27, 32, 34, 22, 30, 19, 24, 22, 32, 21, 27, 23, 22, 32, 26, 19, 22, 22, 20, 21, 23, 22, 17], 'FC Luzern': [26, 24, 30, 23, 21, 25, 34, 22, 25, 24, 23, 28, 21, 26, 21, 23, 31, 22, 19, 34, 22, 23, 19, 19, 19, 21, 18], 'FC Metz': [33, 29, 25, 23, 26, 31, 29, 29, 23, 24, 25, 26, 21, 24, 28, 22, 19, 23, 21, 29, 20, 22, 21, 19, 19, 18], 'FC Midtjylland': [33, 26, 34, 29, 25, 25, 27, 27, 24, 22, 24, 31, 21, 29, 29, 20, 20, 21, 24, 21, 21, 20, 21, 21, 19, 18, 17], 'FC Nantes': [32, 23, 25, 27, 28, 30, 22, 24, 23, 26, 23, 26, 22, 28, 26, 27, 26, 28, 21, 25, 23, 21, 26, 26, 25, 24, 20, 19, 22, 17, 22, 19], 'FC Nordsjælland': [27, 19, 21, 23, 27, 21, 25, 23, 17, 18, 19, 24, 19, 20, 21, 20, 17, 18, 18, 17, 20, 18, 20, 19, 19, 18, 19], 'FC Porto': [28, 25, 29, 26, 37, 25, 28, 27, 26, 23, 26, 20, 27, 23, 34, 30, 26, 23, 21, 19, 22, 21, 30, 21, 23, 20, 21, 18], 'FC Red Bull Salzburg': [30, 26, 26, 20, 22, 25, 26, 23, 32, 35, 20, 19, 20, 23, 25, 33, 25, 25, 20, 19, 20, 17, 20, 19, 21, 21, 19], 'FC Schalke 04': [35, 29, 27, 25, 26, 28, 21, 28, 27, 30, 23, 25, 29, 24, 21, 29, 24, 19, 21, 23, 25, 20, 35, 21, 21, 33, 20, 19, 17], 'FC Seoul': [29, 30, 26, 24, 22, 32, 23, 22, 28, 36, 31, 25, 19, 29, 30, 25, 30, 30, 29, 31, 33, 26, 26, 33, 26, 28, 28, 20], 'FC Sion': [30, 26, 35, 27, 23, 28, 28, 22, 21, 30, 24, 20, 22, 19, 29, 24, 31, 20, 34, 20, 24, 26, 25, 19, 18, 18, 20], 'FC Sochaux-Montbéliard': [24, 26, 20, 24, 22, 20, 21, 23, 20, 25, 20, 22, 24, 22, 28, 21, 21, 20, 23, 22, 21, 21, 21, 20, 18, 18, 21, 19], 'FC St. Gallen': [33, 23, 26, 31, 27, 25, 20, 21, 24, 27, 25, 22, 27, 20, 27, 33, 24, 24, 21, 20, 23, 20, 20, 18, 20], 'FC St. Pauli': [26, 27, 23, 31, 23, 29, 22, 30, 26, 27, 32, 25, 31, 25, 28, 27, 21, 22, 31, 26, 25, 24, 27, 24, 21, 21, 19, 19, 20, 18], 'FC Thun': [26, 30, 31, 22, 28, 23, 36, 31, 30, 25, 23, 27, 25, 23, 23, 23, 22, 24, 20, 24, 22, 21, 20, 18, 22, 23], 'FC Tokyo': [28, 31, 30, 26, 31, 27, 31, 29, 26, 30, 24, 32, 24, 21, 24, 28, 27, 36, 28, 20, 19, 20, 23, 19, 23, 18, 21, 18, 19, 19], 'FC Utrecht': [24, 31, 26, 25, 25, 25, 24, 23, 25, 25, 32, 23, 23, 22, 28, 27, 23, 27, 22, 24, 19, 18, 20, 20, 19], 'FC Wacker Innsbruck': [23, 33, 27, 24, 27, 24, 24, 23, 22, 28, 24, 26, 28, 27, 21, 30, 26, 21, 24, 20, 22, 22, 21, 21, 20, 19, 21], 'FC Würzburger Kickers': [29, 31, 27, 24, 21, 26, 23, 24, 25, 26, 25, 28, 23, 23, 26, 22, 21, 23, 20, 21, 20, 21, 21, 21, 19, 19, 17], 'FC Zürich': [24, 27, 26, 27, 28, 25, 28, 25, 19, 24, 31, 30, 38, 27, 36, 25, 20, 21, 19, 19, 24, 17, 17, 18, 22, 20, 18], 'FK Austria Wien': [29, 22, 30, 31, 25, 28, 27, 23, 21, 23, 24, 23, 24, 21, 26, 25, 26, 23, 20, 29, 23, 19, 18, 19, 21, 21, 17], 'FK Bodø/Glimt': [26, 23, 28, 31, 26, 25, 26, 34, 25, 22, 26, 27, 25, 25, 25, 28, 30, 20, 28, 19, 24, 18, 20, 19, 16, 18, 19], 'FK Haugesund': [22, 34, 23, 30, 22, 22, 21, 24, 29, 24, 23, 27, 20, 23, 18, 25, 19, 28, 19, 18, 18, 19], 'FSV Zwickau': [25, 31, 22, 28, 29, 26, 29, 27, 21, 30, 35, 28, 28, 25, 21, 20, 23, 21, 21, 21, 19, 23, 25, 20, 17], 'Fenerbahçe SK': [33, 33, 28, 25, 33, 30, 32, 29, 27, 34, 23, 32, 30, 36, 31, 28, 23, 30, 28, 26, 21, 28, 28, 23, 18, 18, 22, 23, 19, 22], 'Feyenoord': [26, 23, 27, 30, 27, 23, 24, 30, 29, 25, 32, 22, 25, 21, 20, 22, 18, 19, 28, 21, 21, 19, 17, 17, 20, 19, 19, 17], 'Fiorentina': [25, 27, 20, 19, 22, 23, 27, 35, 26, 25, 23, 26, 20, 29, 21, 24, 26, 21, 22, 20, 26, 18, 18, 19], 'Fleetwood Town': [34, 33, 33, 25, 29, 33, 30, 22, 24, 22, 22, 25, 23, 23, 28, 26, 27, 25, 32, 26, 22, 20, 20, 18, 24, 22, 19, 19], 'Fluminense': [30, 34, 30, 26, 34, 34, 34, 26, 26, 34, 26, 34, 30, 26, 34, 34, 26, 34, 26, 26], 'Foggia': [40, 26, 28, 27, 23, 26, 26, 34, 29, 32, 30, 29, 25, 30, 23, 28, 26, 32, 24, 20, 23, 19, 19, 20, 17, 19, 18], 'Forest Green Rovers': [27, 28, 29, 30, 21, 22, 25, 22, 29, 23, 30, 26, 23, 21, 20, 29, 18, 20, 21, 20, 24, 20, 19, 19], 'Fortuna Düsseldorf': [23, 24, 26, 26, 30, 26, 34, 23, 20, 24, 24, 30, 25, 28, 24, 36, 24, 28, 24, 26, 22, 20, 32, 30, 19, 22, 19, 21, 21, 20, 20, 20, 18], 'Fortuna Sittard': [23, 22, 22, 24, 21, 19, 20, 23, 24, 22, 21, 25, 28, 22, 28, 22, 24, 23, 18, 26, 22, 25, 21, 18, 21, 19, 18], 'Frosinone': [26, 26, 28, 24, 25, 26, 32, 31, 34, 22, 34, 29, 25, 28, 26, 27, 23, 24, 25, 26, 19, 20, 30, 25, 35, 27, 23, 23, 19, 21, 20, 21, 19], 'Fulham': [26, 24, 30, 27, 23, 24, 18, 24, 29, 20, 27, 22, 23, 28, 24, 30, 26, 25, 23, 26, 29, 30, 24, 20, 20, 17, 18, 17, 18, 17, 17, 19], 'GD Chaves': [29, 35, 26, 30, 26, 26, 22, 22, 29, 33, 24, 21, 25, 27, 30, 32, 26, 25, 24, 28, 26, 24, 30, 27, 21], 'GFC Ajaccio': [35, 31, 29, 21, 26, 33, 35, 25, 22, 34, 26, 19, 21, 24, 22, 27, 26, 31, 20, 21, 18, 18, 19], 'GIF Sundsvall': [30, 29, 29, 27, 29, 21, 22, 31, 23, 21, 24, 25, 23, 28, 20, 30, 20, 24, 28, 22, 20, 19, 18], 'Galatasaray SK': [32, 29, 28, 32, 28, 30, 25, 27, 27, 21, 27, 32, 33, 24, 31, 30, 26, 24, 26, 28, 23, 18, 17, 20, 18, 17, 18, 19, 19, 21], 'Gamba Osaka': [32, 25, 38, 24, 31, 29, 35, 23, 29, 29, 30, 24, 28, 34, 28, 20, 17, 25, 24, 24, 20, 20, 20, 21, 21, 20, 20, 21, 18, 20], 'Gangwon FC': [26, 34, 33, 28, 27, 34, 34, 26, 24, 29, 27, 29, 23, 27, 24, 28, 28, 26, 33, 21, 26, 19, 32, 26, 27, 21, 31, 22], 'Genoa': [31, 28, 35, 23, 31, 28, 34, 35, 29, 31, 23, 27, 32, 22, 26, 25, 20, 23, 23, 23, 21, 21, 20, 24, 19, 20, 22], 'Getafe CF': [31, 31, 25, 26, 28, 30, 32, 36, 28, 26, 29, 23, 21, 22, 28, 24, 27, 23, 25, 25, 26, 25, 24, 19, 18, 21, 20, 20], 'Gillingham': [26, 26, 32, 24, 26, 33, 26, 27, 29, 26, 24, 19, 22, 27, 21, 21, 21, 21, 21, 25, 19, 19, 19, 24, 19, 18, 18, 18], 'Gimnasia y Esgrima La Plata': [25, 31, 30, 37, 25, 29, 37, 22, 36, 23, 23, 19, 20, 27, 32, 24, 21, 18, 21, 22, 24, 21, 20, 22, 19, 21, 23, 19], 'Gimnàstic de Tarragona': [24, 34, 29, 31, 25, 32, 34, 32, 24, 30, 33, 30, 22, 21, 25, 32, 24, 26, 21, 23, 21, 21, 20, 22, 20, 20, 21, 21, 22, 23], 'Girona FC': [26, 31, 29, 27, 25, 25, 27, 28, 27, 30, 27, 30, 29, 37, 21, 25, 25, 26, 20, 21, 18, 22, 21, 20, 20, 18, 21, 21, 20], 'Godoy Cruz': [27, 27, 24, 28, 24, 22, 22, 23, 23, 21, 23, 23, 21, 23, 24, 25, 26, 20, 27, 24, 21, 20, 22, 17, 17, 20, 17, 20], 'Granada CF': [30, 32, 27, 23, 30, 27, 23, 30, 21, 29, 28, 31, 24, 28, 26, 19, 24, 25, 23, 22, 22, 22, 20, 23, 22, 21, 22, 23, 23], 'Grasshopper Club Zürich': [27, 28, 25, 30, 30, 23, 25, 27, 19, 24, 22, 20, 24, 23, 20, 20, 20, 21, 19, 20, 25, 20, 23, 22, 22, 19, 19], 'Grenoble Foot 38': [31, 27, 30, 26, 30, 27, 30, 23, 25, 23, 26, 27, 28, 31, 28, 22, 26, 23, 32, 23, 28, 25, 23, 24, 37], 'Grimsby Town': [31, 29, 34, 37, 28, 23, 32, 26, 24, 28, 23, 22, 23, 19, 24, 35, 24, 25, 21, 20, 21, 21, 19, 19, 17], 'Grêmio': [26, 26, 30, 30, 34, 30, 30, 34, 26, 26, 30, 34, 30, 26, 30, 26, 34, 34, 30, 34], 'Guadalajara': [27, 22, 27, 25, 31, 23, 24, 22, 28, 24, 25, 22, 27, 31, 38, 29, 30, 25, 28, 20, 21, 18, 26, 20, 18, 20, 19, 20, 22], 'Guangzhou Evergrande Taobao FC': [29, 24, 27, 28, 31, 32, 31, 37, 32, 29, 29, 28, 30, 30, 23, 30, 25, 31, 28, 23, 24, 31, 21, 21, 22, 21, 21, 21], 'Guangzhou R&F; FC': [30, 29, 29, 33, 27, 28, 30, 33, 26, 33, 30, 28, 21, 28, 26, 25, 34, 25, 22, 20, 19, 21, 19, 22, 26, 19, 20, 20], 'Guizhou Hengfeng FC': [31, 23, 29, 32, 27, 32, 28, 27, 29, 28, 36, 33, 24, 38, 28, 26, 31, 28, 31, 25, 27, 22, 25, 20, 21, 23, 21], 'Gyeongnam FC': [24, 26, 30, 26, 29, 26, 25, 23, 26, 30, 35, 35, 31, 32, 30, 30, 31, 27, 27, 20, 34, 31, 24, 20, 24, 26, 19], 'Górnik Zabrze': [34, 20, 23, 22, 22, 29, 28, 21, 24, 18, 23, 24, 25, 21, 25, 20, 18, 18, 23, 22, 18, 25, 20, 19, 19, 19, 18], 'Göztepe SK': [30, 36, 30, 30, 31, 28, 32, 30, 32, 25, 28, 31, 31, 27, 24, 24, 32, 25, 24, 28, 24, 25, 30, 22, 22, 17, 17, 17], 'HJK Helsinki': [36, 34, 23, 28, 31, 32, 25, 26, 21, 29, 21, 27, 20, 23, 22, 21, 18, 19, 19, 18, 18, 19, 19, 18, 17], 'Hallescher FC': [25, 21, 24, 26, 29, 29, 23, 24, 23, 22, 20, 24, 27, 24, 27, 26, 22, 22, 21, 19, 18, 20, 21, 18, 19], 'Hamburger SV': [26, 24, 31, 27, 24, 27, 23, 26, 22, 23, 28, 20, 19, 23, 26, 21, 18, 23, 19, 20, 29, 21, 19, 20, 17, 19, 18, 18, 19, 21], 'Hamilton Academical FC': [34, 29, 25, 35, 32, 26, 28, 34, 28, 22, 22, 24, 21, 24, 26, 21, 21, 22, 23, 21, 21, 20, 21, 20, 21, 19], 'Hammarby IF': [27, 37, 26, 32, 23, 26, 27, 25, 28, 24, 21, 20, 31, 24, 37, 28, 30, 20, 25, 19, 37, 19, 18, 18, 18, 17], 'Hannover 96': [25, 21, 30, 31, 24, 26, 27, 32, 25, 28, 23, 28, 21, 28, 25, 24, 28, 31, 27, 21, 23, 19, 19, 21, 22, 20, 21, 20, 19], 'Heart of Midlothian': [33, 31, 21, 32, 25, 29, 20, 35, 26, 23, 21, 29, 33, 29, 38, 23, 28, 20, 21, 18, 17, 22, 24, 17, 20, 21, 19], 'Hebei China Fortune FC': [34, 33, 33, 29, 29, 29, 25, 30, 32, 29, 28, 27, 22, 25, 25, 25, 31, 31, 27, 21, 32, 25, 28, 30, 20, 23, 28, 21], 'Hellas Verona': [28, 33, 28, 29, 25, 28, 25, 27, 20, 26, 27, 23, 25, 22, 21, 31, 25, 23, 23, 29, 23, 24, 22, 19, 23, 24, 25, 20, 18], 'Henan Jianye FC': [31, 22, 31, 27, 30, 21, 25, 29, 25, 29, 23, 25, 28, 23, 25, 29, 32, 31, 27, 20, 28, 25, 23, 22, 25, 19, 20, 21], 'Heracles Almelo': [25, 23, 27, 24, 29, 24, 24, 25, 25, 21, 26, 21, 30, 27, 31, 23, 23, 25, 22, 20, 23, 25, 20, 25, 20, 19, 19, 22, 20], 'Hertha BSC': [33, 23, 32, 23, 27, 33, 23, 31, 30, 29, 31, 23, 27, 19, 22, 22, 22, 28, 22, 21, 20, 20, 23, 22, 18, 21, 19, 19, 19, 21, 20, 20], 'Hibernian': [32, 24, 29, 30, 27, 25, 28, 34, 22, 23, 25, 22, 24, 32, 28, 22, 30, 30, 31, 20, 23, 19, 25, 21, 19], 'Hobro IK': [27, 32, 34, 33, 28, 22, 20, 29, 33, 29, 29, 26, 24, 32, 26, 22, 21, 21, 22, 22, 20, 21, 22, 18], 'Hokkaido Consadole Sapporo': [26, 21, 24, 32, 24, 36, 22, 25, 25, 32, 24, 34, 32, 29, 25, 19, 32, 33, 23, 29, 24, 33, 38, 23, 38, 39, 20, 19, 33], 'Holstein Kiel': [25, 24, 31, 32, 24, 25, 27, 26, 23, 22, 31, 22, 27, 30, 33, 20, 21, 22, 22, 21, 30, 21, 20, 19, 21, 19, 18, 20, 21], 'Houston Dynamo': [22, 26, 27, 23, 33, 22, 28, 36, 29, 33, 21, 30, 33, 30, 24, 31, 21, 26, 29, 33, 30, 27, 24, 22, 27, 23, 22, 25, 23, 17], 'Huddersfield Town': [24, 28, 28, 29, 29, 26, 23, 29, 25, 21, 23, 26, 29, 21, 22, 22, 27, 26, 29, 20, 27, 30, 21, 22, 19, 17, 17, 17, 18, 18, 18, 19], 'Hull City': [30, 25, 21, 30, 25, 31, 33, 23, 30, 29, 29, 23, 23, 24, 25, 29, 24, 26, 24, 24, 21, 25, 20, 22, 19, 21, 18, 19, 19, 18], 'IF Brommapojkarna': [27, 29, 26, 27, 26, 24, 27, 27, 22, 23, 23, 27, 27, 25, 26, 20, 26, 16, 20, 21, 22, 28, 26, 18, 18, 18], 'IF Elfsborg': [32, 35, 29, 34, 36, 23, 27, 26, 30, 28, 25, 20, 27, 24, 34, 19, 22, 30, 21, 21, 21, 21, 21, 19, 21, 18, 20], 'IFK Göteborg': [28, 29, 36, 21, 27, 23, 21, 22, 24, 33, 29, 22, 25, 22, 20, 21, 27, 20, 16, 20, 17, 20, 19], 'IFK Norrköping': [36, 24, 25, 26, 21, 24, 25, 21, 27, 26, 23, 21, 25, 24, 35, 20, 28, 32, 22, 25, 18, 20, 20, 18], 'IK Sirius': [31, 27, 27, 32, 31, 24, 31, 33, 25, 23, 30, 30, 29, 22, 26, 28, 30, 25, 27, 26, 24, 36, 22, 19, 18, 20, 17], 'IK Start': [26, 24, 25, 30, 36, 28, 18, 24, 30, 21, 20, 30, 19, 27, 23, 18, 21, 21, 23, 24, 19, 23, 23, 18], 'Incheon United FC': [26, 26, 30, 30, 26, 20, 26, 25, 25, 33, 31, 32, 30, 25, 23, 31, 23, 26, 30, 29, 24, 26, 28, 23, 20, 22, 23, 21], 'Independiente': [29, 25, 31, 31, 22, 24, 33, 21, 24, 29, 27, 29, 28, 24, 33, 26, 32, 26, 28, 24, 27, 26, 25, 20, 29, 22, 19, 18], 'Independiente Medellín': [30, 26, 29, 26, 26, 28, 35, 24, 26, 27, 29, 22, 34, 21, 30, 27, 21, 27, 26, 26, 19, 22, 23, 18, 20, 17, 20, 18], 'Independiente Santa Fe': [31, 26, 34, 26, 32, 32, 29, 26, 33, 29, 32, 25, 39, 33, 25, 22, 27, 30, 32, 31, 27, 35, 25, 21, 25, 19, 21, 20], 'Inter': [33, 25, 23, 29, 30, 33, 26, 24, 25, 25, 26, 31, 33, 26, 23, 20, 29, 24, 24, 29, 30, 32, 24, 35], 'Internacional': [26, 30, 26, 34, 30, 26, 34, 26, 30, 26, 34, 30, 34, 34, 30, 26, 34, 26, 30, 26], 'Ipswich Town': [30, 34, 25, 23, 32, 32, 24, 28, 26, 26, 26, 33, 21, 21, 25, 28, 23, 26, 18, 23, 24, 24, 24, 19, 24, 19, 20, 19, 19, 18], 'Itagüí Leones FC': [22, 28, 30, 25, 21, 27, 22, 21, 26, 27, 22, 23, 22, 23, 21, 22, 25, 22, 22, 30, 19, 21, 29, 23, 19, 18], 'Jagiellonia Białystok': [26, 27, 27, 28, 38, 27, 23, 29, 29, 30, 29, 24, 25, 29, 35, 24, 21, 28, 25, 23, 19, 22, 18, 17, 17, 18, 27], 'Jaguares de Córdoba': [26, 30, 23, 25, 21, 28, 29, 25, 29, 28, 28, 26, 30, 36, 40, 25, 28, 31, 31, 21, 33, 24, 33, 25, 22, 21, 21], 'Jeju United FC': [24, 29, 32, 30, 31, 29, 27, 25, 24, 29, 28, 30, 34, 24, 29, 30, 24, 27, 30, 30, 28, 24, 26, 30, 21, 26, 22, 21], 'Jeonbuk Hyundai Motors': [21, 26, 28, 31, 25, 26, 30, 30, 29, 27, 30, 30, 39, 31, 28, 31, 21, 30, 34, 32, 36, 30, 20, 24, 19, 20, 23, 21], 'Jeonnam Dragons': [21, 24, 28, 26, 30, 27, 24, 25, 28, 28, 21, 25, 27, 29, 20, 33, 30, 34, 25, 29, 24, 22, 34, 21, 29, 22, 27, 25], 'Jiangsu Suning FC': [28, 31, 32, 29, 28, 28, 24, 27, 28, 34, 25, 27, 21, 24, 25, 26, 29, 24, 22, 20, 21, 22, 21, 21, 20, 21, 20, 20], 'Junior FC': [33, 22, 24, 29, 28, 35, 21, 33, 31, 30, 26, 26, 30, 31, 26, 28, 24, 24, 23, 22, 33, 26, 22, 21, 23, 19, 21, 22], 'Juventus': [33, 24, 33, 27, 27, 31, 28, 31, 28, 31, 31, 25, 30, 32, 37, 24, 23, 24, 24, 25, 25, 21, 18, 28, 19], 'Júbilo Iwata': [40, 27, 29, 36, 28, 27, 27, 34, 27, 27, 32, 29, 28, 26, 22, 28, 35, 29, 31, 35, 20, 26, 20, 24, 21, 26, 23, 32, 19, 19], 'KAA Gent': [29, 28, 26, 24, 18, 23, 27, 31, 26, 23, 24, 27, 22, 31, 27, 24, 25, 27, 27, 20, 18, 22, 21, 19, 20, 21, 20, 17], 'KAS Eupen': [25, 32, 37, 26, 20, 23, 31, 22, 20, 30, 29, 32, 26, 22, 33, 29, 28, 18, 25, 19, 23, 26, 21, 21, 20, 21, 27, 19], 'KFC Uerdingen 05': [31, 30, 29, 28, 27, 30, 29, 26, 29, 28, 28, 28, 24, 29, 31, 27, 29, 26, 21, 22, 23, 26, 21, 25, 19, 22, 22, 20], 'KRC Genk': [23, 26, 25, 25, 20, 22, 27, 27, 21, 33, 28, 23, 20, 22, 20, 21, 24, 22, 23, 20, 21, 19, 20, 18, 20], 'KSV Cercle Brugge': [24, 31, 28, 31, 21, 20, 26, 23, 31, 26, 29, 26, 20, 27, 28, 32, 36, 18, 22, 21, 24, 25, 19, 20, 22, 18, 20, 19], 'KV Kortrijk': [31, 31, 25, 25, 23, 25, 29, 30, 24, 28, 30, 23, 25, 30, 33, 33, 23, 29, 24, 26, 26, 24, 21, 23, 20, 20, 18, 19], 'KV Oostende': [33, 28, 23, 26, 24, 30, 29, 22, 20, 25, 29, 22, 21, 28, 28, 24, 22, 21, 19, 20, 23, 19, 20, 19, 18, 21], 'Kaizer Chiefs': [27, 32, 32, 29, 28, 28, 23, 27, 29, 25, 27, 28, 25, 29, 28, 29, 27, 22, 27, 28, 20, 28, 27, 18, 21, 23, 23], 'Kalmar FF': [30, 32, 25, 32, 23, 30, 26, 28, 23, 25, 25, 27, 21, 33, 29, 24, 32, 20, 26, 20, 18, 19, 19, 18, 19, 21, 19], 'Karlsruher SC': [30, 24, 33, 30, 25, 27, 25, 28, 29, 21, 29, 25, 27, 32, 26, 35, 23, 22, 21, 20, 20, 18, 24, 20, 20, 19, 19, 19], 'Kashima Antlers': [25, 24, 33, 22, 30, 26, 24, 22, 30, 32, 38, 23, 25, 30, 33, 30, 27, 19, 39, 24, 24, 25, 27, 22, 20, 19, 28, 20, 18, 21], 'Kashiwa Reysol': [31, 25, 24, 23, 28, 28, 28, 23, 26, 22, 21, 23, 33, 24, 22, 32, 25, 29, 25, 24, 32, 35, 31, 21, 19, 19, 19, 19], 'Kasimpaşa SK': [23, 26, 32, 27, 26, 29, 27, 26, 26, 30, 27, 27, 29, 24, 24, 25, 29, 20, 20, 21, 19, 19, 19], 'Kawasaki Frontale': [30, 37, 33, 28, 25, 28, 26, 26, 32, 27, 28, 24, 26, 25, 24, 29, 29, 23, 23, 26, 29, 22, 32, 19, 27, 24, 32, 19, 23, 23], 'Kayserispor': [25, 29, 32, 28, 35, 23, 29, 30, 33, 35, 34, 23, 27, 29, 32, 26, 24, 29, 26, 26, 23, 18, 20, 23, 16], 'Kilmarnock': [34, 23, 32, 20, 28, 24, 26, 31, 33, 34, 22, 20, 21, 22, 30, 23, 23, 22, 32, 19, 19, 22, 17, 19, 19, 20, 23, 21], 'Korona Kielce': [27, 29, 24, 28, 29, 23, 26, 32, 24, 26, 22, 22, 29, 27, 27, 26, 28, 27, 24, 24, 21, 20, 19, 18, 18, 18, 18], 'Kristiansund BK': [25, 26, 29, 28, 25, 26, 26, 29, 27, 26, 24, 28, 21, 26, 25, 24, 22, 21, 27, 25, 37, 27, 18], 'LA Galaxy': [36, 29, 28, 28, 29, 25, 37, 34, 26, 25, 24, 27, 30, 27, 28, 29, 28, 26, 31, 21, 22, 25, 23, 20, 21], 'LASK Linz': [25, 24, 35, 29, 26, 22, 23, 29, 25, 22, 21, 27, 36, 26, 25, 21, 24, 20, 24, 21, 21, 19, 19, 18], 'LOSC Lille': [23, 26, 22, 21, 24, 22, 26, 22, 23, 29, 20, 19, 28, 21, 23, 21, 20, 21, 21, 19, 22, 21, 19, 18, 19], 'La Berrichonne de Châteauroux': [29, 33, 23, 34, 37, 26, 25, 31, 32, 28, 28, 20, 27, 27, 25, 20, 21, 20, 21, 30, 20, 21, 23, 21], 'La Equidad': [28, 34, 27, 29, 30, 24, 34, 25, 23, 32, 23, 35, 25, 29, 28, 24, 27, 20, 22, 30, 27, 20, 21, 24, 30, 22, 19, 32], 'Lazio': [28, 23, 30, 31, 25, 33, 23, 29, 31, 25, 26, 23, 31, 33, 23, 29, 23, 25, 35, 24, 25, 23, 21, 25, 21, 21, 22, 21, 22, 18, 22, 19], 'Le Havre AC': [25, 20, 28, 29, 24, 25, 24, 24, 31, 24, 23, 35, 29, 25, 22, 25, 21, 25, 22, 21, 21, 23, 30, 23, 22, 20, 18, 20, 19, 17], 'Lecce': [30, 23, 35, 26, 25, 27, 29, 27, 26, 26, 22, 23, 28, 32, 29, 23, 31, 30, 30, 29, 29, 28, 32, 28, 22, 22, 23, 19, 18], 'Lech Poznań': [26, 29, 28, 28, 34, 25, 33, 27, 20, 24, 28, 25, 28, 31, 20, 31, 30, 25, 25, 30, 28, 18, 20, 24, 25, 24, 18], 'Lechia Gdańsk': [22, 33, 25, 33, 27, 28, 26, 24, 22, 25, 27, 31, 26, 33, 26, 30, 22, 25, 34, 23, 20, 20, 19, 18, 19, 17, 17], 'Leeds United': [27, 33, 28, 26, 25, 27, 26, 22, 28, 26, 26, 29, 24, 23, 21, 21, 27, 27, 19, 21, 20, 22, 18, 17, 20, 18, 17, 18, 19, 21], 'Legia Warszawa': [28, 28, 30, 38, 25, 28, 31, 30, 27, 34, 31, 34, 27, 23, 26, 28, 35, 23, 29, 27, 24, 19, 22, 35, 21, 18, 18], 'Leicester City': [31, 31, 25, 24, 21, 30, 29, 21, 21, 28, 22, 32, 32, 23, 34, 21, 22, 26, 26, 31, 25, 31, 26, 33, 29, 22, 20, 23, 21, 19, 19, 20], 'Levante UD': [30, 27, 25, 22, 22, 26, 28, 22, 21, 23, 23, 28, 29, 26, 27, 23, 24, 27, 25, 27, 34, 28, 22, 27, 22, 22, 21, 21, 21, 21, 24, 20], 'Lillestrøm SK': [21, 29, 25, 27, 29, 40, 28, 25, 26, 24, 27, 25, 23, 29, 22, 21, 25, 22, 24, 18, 20, 21, 17, 19], 'Limerick FC': [28, 31, 24, 23, 21, 19, 28, 25, 29, 29, 19, 20, 18, 21, 19, 23, 24, 18, 17], 'Lincoln City': [34, 30, 29, 32, 28, 22, 22, 24, 30, 20, 26, 29, 24, 21, 31, 30, 26, 34, 23, 24, 17, 20, 26, 20, 35, 17, 18, 18], 'Liverpool': [26, 26, 26, 26, 25, 24, 23, 24, 28, 27, 28, 26, 32, 24, 26, 30, 28, 27, 30, 19, 21, 23, 25, 24, 20, 21, 18, 17, 21, 18, 19, 19, 21], 'Livingston FC': [30, 30, 35, 23, 27, 27, 25, 26, 25, 27, 21, 23, 23, 25, 22, 28, 18, 25, 20, 20, 21, 22, 20, 35, 18, 23, 18, 20], 'Livorno': [35, 39, 33, 37, 34, 27, 24, 23, 25, 29, 27, 25, 23, 25, 34, 24, 21, 27, 23, 23, 29, 32, 22, 23, 24, 18, 22, 19, 19, 21], 'Lobos BUAP': [25, 32, 24, 26, 31, 29, 28, 23, 36, 32, 25, 31, 29, 22, 20, 26, 35, 36, 24, 29, 21, 26, 22, 21, 20, 27, 29], 'Lokomotiv Moscow': [32, 28, 30, 32, 34, 33, 28, 32, 22, 26, 31, 30, 31, 34, 22, 28, 29, 26, 26, 31, 20, 21, 21, 19, 23, 32, 19, 18], 'Los Angeles FC': [29, 33, 31, 21, 25, 20, 28, 31, 27, 23, 21, 31, 28, 25, 34, 21, 32, 20, 20, 28, 24, 24, 23, 21, 26], 'Luton Town': [23, 27, 29, 27, 28, 26, 24, 24, 28, 34, 25, 24, 22, 31, 20, 23, 23, 23, 27, 22, 21, 21, 20, 18, 18], 'MKE Ankaragücü': [31, 30, 26, 30, 30, 26, 36, 29, 28, 33, 29, 34, 31, 31, 21, 29, 27, 31, 30, 29, 24, 30, 36, 23, 26, 28, 29, 22, 20], 'MSV Duisburg': [28, 24, 23, 31, 22, 21, 25, 27, 24, 27, 29, 26, 26, 28, 27, 22, 22, 24, 35, 25, 30, 22, 23, 19, 18, 19], 'Macclesfield Town': [26, 35, 27, 37, 28, 28, 22, 31, 25, 32, 28, 28, 24, 25, 22, 31, 23, 20, 22, 22, 24, 20, 19, 19, 21, 23], 'Malmö FF': [35, 28, 32, 28, 25, 22, 31, 27, 31, 29, 33, 30, 22, 25, 23, 22, 22, 26, 26, 22, 29, 20, 19, 20, 18, 19], 'Manchester City': [27, 32, 30, 22, 23, 24, 23, 33, 27, 30, 32, 24, 28, 27, 21, 24, 23, 28, 26, 35, 27, 18, 21, 21, 18, 17, 17, 19, 18, 19, 17, 18, 20], 'Manchester United': [27, 25, 25, 29, 22, 29, 30, 25, 25, 20, 24, 28, 28, 32, 22, 31, 23, 28, 26, 30, 32, 22, 28, 35, 19, 21, 17, 18, 19, 19, 20, 19, 19], 'Mansfield Town': [23, 28, 24, 32, 21, 33, 24, 21, 27, 36, 28, 32, 21, 31, 29, 27, 23, 23, 29, 20, 24, 20, 18, 17, 18, 18, 19, 19], 'Medipol Başakşehir FK': [28, 34, 37, 29, 31, 29, 32, 34, 34, 31, 22, 26, 30, 24, 29, 27, 32, 24, 24, 31, 32, 29, 22, 23, 18, 18, 20, 19], 'Melbourne City FC': [30, 29, 26, 27, 29, 30, 29, 28, 19, 31, 27, 37, 26, 26, 19, 25, 20, 27, 34, 25, 18, 18, 18, 18, 18], 'Melbourne Victory': [32, 31, 28, 29, 24, 29, 26, 32, 21, 33, 25, 24, 24, 30, 25, 24, 26, 20, 18, 18, 18], 'Middlesbrough': [27, 28, 27, 25, 29, 25, 25, 30, 31, 29, 26, 33, 30, 29, 32, 20, 23, 27, 22, 23, 34, 20, 23, 39, 19, 18, 19, 17, 18, 17], 'Miedź Legnica': [27, 28, 27, 27, 30, 27, 24, 24, 31, 27, 23, 33, 35, 30, 25, 27, 22, 25, 33, 35, 33, 20, 21, 19, 19, 17], 'Milan': [30, 24, 35, 19, 23, 23, 28, 32, 24, 23, 24, 25, 27, 21, 21, 25, 27, 31, 20, 22, 27, 24, 30, 23, 22, 18, 27], 'Millonarios FC': [29, 20, 32, 26, 26, 31, 32, 31, 31, 32, 28, 25, 25, 30, 25, 29, 29, 30, 34, 30, 22, 23, 20, 21, 22, 22, 18, 21], 'Millwall': [27, 31, 24, 23, 25, 29, 30, 34, 25, 25, 26, 24, 26, 22, 31, 25, 28, 26, 27, 32, 26, 29, 18, 19, 18, 18, 19, 18, 18, 18], 'Milton Keynes Dons': [24, 30, 28, 28, 23, 27, 24, 25, 26, 27, 22, 34, 24, 23, 25, 25, 20, 33, 22, 21, 22, 22, 33, 19, 19, 24, 23, 17], 'Minnesota United FC': [30, 29, 30, 28, 27, 27, 25, 23, 28, 31, 34, 28, 31, 29, 30, 25, 34, 25, 27, 22, 30, 24, 23, 22, 19, 23, 25, 22, 22, 23], 'Molde FK': [30, 27, 27, 23, 25, 24, 25, 24, 26, 24, 22, 17, 25, 23, 28, 22, 27, 23, 20, 23, 22, 35, 22, 18, 18, 18], 'Monarcas Morelia': [24, 31, 31, 27, 33, 23, 31, 25, 24, 32, 28, 29, 21, 36, 24, 23, 26, 27, 20, 22, 20, 20, 22, 21, 18, 19, 21, 22], 'Monterrey': [29, 27, 30, 24, 31, 28, 31, 32, 23, 23, 30, 34, 21, 26, 34, 19, 22, 25, 19, 21, 22, 19, 19, 17, 18, 18], 'Montpellier HSC': [27, 27, 40, 23, 25, 24, 26, 26, 33, 29, 25, 27, 28, 28, 21, 19, 28, 35, 27, 20, 20, 21, 19, 20, 19, 18, 19], 'Montreal Impact': [33, 26, 28, 36, 35, 23, 30, 32, 29, 31, 27, 25, 26, 20, 26, 24, 30, 24, 33, 22, 24, 22, 25, 21, 19, 22, 21, 20, 24], 'Morecambe': [26, 25, 36, 28, 24, 25, 32, 27, 37, 20, 21, 30, 26, 25, 27, 39, 21, 23, 23, 26, 30, 19, 19, 19, 18, 18, 20, 18], 'Moreirense FC': [28, 29, 31, 23, 30, 29, 22, 21, 21, 26, 26, 24, 34, 28, 27, 27, 28, 22, 30, 23, 25, 25, 19, 21, 18], 'Motherwell': [30, 21, 30, 19, 28, 25, 23, 26, 24, 25, 26, 31, 24, 28, 27, 27, 27, 26, 23, 22, 25, 21, 17, 18, 20, 20, 21, 19], 'Málaga CF': [28, 29, 27, 23, 31, 24, 30, 26, 28, 26, 29, 20, 23, 34, 21, 22, 34, 32, 26, 27, 19, 21, 25, 22, 22, 30, 20, 24, 20, 17], 'NAC Breda': [26, 27, 27, 26, 29, 23, 18, 22, 23, 19, 24, 21, 25, 28, 21, 24, 27, 21, 19, 35, 19, 23, 18, 23, 22, 20, 19, 18, 18], 'Nagoya Grampus': [31, 29, 24, 29, 22, 29, 36, 38, 29, 42, 22, 29, 28, 25, 29, 24, 24, 23, 19, 22, 23, 28, 21, 31, 23, 18, 20], 'Napoli': [27, 27, 31, 30, 31, 32, 27, 22, 24, 24, 24, 27, 25, 27, 32, 29, 26, 28, 20, 26, 22, 21, 24, 21, 21], 'Neuchâtel Xamax': [34, 31, 29, 29, 32, 21, 25, 29, 26, 26, 26, 34, 32, 26, 26, 29, 25, 30, 24, 26, 28, 20, 19, 22, 25, 25, 36], 'New England Revolution': [23, 27, 30, 28, 24, 26, 24, 26, 25, 27, 30, 27, 22, 29, 28, 33, 25, 25, 26, 22, 24, 22, 23, 22, 22, 18, 17], 'New York City FC': [36, 31, 27, 23, 23, 24, 26, 28, 27, 29, 33, 27, 21, 20, 24, 26, 27, 30, 26, 27, 21, 19, 17, 22, 24, 22], 'New York Red Bulls': [23, 28, 25, 34, 25, 25, 22, 19, 28, 25, 32, 21, 28, 23, 25, 27, 22, 23, 22, 25, 21, 20, 21, 19, 18, 23, 22, 18, 22], 'Newcastle Jets': [31, 25, 29, 23, 31, 32, 33, 30, 26, 21, 22, 35, 29, 20, 27, 21, 23, 23, 27, 20, 24, 22, 18, 17], 'Newcastle United': [29, 24, 27, 26, 28, 28, 29, 24, 29, 22, 28, 25, 24, 26, 26, 31, 24, 26, 28, 27, 23, 23, 32, 26, 21, 20, 20, 21, 22, 18, 17, 18, 18], \"Newell's Old Boys\": [31, 28, 29, 28, 34, 27, 36, 30, 23, 33, 31, 31, 21, 30, 28, 21, 25, 22, 25, 21, 22, 20, 22, 28, 20, 23, 22, 19], 'Newport County': [34, 27, 27, 25, 23, 25, 23, 28, 23, 25, 27, 28, 27, 30, 28, 37, 20, 19, 18, 19, 21, 34, 22, 17, 17, 17], 'Northampton Town': [27, 27, 27, 31, 24, 27, 29, 25, 25, 32, 31, 32, 23, 23, 23, 22, 22, 27, 19, 21, 20, 23, 19, 17, 17, 17, 17, 17], 'Norwich City': [30, 28, 30, 26, 25, 21, 25, 29, 32, 26, 25, 28, 27, 26, 28, 27, 25, 20, 20, 33, 18, 20, 32, 24, 20, 22, 23, 20, 18, 18], 'Nottingham Forest': [30, 28, 21, 30, 30, 27, 25, 21, 23, 21, 24, 24, 32, 31, 26, 34, 22, 27, 20, 24, 28, 32, 29, 32, 35, 33, 23, 20, 30, 17], 'Notts County': [25, 35, 33, 26, 31, 26, 27, 28, 23, 24, 29, 31, 28, 32, 24, 26, 28, 21, 19, 28, 24, 21, 19, 20, 21, 19, 17], 'Nîmes Olympique': [26, 23, 26, 21, 23, 23, 26, 25, 23, 26, 21, 19, 32, 35, 19, 22, 34, 30, 21, 26, 25, 23, 22, 24, 27, 26, 20], 'OGC Nice': [27, 34, 21, 25, 23, 25, 25, 22, 34, 19, 24, 24, 22, 21, 23, 20, 20, 23, 19, 22, 28, 20, 22, 19, 22, 17, 18, 20], 'Odds BK': [34, 22, 32, 25, 28, 33, 22, 32, 31, 26, 23, 27, 20, 24, 21, 20, 21, 20, 16, 20, 18, 19, 17], 'Odense Boldklub': [28, 30, 26, 30, 27, 25, 31, 27, 25, 28, 31, 25, 33, 26, 24, 23, 19, 23, 22, 23, 22, 17, 21, 19, 18, 17, 18], 'Ohod Club': [28, 21, 28, 28, 33, 27, 24, 41, 24, 19, 24, 27, 21, 24, 25, 28, 29, 28, 22, 22, 40, 22, 26, 21, 21], 'Oldham Athletic': [26, 25, 19, 24, 25, 36, 20, 22, 32, 24, 22, 32, 23, 32, 20, 31, 25, 22, 23, 17, 19, 18, 18, 17], 'Olympiacos CFP': [22, 30, 25, 25, 31, 27, 26, 30, 27, 27, 25, 25, 27, 33, 22, 21, 22, 22, 24, 27, 21, 25, 23, 23, 21, 19, 21, 19], 'Olympique Lyonnais': [24, 24, 27, 21, 20, 31, 21, 27, 23, 22, 22, 23, 29, 23, 34, 21, 21, 29, 20, 21, 21, 27, 18, 18, 17, 18, 19, 21, 19], 'Olympique de Marseille': [25, 31, 28, 30, 33, 32, 23, 28, 28, 24, 23, 26, 30, 32, 20, 35, 24, 21, 28, 28, 22, 18, 32, 20, 20, 22, 20, 21, 19], 'Once Caldas': [33, 33, 25, 33, 33, 26, 23, 24, 30, 33, 21, 25, 37, 23, 27, 26, 25, 36, 18, 20, 30, 23, 25, 20, 18, 19, 19, 19], 'Orlando City SC': [31, 32, 28, 27, 26, 32, 24, 26, 26, 25, 31, 29, 32, 26, 24, 27, 30, 27, 24, 19, 21, 28, 24, 24, 26, 19, 23, 26, 20, 20], 'Orlando Pirates': [30, 32, 24, 30, 24, 28, 34, 28, 30, 24, 30, 21, 27, 31, 26, 28, 32, 30, 25, 31, 28, 25, 22, 28, 24, 26, 20, 16], 'Os Belenenses': [27, 30, 24, 27, 25, 28, 29, 27, 28, 29, 27, 29, 22, 23, 28, 34, 25, 24, 22, 26, 24, 24, 19, 23], 'Oxford United': [31, 29, 22, 32, 25, 29, 24, 32, 25, 32, 27, 22, 25, 23, 22, 20, 25, 24, 22, 20, 37, 18, 21, 22, 23, 20, 20, 19], 'PAOK': [32, 28, 27, 32, 29, 24, 30, 32, 28, 30, 31, 30, 27, 31, 26, 24, 20, 31, 19, 33, 27, 28, 24, 22, 26, 18, 19], 'PEC Zwolle': [24, 22, 23, 22, 26, 37, 32, 26, 24, 26, 21, 26, 24, 21, 19, 23, 25, 28, 27, 19, 21, 24, 19, 17, 17, 19, 19], 'PFC CSKA Moscow': [27, 32, 28, 29, 27, 27, 20, 25, 31, 20, 22, 19, 20, 22, 20, 20, 23, 21, 19, 21, 19, 21, 21, 19, 22, 20, 20, 20], 'PSV': [22, 27, 27, 20, 23, 23, 29, 23, 21, 22, 23, 28, 26, 21, 29, 27, 22, 26, 19, 19, 19, 19, 21, 19, 19, 21, 20, 19, 18, 19], 'Pachuca': [29, 23, 30, 29, 25, 31, 24, 25, 21, 25, 29, 26, 28, 45, 27, 30, 31, 22, 19, 20, 25, 18, 18, 19, 20, 20, 19, 21, 21], 'Padova': [37, 34, 34, 32, 20, 29, 30, 35, 28, 32, 26, 31, 21, 22, 30, 21, 22, 21, 30, 22, 19, 28, 21, 19, 26, 20, 22, 21, 19, 22], 'Palermo': [29, 30, 28, 25, 29, 26, 25, 27, 26, 28, 28, 30, 24, 25, 22, 24, 37, 23, 25, 22, 22, 20, 21, 20, 18, 26, 22, 18, 18, 19], 'Panathinaikos FC': [30, 24, 25, 27, 26, 26, 26, 24, 28, 21, 30, 24, 20, 23, 21, 25, 22, 21, 19, 23, 22, 22, 20, 17, 20, 21, 20, 19], 'Paraná': [30, 26, 34, 34, 34, 34, 34, 30, 30, 34, 30, 34, 34, 26, 26, 26, 34, 34, 34, 34], 'Paris FC': [30, 35, 23, 32, 28, 32, 20, 30, 27, 21, 35, 26, 25, 26, 26, 28, 24, 27, 26, 18, 21, 18, 20, 25, 25], 'Paris Saint-Germain': [26, 31, 19, 33, 40, 25, 24, 30, 22, 23, 24, 26, 35, 25, 33, 25, 29, 21, 25, 25, 20, 18, 18, 19, 17, 19, 19, 27, 19, 20], 'Parma': [31, 26, 27, 23, 33, 28, 24, 30, 33, 24, 31, 26, 30, 36, 37, 28, 30, 23, 31, 26, 35, 19, 30, 32, 22, 20, 21, 26, 21], 'Patriotas Boyacá FC': [37, 24, 27, 25, 36, 34, 28, 26, 25, 34, 24, 24, 22, 23, 27, 26, 25, 26, 28, 29, 23, 29, 21, 23, 20, 24, 20, 20], 'Patronato': [40, 32, 34, 29, 31, 26, 31, 26, 33, 35, 24, 29, 27, 32, 23, 25, 29, 25, 29, 27, 25, 29, 27, 22, 21, 21, 20, 25], 'Perth Glory': [35, 30, 32, 27, 23, 32, 29, 31, 30, 35, 24, 29, 27, 35, 29, 25, 36, 28, 21, 31, 16, 20, 19, 18, 19], 'Perugia': [25, 31, 26, 25, 24, 30, 25, 29, 26, 30, 19, 21, 25, 25, 18, 20, 23, 24, 19, 18, 19, 20, 21, 23, 17], 'Pescara': [25, 31, 28, 38, 31, 26, 32, 30, 24, 21, 20, 24, 35, 24, 20, 32, 19, 22, 24, 19, 22, 19, 19, 20, 23, 18, 35, 21], 'Peterborough United': [31, 25, 24, 22, 26, 22, 25, 26, 24, 26, 20, 21, 22, 22, 23, 28, 21, 30, 20, 23, 22, 21, 41, 23, 17, 19], 'Philadelphia Union': [29, 27, 33, 31, 24, 27, 27, 29, 22, 25, 26, 32, 33, 21, 28, 19, 27, 19, 25, 26, 24, 24, 29, 23, 18, 23, 18, 20, 23], 'Piast Gliwice': [26, 32, 28, 28, 26, 23, 26, 20, 24, 33, 24, 37, 30, 26, 31, 23, 26, 26, 27, 25, 20, 20, 19, 23, 18, 21, 18], 'Plymouth Argyle': [29, 26, 23, 30, 26, 27, 23, 24, 20, 22, 34, 27, 26, 30, 30, 27, 23, 27, 21, 25, 30, 32, 26, 21, 24, 18, 19, 18], 'Pogoń Szczecin': [30, 28, 30, 23, 32, 26, 31, 25, 36, 28, 25, 23, 21, 24, 22, 27, 23, 22, 24, 18, 27, 19, 20, 21, 17, 23], 'Pohang Steelers': [32, 23, 27, 35, 24, 26, 22, 28, 31, 23, 23, 27, 28, 33, 22, 21, 27, 20, 22, 27, 25, 27, 22, 19, 21, 21, 21], 'Port Vale': [33, 33, 28, 32, 26, 22, 24, 31, 26, 29, 22, 20, 35, 35, 35, 25, 30, 18, 22, 23, 19, 21, 25, 19, 24, 18], 'Portimonense SC': [23, 31, 23, 24, 21, 26, 32, 24, 25, 23, 24, 28, 23, 25, 20, 24, 25, 20, 23, 20, 26, 22, 21, 22, 25, 25, 20], 'Portland Timbers': [32, 30, 32, 28, 30, 28, 33, 23, 28, 25, 23, 26, 24, 29, 26, 33, 33, 20, 28, 21, 32, 27, 23, 19, 20, 23, 21, 24, 24, 22], 'Portsmouth': [21, 23, 30, 22, 19, 22, 30, 22, 30, 27, 27, 27, 25, 27, 27, 21, 26, 24, 21, 22, 26, 21, 25, 20, 20, 18, 18, 17], 'Preston North End': [23, 23, 23, 24, 24, 30, 24, 22, 30, 33, 25, 27, 27, 26, 22, 26, 19, 21, 26, 19, 24, 31, 20, 20, 22, 18, 17, 18, 17], 'Puebla FC': [34, 25, 27, 30, 30, 28, 25, 28, 30, 26, 24, 28, 31, 35, 32, 28, 23, 25, 26, 19, 27, 24, 23, 23, 20, 20, 20, 25, 22, 20], 'Queens Park Rangers': [25, 32, 26, 27, 35, 31, 30, 26, 25, 28, 27, 20, 25, 32, 26, 29, 22, 22, 24, 24, 23, 20, 20, 20, 20, 20, 19, 20, 21, 19], 'Querétaro': [27, 31, 29, 29, 25, 26, 31, 24, 33, 28, 27, 24, 26, 23, 28, 24, 26, 25, 17, 23, 22, 23, 20, 25, 27, 21, 19, 23, 20, 22], 'RB Leipzig': [22, 27, 26, 24, 28, 23, 25, 26, 26, 24, 20, 21, 19, 20, 21, 29, 22, 24, 19, 24, 19, 24, 18, 18, 18, 18, 18, 18], 'RC Celta': [30, 21, 27, 23, 23, 31, 24, 24, 25, 24, 22, 32, 27, 26, 22, 31, 21, 25, 20, 19, 23, 23, 24, 20, 25, 22, 21, 21, 20, 22, 21, 24, 18], 'RC Strasbourg Alsace': [26, 28, 26, 30, 28, 24, 29, 29, 31, 22, 27, 27, 35, 31, 32, 21, 24, 26, 24, 20, 21, 21, 18, 19, 19, 19, 18, 18], 'RCD Espanyol': [36, 24, 28, 25, 30, 35, 30, 29, 32, 25, 23, 21, 32, 29, 29, 29, 29, 20, 20, 21, 21, 20, 22, 19, 21, 20, 20, 18, 18], 'RCD Mallorca': [34, 31, 25, 26, 33, 27, 31, 30, 23, 24, 29, 36, 19, 20, 25, 26, 23, 30, 22, 27, 22, 24, 21, 23, 22, 29, 22, 17], 'RSC Anderlecht': [27, 29, 30, 20, 28, 22, 24, 25, 27, 23, 27, 23, 24, 19, 26, 28, 22, 31, 20, 19, 25, 18, 18, 21, 20, 20, 24, 16], 'Racing Club': [25, 35, 28, 31, 26, 31, 28, 31, 29, 25, 30, 29, 26, 31, 20, 24, 31, 23, 29, 21, 32, 25, 19, 22, 21, 21, 20, 18], 'Racing Club de Lens': [32, 34, 32, 28, 26, 23, 21, 22, 25, 23, 20, 22, 23, 24, 25, 29, 18, 20, 22, 26, 28, 23, 19, 19, 27, 21, 21, 23, 18, 18], 'Randers FC': [24, 21, 23, 36, 26, 27, 23, 30, 24, 26, 25, 29, 27, 21, 20, 24, 24, 18, 25, 21, 20, 21, 17, 25, 19], 'Rangers FC': [36, 22, 30, 26, 26, 29, 25, 38, 27, 30, 28, 21, 31, 21, 25, 21, 30, 20, 22, 21, 25, 23, 26, 21, 20, 18, 19, 20], 'Ranheim Fotball': [30, 26, 22, 26, 27, 28, 23, 24, 38, 27, 20, 26, 24, 23, 24, 30, 24, 20, 21, 23, 22, 22, 19, 20], 'Rayo Vallecano': [30, 26, 26, 27, 23, 29, 24, 24, 25, 33, 22, 25, 27, 25, 28, 27, 32, 31, 24, 25, 35, 21, 36, 26, 20, 18, 18, 17, 19, 19, 18, 19, 17], 'Reading': [25, 25, 24, 26, 26, 30, 29, 25, 37, 21, 32, 29, 23, 22, 31, 26, 24, 22, 21, 25, 29, 28, 24, 32, 22, 31, 26, 19, 21, 17], 'Real Betis': [26, 23, 27, 31, 36, 22, 28, 30, 26, 27, 28, 22, 26, 29, 28, 24, 31, 21, 31, 22, 28, 21, 17, 21, 21, 18, 21], 'Real Madrid': [32, 32, 28, 26, 26, 26, 30, 28, 31, 25, 22, 30, 26, 27, 28, 21, 22, 24, 23, 31, 21, 17, 19, 21, 21, 20, 20, 21, 19, 18, 19, 19, 20], 'Real Oviedo': [32, 28, 27, 29, 30, 30, 27, 29, 29, 33, 32, 28, 24, 32, 24, 35, 23, 24, 25, 22, 20, 20, 20, 21, 26, 19, 20, 21, 19, 22], 'Real Salt Lake': [23, 29, 26, 21, 36, 39, 29, 21, 31, 22, 29, 29, 20, 20, 32, 30, 29, 28, 25, 21, 34, 24, 26, 21, 31, 23, 19, 23, 22, 22], 'Real Sociedad': [28, 26, 21, 26, 34, 23, 24, 20, 31, 25, 24, 30, 22, 22, 26, 25, 21, 24, 22, 23, 23, 21, 21, 21, 21, 22, 20, 23, 18, 19, 18], 'Real Sporting de Gijón': [28, 27, 23, 30, 32, 27, 26, 25, 31, 30, 26, 27, 27, 24, 24, 20, 23, 28, 23, 19, 22, 25, 21, 25, 21, 21, 16, 20, 20, 18], 'Real Valladolid CF': [29, 21, 29, 24, 26, 29, 29, 27, 23, 27, 22, 22, 22, 29, 28, 26, 30, 32, 23, 37, 22, 22, 20, 18, 24, 19, 21, 22, 21, 21], 'Real Zaragoza': [32, 24, 27, 27, 29, 26, 33, 26, 28, 24, 22, 21, 22, 22, 25, 23, 23, 21, 33, 25, 30, 27, 19, 22, 21, 20, 23, 19, 19, 20], 'Red Star FC': [30, 30, 24, 24, 28, 22, 38, 29, 24, 24, 32, 26, 24, 31, 28, 24, 24, 28, 24, 22, 22, 26, 21, 22, 24, 17, 24, 22], 'Rio Ave FC': [30, 34, 24, 20, 25, 21, 23, 23, 25, 25, 22, 28, 30, 22, 24, 23, 22, 23, 24, 24, 22, 21, 23, 22, 21, 21, 29, 20], 'Rionegro Águilas': [28, 22, 30, 24, 24, 29, 30, 31, 33, 31, 30, 28, 21, 32, 27, 25, 26, 29, 26, 25, 32, 26, 20, 23, 24, 21, 20, 20], 'River Plate': [31, 25, 25, 30, 35, 32, 28, 22, 30, 30, 25, 28, 19, 22, 27, 21, 31, 36, 21, 36, 18, 18, 19, 20, 19], 'Rochdale': [23, 33, 36, 26, 24, 22, 22, 22, 31, 21, 29, 22, 38, 24, 31, 21, 29, 26, 25, 22, 21, 26, 18, 16, 19, 21, 17], 'Roma': [27, 32, 34, 27, 29, 29, 32, 31, 31, 25, 29, 34, 22, 23, 27, 20, 22, 27, 28, 21, 23, 19, 20, 18, 19, 18], 'Rosario Central': [33, 31, 30, 30, 27, 27, 30, 25, 21, 33, 32, 24, 28, 25, 21, 34, 19, 30, 24, 22, 20, 20, 19, 24, 21, 21, 20, 20], 'Rosenborg BK': [30, 32, 28, 30, 22, 23, 30, 28, 23, 27, 26, 27, 31, 26, 29, 22, 21, 27, 24, 22, 20, 20, 18, 18, 19, 16], 'Rotherham United': [24, 23, 32, 24, 28, 26, 21, 25, 24, 25, 24, 26, 22, 31, 24, 25, 24, 21, 26, 33, 33, 19, 20, 18, 18, 18], 'Royal Antwerp FC': [32, 32, 29, 32, 23, 34, 28, 24, 25, 21, 29, 24, 22, 27, 22, 26, 26, 29, 20, 21, 20, 26, 23, 31, 24], 'Royal Excel Mouscron': [35, 24, 26, 21, 29, 31, 33, 23, 26, 21, 22, 21, 30, 20, 23, 19, 29, 21, 20, 22, 24, 24, 22, 20, 24, 19, 20, 21], 'SC Braga': [28, 23, 24, 28, 30, 25, 25, 27, 25, 23, 26, 22, 30, 31, 24, 25, 27, 27, 27, 23, 20, 25, 25, 23, 24, 23, 20, 21], 'SC Fortuna Köln': [32, 31, 28, 32, 23, 30, 26, 27, 24, 28, 23, 28, 27, 23, 33, 21, 23, 24, 22, 34, 33, 20, 19, 19, 19, 19], 'SC Freiburg': [29, 26, 24, 25, 27, 30, 28, 24, 27, 22, 31, 25, 23, 21, 22, 28, 21, 22, 28, 27, 25, 22, 21, 21, 23, 24, 20, 19, 21, 21], 'SC Heerenveen': [26, 34, 23, 21, 21, 28, 22, 26, 22, 26, 22, 17, 28, 25, 27, 25, 24, 19, 26, 18, 21, 20, 20, 17, 18, 18, 22], 'SC Paderborn 07': [25, 32, 30, 27, 23, 24, 23, 28, 24, 26, 24, 23, 21, 30, 20, 20, 23, 22, 22, 25, 31, 36, 23, 20, 19, 19, 18, 19, 21, 18], 'SC Preußen Münster': [24, 25, 22, 26, 22, 29, 26, 27, 26, 24, 23, 24, 30, 29, 24, 31, 22, 21, 23, 20, 20, 21, 20, 18, 18, 19, 18], 'SCR Altach': [27, 32, 32, 26, 32, 26, 30, 24, 29, 28, 26, 26, 37, 25, 21, 24, 30, 20, 30, 24, 19, 22, 21, 22, 18, 19], 'SD Eibar': [31, 28, 26, 28, 34, 23, 31, 33, 26, 32, 28, 32, 25, 27, 30, 26, 27, 34, 25, 25, 22, 19, 22, 21, 22, 21, 23, 21, 21], 'SD Huesca': [24, 19, 24, 33, 24, 31, 24, 30, 26, 26, 26, 29, 27, 30, 25, 32, 24, 22, 20, 28, 32, 25, 33, 37, 24, 18, 22, 18, 17, 19], 'SG Dynamo Dresden': [30, 26, 31, 29, 27, 25, 31, 21, 24, 23, 23, 26, 25, 24, 20, 24, 25, 25, 21, 24, 21, 23, 28, 18, 19, 18, 18, 17], 'SG Sonnenhof Großaspach': [30, 22, 30, 32, 26, 29, 23, 23, 24, 28, 20, 26, 23, 22, 23, 25, 22, 22, 25, 22, 22, 24, 22, 19], 'SK Brann': [29, 31, 26, 30, 24, 30, 23, 25, 26, 24, 23, 36, 30, 26, 25, 25, 29, 25, 25, 36, 18, 25, 17, 18, 18, 18, 19], 'SK Rapid Wien': [23, 28, 23, 25, 26, 27, 21, 24, 27, 31, 20, 25, 24, 23, 24, 24, 22, 24, 24, 19, 20, 27, 19, 21, 22, 22, 25], 'SK Slavia Praha': [28, 23, 24, 26, 28, 27, 27, 32, 25, 24, 26, 22, 24, 24, 25, 27, 31, 28, 23, 20, 32, 25, 27, 29, 22, 20, 18, 24], 'SK Sturm Graz': [25, 18, 27, 28, 27, 29, 27, 25, 29, 28, 29, 21, 22, 27, 26, 20, 30, 27, 21, 22, 17, 18, 19, 19, 17], 'SKN St. Pölten': [28, 26, 32, 25, 22, 29, 27, 27, 26, 22, 22, 23, 30, 19, 27, 21, 25, 25, 23, 33, 24, 18, 22, 20, 22, 20, 20], 'SL Benfica': [34, 28, 29, 32, 22, 27, 25, 27, 21, 24, 22, 24, 23, 21, 25, 27, 24, 20, 19, 29, 21, 27, 23, 26, 28, 18, 22, 18], 'SPAL': [24, 26, 28, 23, 33, 24, 33, 29, 32, 32, 36, 31, 31, 23, 32, 22, 21, 23, 24, 22, 21, 21, 30, 22, 20, 30, 20], 'SV Darmstadt 98': [26, 32, 25, 32, 22, 27, 26, 25, 27, 29, 26, 26, 27, 29, 31, 28, 20, 27, 27, 24, 24, 20, 24, 30, 18, 18, 17], 'SV Mattersburg': [24, 30, 31, 32, 23, 29, 30, 25, 31, 21, 21, 30, 26, 28, 29, 26, 24, 24, 24, 22, 28, 22, 29, 24, 18, 18], 'SV Meppen': [24, 32, 27, 31, 24, 27, 32, 22, 28, 31, 29, 21, 27, 24, 29, 29, 26, 22, 24, 30, 21, 23, 28, 22, 20, 19, 20, 18], 'SV Sandhausen': [26, 30, 25, 23, 27, 25, 31, 28, 30, 32, 26, 31, 23, 25, 22, 24, 35, 24, 23, 25, 25, 33, 22, 25, 24, 27, 22, 22, 24], 'SV Wehen Wiesbaden': [29, 26, 30, 27, 29, 26, 28, 28, 36, 23, 28, 27, 22, 24, 22, 20, 25, 22, 23, 22, 20, 22, 21, 20], 'SV Werder Bremen': [26, 30, 25, 29, 21, 31, 24, 30, 29, 31, 22, 28, 22, 31, 25, 39, 38, 24, 24, 27, 27, 20, 22, 20, 20, 21, 18, 20, 19, 21, 18, 18], 'SV Zulte-Waregem': [22, 33, 28, 37, 32, 24, 26, 23, 28, 36, 29, 28, 22, 24, 26, 24, 32, 21, 26, 24, 22, 20, 25, 22, 20, 17], 'Sagan Tosu': [34, 29, 28, 30, 28, 29, 25, 26, 33, 33, 33, 29, 28, 26, 24, 32, 26, 29, 32, 32, 23, 29, 25, 19, 24, 31, 22, 20, 19, 20], 'Sampdoria': [35, 27, 27, 26, 28, 22, 28, 23, 24, 25, 25, 28, 22, 21, 33, 24, 28, 23, 26, 27, 19, 24, 21, 23, 21, 18, 21], 'San Jose Earthquakes': [30, 25, 28, 27, 28, 35, 29, 22, 23, 30, 21, 26, 22, 22, 26, 27, 32, 24, 20, 32, 24, 23, 21, 25, 23, 25], 'San Lorenzo de Almagro': [34, 28, 28, 34, 26, 25, 33, 30, 32, 23, 36, 38, 25, 25, 20, 23, 25, 21, 22, 20, 22, 21, 19, 19, 21, 19, 19, 19], 'San Luis de Quillota': [36, 27, 23, 29, 31, 35, 24, 28, 25, 29, 24, 28, 29, 25, 29, 22, 24, 22, 22, 22, 20, 22, 21, 23, 20, 19, 22, 17], 'San Martin de Tucumán': [34, 37, 30, 25, 33, 26, 30, 33, 29, 21, 26, 26, 27, 25, 28, 32, 22, 23, 26, 22, 21, 26, 25, 28, 26, 20, 21, 20], 'San Martín de San Juan': [36, 35, 30, 27, 31, 28, 24, 36, 30, 25, 26, 30, 23, 32, 27, 23, 33, 21, 23, 26, 24, 37, 25, 31, 25, 24, 28, 18], 'Sandefjord Fotball': [25, 23, 29, 26, 26, 25, 22, 26, 28, 34, 28, 32, 21, 23, 28, 34, 25, 22, 25, 17, 21, 19, 19, 18], 'Sanfrecce Hiroshima': [30, 32, 30, 32, 33, 35, 28, 30, 32, 27, 33, 26, 28, 28, 27, 25, 22, 27, 21, 23, 28, 32, 19, 18, 18, 18], 'Sangju Sangmu FC': [24, 28, 28, 28, 27, 24, 25, 26, 25, 23, 25, 27, 26, 26, 26, 27, 27, 29, 25, 24, 28, 27, 26, 26, 26, 27, 24, 25], 'Santa Clara': [25, 24, 30, 26, 27, 31, 22, 25, 30, 22, 22, 34, 22, 24, 26, 23, 34, 35, 37, 25, 22, 27, 33, 24, 22, 21], 'Santos': [30, 30, 26, 26, 30, 26, 30, 34, 30, 34, 26, 26, 30, 26, 34, 34, 34, 26, 34, 26], 'Santos Laguna': [30, 32, 28, 24, 32, 23, 24, 27, 33, 24, 28, 26, 23, 28, 22, 25, 20, 29, 22, 19, 22, 31, 27, 20, 20, 20], 'Sarpsborg 08 FF': [23, 23, 29, 27, 28, 30, 28, 31, 26, 30, 30, 26, 32, 26, 19, 25, 22, 26, 23, 24, 24, 19, 20, 19, 16, 18], 'Sassuolo': [31, 31, 23, 24, 26, 25, 20, 22, 25, 22, 33, 26, 20, 33, 25, 22, 34, 37, 26, 21, 20, 20, 18, 24, 22, 19, 19], 'Scunthorpe United': [26, 21, 25, 36, 23, 32, 26, 27, 29, 26, 31, 22, 21, 22, 22, 20, 19, 23, 22, 21, 23, 21, 22, 21, 19, 18, 17], 'Seattle Sounders FC': [29, 27, 32, 31, 28, 23, 33, 32, 32, 28, 23, 28, 28, 21, 27, 24, 26, 31, 25, 19, 24, 25, 21, 28, 22, 26, 19], 'Sevilla FC': [30, 26, 29, 27, 26, 29, 29, 27, 32, 22, 29, 31, 28, 31, 26, 29, 28, 21, 29, 25, 21, 24, 20, 21, 22, 18, 18, 20, 20, 20], 'Shakhtar Donetsk': [30, 30, 28, 28, 28, 34, 31, 25, 27, 27, 27, 22, 25, 29, 26, 25, 25, 20, 23, 25, 26, 22, 19, 25, 19, 21, 17, 22], 'Shamrock Rovers': [22, 36, 21, 32, 30, 25, 22, 24, 29, 26, 22, 24, 28, 20, 23, 21, 19, 17, 18, 21, 20, 19], 'Shandong Luneng TaiShan FC': [31, 33, 21, 31, 30, 29, 25, 25, 28, 26, 33, 32, 30, 25, 33, 25, 24, 23, 25, 31, 28, 25, 23, 21, 23, 22, 23], 'Shanghai Greenland Shenhua FC': [32, 32, 25, 33, 28, 27, 31, 35, 26, 31, 27, 30, 29, 35, 27, 28, 29, 22, 29, 30, 19, 32, 21, 22, 17, 27, 21], 'Shanghai SIPG FC': [26, 31, 28, 26, 30, 27, 28, 29, 31, 25, 29, 24, 25, 25, 20, 25, 24, 25, 20, 28, 22, 21, 21, 21, 20, 20, 21, 19], 'Sheffield United': [27, 24, 26, 27, 21, 25, 29, 32, 33, 29, 32, 30, 30, 31, 24, 26, 32, 18, 29, 27, 28, 25, 26, 21, 21, 19, 19, 22, 17, 18], 'Sheffield Wednesday': [28, 30, 33, 25, 28, 27, 28, 30, 21, 25, 31, 27, 25, 33, 24, 32, 31, 28, 29, 24, 32, 22, 22, 26, 24, 21, 20, 21, 19, 19], 'Shimizu S-Pulse': [30, 34, 23, 26, 21, 29, 28, 25, 21, 29, 31, 33, 29, 28, 27, 27, 27, 30, 26, 23, 20, 34, 23, 22, 19, 35, 19, 18, 18, 37], 'Shonan Bellmare': [27, 34, 30, 31, 38, 29, 26, 31, 25, 26, 26, 23, 28, 24, 19, 25, 23, 28, 23, 19, 24, 29, 26, 28, 22, 19, 23, 19, 24, 19], 'Shrewsbury': [33, 30, 31, 20, 21, 26, 21, 22, 23, 27, 31, 23, 25, 22, 22, 29, 23, 24, 21, 25, 22, 28, 18, 19, 16, 17, 17], 'Sint-Truidense VV': [27, 21, 31, 25, 21, 19, 25, 29, 24, 21, 32, 31, 24, 25, 23, 23, 23, 23, 22, 29, 26, 24, 22, 24, 22, 21, 26, 17], 'Sivasspor': [34, 31, 28, 28, 33, 30, 27, 26, 27, 32, 30, 26, 29, 25, 27, 30, 32, 28, 23, 25, 23, 24, 20, 18, 18, 19, 18], 'Sligo Rovers': [25, 26, 24, 23, 21, 26, 26, 22, 22, 21, 18, 22, 36, 19, 18, 19, 18, 17, 18], 'Southampton': [25, 23, 28, 24, 26, 23, 26, 28, 28, 26, 25, 22, 30, 24, 26, 24, 29, 24, 33, 31, 22, 22, 22, 22, 17, 23, 19, 18, 19, 19, 19, 19, 17], 'Southend United': [32, 28, 30, 34, 26, 27, 29, 26, 31, 24, 27, 26, 31, 18, 29, 25, 23, 21, 23, 22, 21, 21, 19, 22, 20, 18, 19, 20], 'SpVgg Greuther Fürth': [28, 34, 29, 33, 28, 22, 25, 21, 23, 24, 28, 24, 27, 20, 23, 23, 19, 21, 19, 20, 18, 22, 22, 23, 22, 21, 18, 19], 'SpVgg Unterhaching': [28, 29, 24, 29, 27, 28, 29, 21, 26, 21, 28, 20, 27, 26, 21, 23, 24, 23, 21, 21, 39, 18, 19, 18, 19, 18], 'Sparta Praha': [27, 25, 28, 27, 26, 28, 22, 30, 26, 29, 27, 32, 24, 26, 21, 25, 25, 29, 37, 20, 21, 27, 22, 27, 22, 18, 20, 27], 'Spartak Moscow': [24, 27, 24, 26, 31, 24, 30, 27, 31, 33, 24, 25, 31, 24, 27, 34, 34, 23, 24, 31, 24, 25, 20, 21, 20, 20, 19], 'Spezia': [28, 34, 29, 28, 30, 24, 32, 26, 20, 26, 28, 24, 22, 30, 22, 24, 28, 33, 23, 20, 24, 19, 20, 21, 23, 23, 20, 19], 'Sport Club do Recife': [30, 34, 26, 34, 26, 30, 26, 30, 30, 34, 34, 26, 34, 30, 34, 26, 30, 30, 30, 30], 'Sporting CP': [23, 29, 27, 32, 31, 34, 26, 21, 26, 26, 28, 29, 28, 20, 28, 26, 30, 29, 27, 25, 24, 20, 25, 29, 33, 24, 21, 25, 19, 19], 'Sporting Kansas City': [27, 29, 28, 32, 31, 27, 27, 31, 31, 28, 21, 25, 24, 29, 29, 26, 31, 25, 33, 25, 22, 22, 18, 19, 23, 23, 23], 'Sporting Lokeren': [28, 25, 37, 23, 28, 31, 32, 30, 21, 22, 28, 24, 26, 19, 31, 26, 26, 26, 27, 31, 26, 20, 20, 22, 20, 20, 18, 17], 'Sporting de Charleroi': [24, 37, 25, 29, 34, 30, 33, 22, 24, 25, 23, 19, 27, 30, 23, 22, 27, 21, 28, 29, 29, 22, 23, 18, 21, 20, 20, 16], 'St. Johnstone FC': [24, 30, 25, 31, 30, 32, 31, 26, 25, 23, 32, 29, 18, 28, 21, 26, 23, 23, 23, 24, 22, 22, 21, 21, 19, 18, 22], 'St. Mirren': [30, 33, 22, 29, 26, 32, 22, 27, 19, 20, 29, 24, 32, 23, 31, 21, 25, 24, 26, 22, 25, 26, 19, 22, 17, 19, 21], \"St. Patrick's Athletic\": [30, 21, 29, 29, 32, 34, 21, 33, 25, 28, 20, 21, 29, 23, 26, 28, 29, 20, 26, 17, 19, 18, 19], 'Stabæk Fotball': [24, 24, 23, 22, 30, 31, 21, 27, 18, 20, 23, 22, 24, 20, 26, 31, 19, 20, 19, 23, 19, 19, 17, 19, 17, 20, 18], 'Stade Brestois 29': [29, 31, 31, 31, 21, 27, 24, 28, 23, 28, 31, 24, 25, 25, 30, 23, 24, 25, 24, 19, 21, 24, 20, 20, 22], 'Stade Malherbe Caen': [29, 30, 23, 30, 23, 23, 25, 30, 26, 23, 26, 25, 29, 26, 29, 24, 21, 24, 29, 26, 25, 26, 24, 20, 31, 20, 20, 19], 'Stade Rennais FC': [31, 27, 30, 24, 27, 23, 20, 25, 29, 23, 26, 32, 21, 28, 24, 31, 26, 22, 22, 22, 26, 21, 19, 22, 19, 22, 21], 'Stade de Reims': [22, 23, 27, 34, 23, 26, 30, 28, 30, 23, 27, 27, 30, 21, 27, 30, 21, 21, 30, 23, 22, 24, 20, 22, 21, 21, 20, 21, 18], 'Standard de Liège': [29, 32, 22, 26, 24, 25, 26, 30, 26, 25, 22, 28, 21, 27, 25, 20, 30, 39, 24, 22, 18, 22, 26, 30, 21, 19, 19, 20], 'Stevenage': [31, 31, 27, 25, 33, 26, 35, 21, 24, 34, 27, 28, 22, 19, 20, 20, 34, 20, 23, 21, 22, 22, 19, 16, 18, 20, 17, 18], 'Stoke City': [25, 28, 27, 26, 30, 26, 29, 32, 30, 22, 33, 26, 27, 37, 25, 33, 24, 24, 34, 29, 28, 32, 26, 19, 18, 18, 20, 19, 21, 19], 'Strømsgodset IF': [25, 28, 24, 24, 29, 29, 22, 29, 32, 26, 26, 29, 24, 28, 26, 22, 33, 23, 21, 19, 17, 19, 20, 19], 'Sunderland': [32, 29, 28, 30, 26, 24, 22, 25, 24, 31, 34, 29, 25, 24, 25, 26, 25, 23, 19, 23, 21, 21, 23, 21, 19, 16, 18, 20], 'Suwon Samsung Bluewings': [27, 35, 35, 26, 36, 30, 28, 24, 27, 26, 29, 25, 29, 29, 35, 24, 26, 19, 26, 32, 34, 18, 25, 28, 22, 24, 18], 'Swansea City': [29, 28, 27, 28, 25, 29, 29, 29, 26, 33, 21, 23, 22, 30, 23, 30, 24, 20, 22, 20, 22, 19, 20, 19, 22, 21, 18, 22, 20, 22], 'Swindon Town': [25, 31, 23, 34, 29, 35, 22, 24, 30, 28, 36, 21, 22, 23, 31, 19, 22, 22, 19, 20, 20, 18, 18, 18, 19, 18], 'Sydney FC': [33, 29, 33, 25, 27, 29, 24, 27, 31, 34, 21, 29, 29, 25, 21, 22, 20, 23, 21, 21, 21, 20, 17, 18, 16], 'SønderjyskE': [28, 33, 32, 28, 25, 32, 28, 29, 25, 21, 26, 20, 24, 28, 33, 35, 28, 27, 21, 21, 22, 23, 20, 18, 20, 18, 17], 'TSG 1899 Hoffenheim': [28, 27, 26, 24, 26, 25, 24, 28, 21, 25, 22, 27, 28, 26, 28, 26, 30, 21, 23, 24, 23, 20, 18, 20, 23, 21, 20, 34, 19, 19, 18, 20, 18], 'TSV 1860 München': [27, 28, 27, 25, 24, 33, 24, 25, 21, 23, 25, 24, 21, 26, 33, 27, 23, 25, 26, 22, 28, 21, 22, 23, 19, 19], 'TSV Hartberg': [28, 28, 22, 21, 28, 28, 24, 28, 23, 24, 31, 21, 25, 20, 23, 23, 29, 21, 22, 26, 21, 19, 23, 21, 18, 17], 'Tianjin Quanjian FC': [28, 28, 26, 32, 31, 30, 32, 28, 31, 25, 29, 23, 24, 29, 37, 25, 25, 22, 23, 20, 20, 21, 21, 21, 26, 21], 'Tianjin TEDA FC': [24, 30, 28, 27, 29, 36, 29, 25, 24, 31, 25, 30, 31, 29, 29, 23, 32, 24, 23, 22, 22, 21, 25, 21, 20, 21, 27, 20], 'Tiburones Rojos de Veracruz': [27, 28, 30, 29, 23, 29, 26, 26, 33, 36, 35, 28, 33, 23, 30, 31, 31, 26, 31, 26, 21, 23, 21, 21, 20, 20, 18, 19], 'Tigres U.A.N.L.': [32, 28, 32, 28, 29, 28, 28, 25, 31, 26, 29, 31, 27, 26, 30, 21, 22, 28, 21, 30, 19, 19, 21, 23, 20, 25, 20, 20, 20, 21], 'Torino': [24, 31, 27, 28, 28, 26, 31, 30, 27, 24, 26, 22, 30, 37, 25, 21, 21, 21, 21, 35, 22, 21, 19, 26, 17, 19], 'Toronto FC': [31, 31, 28, 30, 30, 23, 27, 34, 26, 30, 22, 23, 24, 25, 25, 22, 29, 24, 30, 27, 31, 34, 21, 24, 20, 18, 19, 17], 'Tottenham Hotspur': [24, 26, 31, 31, 29, 22, 22, 25, 25, 30, 27, 25, 26, 27, 24, 25, 27, 28, 22, 34, 33, 23, 24, 26, 20, 21, 21, 18, 17, 21, 19, 20, 19], 'Toulouse Football Club': [27, 30, 30, 29, 20, 24, 32, 20, 25, 20, 22, 30, 25, 23, 28, 25, 33, 24, 26, 23, 20, 26, 27, 19, 19, 18, 16, 17, 17, 19, 19], 'Trabzonspor': [32, 30, 31, 33, 21, 25, 31, 34, 32, 28, 19, 29, 26, 28, 29, 26, 30, 29, 28, 24, 23, 21, 24, 22, 20, 19, 19, 22], 'Tranmere Rovers': [27, 34, 27, 32, 25, 25, 31, 29, 31, 20, 24, 23, 27, 23, 27, 25, 26, 31, 23, 19, 20, 19, 20, 20, 18, 17, 16], 'Trelleborgs FF': [31, 31, 23, 27, 34, 29, 21, 27, 32, 25, 25, 25, 21, 22, 19, 21, 21, 37, 19, 23, 24, 19, 23, 20, 18, 19, 19], 'Tromsø IL': [27, 27, 36, 25, 23, 25, 25, 27, 21, 22, 23, 23, 32, 26, 22, 21, 18, 18, 17, 18], 'U.N.A.M.': [25, 34, 29, 24, 23, 30, 31, 28, 25, 28, 26, 30, 24, 24, 21, 21, 19, 22, 22, 24, 23, 23, 21, 22, 20, 20, 19, 20, 18], 'UD Almería': [34, 27, 25, 25, 27, 23, 20, 26, 27, 27, 33, 32, 20, 23, 22, 30, 26, 26, 28, 30, 24, 22, 23, 23, 20, 20, 22, 21, 21, 22], 'UD Las Palmas': [37, 28, 30, 28, 27, 32, 26, 33, 36, 27, 33, 30, 30, 33, 25, 29, 28, 27, 24, 35, 21, 29, 24, 23, 21, 22, 20, 20, 21], 'US Cremonese': [31, 33, 28, 32, 35, 30, 22, 30, 31, 30, 31, 25, 30, 27, 30, 23, 29, 18, 22, 21, 28, 33, 20, 22, 21], 'US Orléans Loiret Football': [35, 31, 34, 31, 25, 27, 33, 34, 22, 24, 22, 22, 26, 23, 30, 23, 22, 21, 19, 20, 25, 28, 22, 19, 19], 'US Salernitana 1919': [34, 25, 30, 30, 27, 24, 31, 32, 26, 28, 23, 28, 22, 29, 27, 29, 27, 28, 21, 31, 22, 26, 21, 23, 28, 18, 21, 22], 'Udinese': [24, 25, 23, 33, 27, 23, 25, 27, 21, 21, 28, 22, 24, 23, 27, 24, 27, 22, 20, 27, 20, 21, 30, 24, 20, 20, 19, 19, 21, 20], 'Ulsan Hyundai FC': [23, 27, 31, 27, 27, 29, 33, 30, 24, 28, 32, 31, 21, 24, 38, 23, 26, 32, 30, 31, 28, 28, 23, 25, 20, 19, 25, 20], 'Universidad Católica': [30, 33, 31, 31, 32, 33, 23, 22, 25, 31, 25, 22, 24, 28, 21, 26, 21, 21, 19, 18, 22, 19, 20, 17, 21, 20, 18, 18], 'Universidad de Chile': [29, 34, 32, 38, 37, 24, 28, 21, 32, 30, 26, 34, 27, 29, 28, 27, 33, 23, 28, 21, 20, 28, 25, 19, 21, 19, 19, 19], 'Unión Española': [26, 26, 29, 31, 27, 23, 25, 27, 31, 31, 25, 27, 23, 22, 26, 30, 18, 21, 19, 17, 27, 20, 24, 18, 19, 17, 17, 18], 'Unión La Calera': [26, 32, 33, 25, 31, 26, 27, 28, 25, 32, 22, 20, 27, 33, 22, 36, 25, 29, 36, 30, 19, 19, 19, 18, 24, 19, 22], 'Unión de Santa Fe': [29, 26, 23, 26, 25, 33, 39, 28, 29, 25, 24, 23, 25, 21, 28, 25, 22, 26, 24, 20, 21, 18, 20, 19, 22, 22, 22, 18], 'Urawa Red Diamonds': [28, 26, 31, 32, 31, 30, 27, 24, 25, 28, 36, 30, 29, 26, 27, 27, 32, 32, 19, 34, 29, 25, 35, 27, 18, 21, 22], 'V-Varen Nagasaki': [29, 27, 24, 24, 27, 24, 27, 34, 23, 25, 34, 24, 27, 29, 32, 28, 25, 25, 33, 34, 27, 25, 33, 20, 29, 22, 23, 24, 17, 22], 'VVV-Venlo': [27, 26, 34, 27, 29, 26, 26, 25, 28, 32, 29, 22, 20, 22, 20, 28, 23, 21, 27, 16, 21, 17, 18, 18, 16, 17], 'Valencia CF': [29, 27, 28, 21, 25, 27, 31, 29, 21, 22, 23, 24, 26, 31, 27, 24, 27, 21, 25, 27, 20, 20, 18, 17, 20, 21, 18, 18, 18, 21, 18, 19, 18], 'Valenciennes FC': [28, 30, 34, 37, 24, 32, 29, 29, 24, 33, 24, 25, 18, 29, 34, 21, 24, 20, 20, 22, 23, 23, 22, 25, 19, 18, 18, 21, 19], 'Vancouver Whitecaps FC': [33, 30, 27, 17, 26, 24, 26, 26, 30, 26, 30, 27, 25, 23, 24, 33, 25, 31, 26, 28, 25, 29, 27, 21, 25, 23, 18], 'Vegalta Sendai': [31, 28, 28, 24, 25, 33, 32, 28, 30, 27, 30, 23, 32, 24, 21, 21, 32, 26, 32, 27, 23, 33, 36, 20, 21, 27, 19], 'Vejle Boldklub': [24, 22, 29, 22, 21, 21, 26, 22, 26, 18, 25, 24, 28, 22, 24, 22, 22, 21, 19, 23, 21, 21, 19, 22, 18, 21, 16], 'Vendsyssel FF': [27, 29, 27, 29, 23, 26, 27, 20, 27, 28, 32, 22, 23, 24, 22, 22, 21, 23, 26, 19, 20, 28, 23, 23, 21, 18, 23], 'Venezia FC': [32, 25, 38, 30, 27, 33, 36, 27, 29, 33, 29, 23, 24, 28, 28, 23, 21, 24, 22, 33, 26, 31, 21, 21, 19, 20, 19, 17], 'VfB Stuttgart': [22, 28, 32, 29, 21, 20, 31, 32, 22, 29, 23, 31, 23, 31, 23, 21, 20, 20, 20, 29, 32, 24, 27, 19, 17, 19], 'VfL Bochum 1848': [32, 29, 27, 30, 26, 33, 31, 29, 25, 23, 29, 29, 26, 22, 30, 29, 24, 24, 20, 20, 21, 20, 23, 19, 19, 19], 'VfL Osnabrück': [26, 21, 32, 25, 29, 26, 27, 29, 31, 26, 20, 25, 32, 28, 20, 22, 25, 20, 21, 19, 18, 26, 20, 18, 19, 18], 'VfL Sportfreunde Lotte': [27, 28, 27, 29, 25, 28, 28, 23, 26, 29, 27, 21, 30, 21, 23, 24, 21, 23, 21, 21, 22, 22, 20, 21, 19, 20, 22, 21], 'VfL Wolfsburg': [26, 28, 25, 25, 27, 25, 24, 27, 26, 27, 25, 20, 20, 26, 25, 26, 24, 23, 34, 32, 25, 28, 20, 23, 23, 19, 30, 20, 18, 21, 19, 19], 'VfR Aalen': [32, 31, 27, 33, 29, 26, 28, 24, 22, 24, 23, 23, 23, 25, 20, 21, 23, 22, 19, 19, 19, 18, 19, 18], 'Viktoria Plzeň': [34, 34, 25, 32, 34, 28, 26, 30, 30, 29, 32, 29, 28, 35, 23, 28, 26, 23, 22, 29, 30, 23, 20, 21], 'Villarreal CF': [29, 26, 26, 29, 22, 31, 27, 34, 33, 25, 30, 28, 34, 30, 27, 33, 31, 26, 37, 22, 22, 34, 21, 19, 22, 22, 19, 20, 22, 26, 21, 23], 'Vissel Kobe': [34, 33, 27, 30, 29, 30, 30, 32, 29, 28, 21, 23, 27, 26, 24, 31, 24, 28, 31, 29, 20, 36, 19, 36, 35, 22, 23, 22, 20, 19], 'Vitesse': [21, 28, 29, 35, 19, 23, 29, 26, 27, 29, 26, 30, 22, 26, 34, 24, 20, 22, 28, 19, 33, 20, 20, 20, 18, 20, 20, 17], 'Vitória': [34, 26, 30, 26, 34, 34, 30, 26, 26, 34, 26, 34, 30, 26, 34, 26, 26, 30, 34, 34], 'Vitória Guimarães': [35, 28, 25, 25, 28, 23, 25, 24, 26, 27, 23, 26, 25, 24, 23, 28, 26, 25, 25, 21, 23, 24, 23, 21, 19, 23, 21, 24, 24, 23], 'Vitória de Setúbal': [25, 31, 25, 29, 31, 31, 26, 22, 31, 26, 23, 33, 23, 27, 21, 26, 27, 31, 21, 26, 24, 22, 27, 20, 23, 22, 20, 18], 'Vålerenga Fotball': [26, 30, 25, 28, 28, 27, 24, 30, 33, 23, 32, 20, 23, 29, 22, 20, 20, 22, 19, 19, 17, 17, 17, 18, 17, 17], 'Vélez Sarsfield': [21, 31, 24, 26, 39, 24, 22, 21, 20, 21, 28, 27, 30, 21, 29, 31, 21, 20, 19, 22, 23, 17, 20, 19, 17, 18, 20, 19], 'Waasland-Beveren': [24, 22, 24, 26, 22, 23, 24, 27, 22, 24, 19, 25, 24, 26, 21, 23, 23, 21, 22, 21, 22, 29, 19, 19, 20, 19, 20, 19], 'Walsall': [32, 20, 25, 24, 27, 24, 20, 23, 21, 20, 23, 27, 24, 25, 20, 23, 22, 37, 18, 20, 30, 34, 20, 30, 18, 19, 17], 'Waterford FC': [29, 31, 24, 20, 22, 26, 30, 33, 31, 26, 22, 29, 20, 22, 21, 21, 20, 21, 29, 23, 21, 19, 21, 18, 18], 'Watford': [25, 24, 27, 34, 37, 23, 28, 28, 23, 27, 27, 27, 29, 32, 24, 32, 31, 31, 28, 22, 22, 21, 24, 19, 18, 18, 18, 20, 20], 'Wellington Phoenix': [30, 32, 29, 19, 27, 26, 29, 30, 24, 30, 26, 36, 23, 22, 25, 22, 17, 28, 24, 18, 16], 'West Bromwich Albion': [28, 28, 27, 27, 28, 27, 25, 28, 36, 27, 20, 33, 32, 37, 30, 35, 21, 29, 20, 25, 20, 35, 19, 20, 25, 18, 22, 17, 18, 17], 'West Ham United': [25, 29, 25, 33, 26, 28, 26, 30, 29, 30, 29, 32, 26, 29, 21, 30, 31, 28, 33, 28, 24, 25, 19, 19, 21, 20, 22, 20, 19, 19, 20, 18], 'Western Sydney Wanderers': [31, 25, 31, 26, 28, 32, 30, 31, 26, 23, 25, 21, 26, 20, 32, 22, 20, 23, 21, 19, 17, 17, 19, 18, 19], 'Wigan Athletic': [24, 24, 30, 26, 26, 26, 23, 22, 26, 26, 29, 26, 30, 27, 21, 20, 20, 18, 25, 19, 30, 33, 34, 26, 29, 18, 21, 21, 19, 17], 'Willem II': [26, 28, 21, 25, 29, 31, 24, 27, 24, 20, 22, 24, 25, 25, 28, 21, 18, 21, 25, 19, 20, 19, 18, 19, 19, 19, 18, 20], 'Wisła Kraków': [27, 38, 29, 23, 27, 29, 20, 29, 34, 29, 35, 25, 26, 26, 21, 24, 23, 22, 23, 21, 17, 18, 18, 16, 19, 18], 'Wisła Płock': [30, 25, 25, 23, 28, 31, 24, 27, 22, 24, 22, 34, 25, 22, 22, 28, 23, 22, 23, 22, 33, 17, 20, 18, 19, 18], 'Wolfsberger AC': [32, 29, 24, 25, 28, 27, 28, 31, 28, 22, 30, 33, 31, 26, 24, 27, 24, 23, 21, 20, 19, 18, 20, 16, 17, 17], 'Wolverhampton Wanderers': [30, 31, 21, 24, 21, 23, 27, 27, 24, 24, 22, 26, 25, 28, 24, 28, 31, 23, 22, 18, 24, 19, 25, 18, 19, 20, 20, 19, 20, 18, 18, 17, 18], 'Wycombe Wanderers': [21, 33, 22, 31, 36, 30, 21, 25, 25, 34, 23, 22, 34, 30, 36, 26, 22, 34, 27, 22, 32, 24, 34, 19, 22], 'Yeni Malatyaspor': [31, 28, 27, 30, 28, 27, 31, 29, 27, 30, 25, 24, 28, 26, 28, 27, 33, 25, 27, 31, 21, 21, 23, 20, 22, 19, 21, 26, 23, 18], 'Yeovil Town': [22, 22, 33, 34, 29, 22, 23, 21, 22, 36, 30, 28, 19, 20, 31, 21, 23, 20, 20, 22, 22, 23, 23, 21, 18, 17, 17, 40], 'Yokohama F. Marinos': [28, 29, 29, 23, 23, 26, 28, 25, 20, 32, 26, 32, 25, 17, 26, 22, 29, 24, 40, 21, 23, 34, 19, 18, 20, 20, 18, 18, 25, 31], 'Zagłębie Lubin': [31, 27, 25, 25, 26, 26, 35, 29, 28, 31, 25, 27, 31, 33, 23, 22, 31, 20, 24, 28, 26, 21, 22, 20, 19, 19, 20], 'Zagłębie Sosnowiec': [24, 32, 36, 26, 30, 31, 23, 31, 31, 26, 31, 29, 26, 32, 25, 22, 24, 26, 25, 28, 21, 20, 18, 21, 18], 'Çaykur Rizespor': [23, 25, 30, 29, 29, 34, 25, 29, 25, 22, 24, 28, 26, 30, 26, 29, 24, 23, 31, 24, 24, 26, 28, 20, 22, 20, 26, 20, 22, 19], 'Örebro SK': [27, 27, 34, 29, 30, 26, 33, 25, 29, 30, 21, 29, 23, 28, 28, 19, 21, 22, 20, 20, 20, 22, 16, 18, 19, 17, 16], 'Östersunds FK': [23, 24, 28, 26, 25, 24, 21, 22, 31, 25, 22, 24, 29, 22, 27, 26, 22, 20, 22, 19, 19, 24], 'Śląsk Wrocław': [35, 33, 29, 33, 26, 30, 25, 32, 33, 29, 28, 26, 26, 32, 20, 21, 22, 25, 23, 20, 16, 21, 21, 22]}\n",
      "[33, 24, 33, 27, 27, 31, 28, 31, 28, 31, 31, 25, 30, 32, 37, 24, 23, 24, 24, 25, 25, 21, 18, 28, 19]\n"
     ]
    },
    {
     "ename": "KeyError",
     "evalue": "'Age'",
     "output_type": "error",
     "traceback": [
      "\u001b[0;31m---------------------------------------------------------------------------\u001b[0m",
      "\u001b[0;31mKeyError\u001b[0m                                  Traceback (most recent call last)",
      "Cell \u001b[0;32mIn[170], line 12\u001b[0m\n\u001b[1;32m      9\u001b[0m \u001b[38;5;28mprint\u001b[39m(clubsAges)\n\u001b[1;32m     10\u001b[0m \u001b[38;5;28mprint\u001b[39m(clubsAges[\u001b[38;5;124m'\u001b[39m\u001b[38;5;124mJuventus\u001b[39m\u001b[38;5;124m'\u001b[39m])\n\u001b[0;32m---> 12\u001b[0m list_of_clubs_ages \u001b[38;5;241m=\u001b[39m \u001b[43mclubsAges\u001b[49m\u001b[43m[\u001b[49m\u001b[38;5;124;43m'\u001b[39;49m\u001b[38;5;124;43mAge\u001b[39;49m\u001b[38;5;124;43m'\u001b[39;49m\u001b[43m]\u001b[49m\u001b[38;5;241m.\u001b[39mtolist()\n\u001b[1;32m     16\u001b[0m \u001b[38;5;28;01mfor\u001b[39;00m club \u001b[38;5;129;01min\u001b[39;00m clubsAges[\u001b[38;5;124m'\u001b[39m\u001b[38;5;124mClub\u001b[39m\u001b[38;5;124m'\u001b[39m]:\n\u001b[1;32m     17\u001b[0m     \u001b[38;5;28mprint\u001b[39m(\u001b[38;5;124mf\u001b[39m\u001b[38;5;124m\"\u001b[39m\u001b[38;5;132;01m{\u001b[39;00mclub\u001b[38;5;132;01m}\u001b[39;00m\u001b[38;5;124m player ages:\u001b[39m\u001b[38;5;124m\"\u001b[39m, clubsAges[clubsAges[\u001b[38;5;124m'\u001b[39m\u001b[38;5;124mClub\u001b[39m\u001b[38;5;124m'\u001b[39m] \u001b[38;5;241m==\u001b[39m club][\u001b[38;5;124m'\u001b[39m\u001b[38;5;124mAge\u001b[39m\u001b[38;5;124m'\u001b[39m]\u001b[38;5;241m.\u001b[39mvalues[\u001b[38;5;241m0\u001b[39m])\n",
      "\u001b[0;31mKeyError\u001b[0m: 'Age'"
     ]
    }
   ],
   "source": [
    "#Extract the Age of players from each team - we will use these values in our chart\n",
    "\n",
    "#Add the results to a list named clubsAges\n",
    "\n",
    "#clubsAges = df.groupby('Club')['Age'].apply(list).reset_index(name='Ages') WRONG\n",
    "#clubsAges = df.groupby('Club')['Age'].apply(list).to_dict()\n",
    "\n",
    "##print(clubsAges)\n",
    "#print(clubsAges['Juventus'])\n",
    "\n",
    "##list_of_clubs_ages = clubsAges['Age'].tolist()\n",
    "\n",
    "\n",
    "#for club in clubsAges['Club']:\n",
    "    #print(f\"{club} player ages:\", clubsAges[clubsAges['Club'] == club]['Age'].values[0])\n"
   ]
  },
  {
   "cell_type": "markdown",
   "metadata": {},
   "source": [
    "#### Fomatted Box and Whisker Chart"
   ]
  },
  {
   "cell_type": "code",
   "execution_count": 174,
   "metadata": {},
   "outputs": [
    {
     "data": {
      "image/png": "[encoded data removed]",
      "text/plain": [
       "<Figure size 1000x800 with 1 Axes>"
      ]
     },
     "metadata": {},
     "output_type": "display_data"
    }
   ],
   "source": [
    "import matplotlib.pyplot as plt\n",
    "\n",
    "# Extract the Ages of Players from each specified team\n",
    "juventus_ages = df.loc[df.Club == \"Juventus\"]['Age']\n",
    "man_city_ages = df.loc[df.Club == \"Manchester City\"]['Age']\n",
    "man_united_ages = df.loc[df.Club == \"Manchester United\"]['Age']\n",
    "derry_city_ages = df.loc[df.Club == \"Derry City\"]['Age']\n",
    "\n",
    "# Add the results to a list\n",
    "clubs_ages = [juventus_ages, man_city_ages, man_united_ages, derry_city_ages]\n",
    "\n",
    "# Define the labels for the boxplot\n",
    "labels = ['Juventus', 'Manchester City', 'Manchester United', 'Derry City']\n",
    "\n",
    "# Set the chart size\n",
    "plt.figure(figsize=(10, 8))\n",
    "\n",
    "# Provide a meaningful title and y label\n",
    "plt.title('Age Distribution of Players in Selected Teams')\n",
    "plt.ylabel('Age')\n",
    "\n",
    "# Create the boxplot with a custom box color\n",
    "plt.boxplot(clubs_ages, labels=labels, patch_artist=True,\n",
    "            boxprops=dict(facecolor='cyan', color='blue'))\n",
    "\n",
    "# Show the plot\n",
    "plt.show()\n"
   ]
  },
  {
   "cell_type": "code",
   "execution_count": 182,
   "metadata": {},
   "outputs": [
    {
     "data": {
      "image/png": "[encoded data removed]",
      "text/plain": [
       "<Figure size 1000x800 with 1 Axes>"
      ]
     },
     "metadata": {},
     "output_type": "display_data"
    }
   ],
   "source": [
    "#Create the Box & Whisker Chart\n",
    "plt.figure(figsize=(10,8), dpi=100)\n",
    "\n",
    "plt.style.use('default')\n",
    "\n",
    "#specify the labels for each segment - make sure that they match the order of the clubs list\n",
    "labels = ['Juventus', 'Manchester City', 'Manchester United', 'Derry City']\n",
    "\n",
    "#Plot the chart using required parameters\n",
    "#patch_artist is a facecolour\n",
    "bp = plt.boxplot(clubsAge, labels=labels, patch_artist=True, medianprops={'linewidth': 2})\n",
    "\n",
    "plt.title('Age Distribution of Players in Selected Teams')\n",
    "plt.ylabel('Age')\n",
    "\n",
    "#We can style the boxes\n",
    "for box in bp['boxes']:\n",
    "    # change outline color\n",
    "    box.set(color='#4286f4', linewidth=2)\n",
    "    # change fill color to grey - but you must set patch_artist property to True - see above\n",
    "    box.set(facecolor = '#e0e0e0' )\n",
    "    # change hatch\n",
    "    #box.set(hatch = '/')\n",
    "    \n",
    "plt.show()\n"
   ]
  },
  {
   "cell_type": "code",
   "execution_count": null,
   "metadata": {},
   "outputs": [],
   "source": []
  }
 ],
 "metadata": {
  "kernelspec": {
   "display_name": "Python 3 (ipykernel)",
   "language": "python",
   "name": "python3"
  },
  "language_info": {
   "codemirror_mode": {
    "name": "ipython",
    "version": 3
   },
   "file_extension": ".py",
   "mimetype": "text/x-python",
   "name": "python",
   "nbconvert_exporter": "python",
   "pygments_lexer": "ipython3",
   "version": "3.10.12"
  }
 },
 "nbformat": 4,
 "nbformat_minor": 4
}
