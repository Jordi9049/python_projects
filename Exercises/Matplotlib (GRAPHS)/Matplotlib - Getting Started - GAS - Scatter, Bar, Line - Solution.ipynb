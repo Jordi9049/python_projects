{
 "cells": [
  {
   "cell_type": "markdown",
   "metadata": {},
   "source": [
    "# Real World Examples - Scatter, Bar & Line Charts - Solution\n",
    "Keith Galli task - Line graphs based on video https://www.youtube.com/watch?v=0P7QnIQDBJY&feature=youtu.be  \n",
    "Scatter, Bar, Line Graphs - other sources used throughout"
   ]
  },
  {
   "cell_type": "markdown",
   "metadata": {},
   "source": [
    "THIS VERSION OF THE NOTEBOOK REFERENCES THE DATAFRAME **df**"
   ]
  },
  {
   "cell_type": "markdown",
   "metadata": {},
   "source": [
    "#### Load the Libraries"
   ]
  },
  {
   "cell_type": "code",
   "execution_count": null,
   "metadata": {},
   "outputs": [],
   "source": [
    "#Load Necessary Libraries\n",
    "import numpy as np\n",
    "import pandas as pd\n",
    "\n",
    "#This is a library for creating graphs - \n",
    "    #sometimes additional libraries are also needed\n",
    "    #& matplotlib is not the only option for creating graphs\n",
    "import matplotlib.pyplot as plt\n"
   ]
  },
  {
   "cell_type": "markdown",
   "metadata": {},
   "source": [
    "## Cleaning the Data\n",
    "\n",
    "Before creating any of the charts below, you should check the datasets for null values."
   ]
  },
  {
   "cell_type": "markdown",
   "metadata": {},
   "source": [
    "#### Cleaning the Gas Prices Dataset"
   ]
  },
  {
   "cell_type": "code",
   "execution_count": null,
   "metadata": {},
   "outputs": [],
   "source": [
    "#Read in the df_prices file\n",
    "df = pd.read_csv('gas_prices.csv')\n",
    "\n",
    "#Examine the DataFrame - it provides df prices for 10 countries over an 18 year period\n",
    "df"
   ]
  },
  {
   "cell_type": "code",
   "execution_count": null,
   "metadata": {},
   "outputs": [],
   "source": [
    "#get the shape of the dataframe. It is quite small\n",
    "df.shape"
   ]
  },
  {
   "cell_type": "code",
   "execution_count": null,
   "metadata": {},
   "outputs": [],
   "source": [
    "#count the number of null values in the dataframe\n",
    "df.isna().sum()"
   ]
  },
  {
   "cell_type": "code",
   "execution_count": null,
   "metadata": {},
   "outputs": [],
   "source": [
    "#get the precise location of the null value - in the Australia column\n",
    "df[df['Australia'].isnull()]"
   ]
  },
  {
   "cell_type": "code",
   "execution_count": null,
   "metadata": {},
   "outputs": [],
   "source": [
    "#As this is the first row in our dataframe - this simplest thing might be to delete the row\n",
    "df = df.dropna(how='any', subset=['Australia'])\n",
    "df['Australia'].isna().sum()"
   ]
  },
  {
   "cell_type": "code",
   "execution_count": null,
   "metadata": {},
   "outputs": [],
   "source": [
    "#Get the shape of the DataFrame again\n",
    "df.shape"
   ]
  },
  {
   "cell_type": "markdown",
   "metadata": {},
   "source": [
    "## Creating Charts  \n"
   ]
  },
  {
   "cell_type": "markdown",
   "metadata": {},
   "source": [
    "### Line Graph showing Prices"
   ]
  },
  {
   "cell_type": "markdown",
   "metadata": {},
   "source": [
    "#### Display the Dataset"
   ]
  },
  {
   "cell_type": "code",
   "execution_count": null,
   "metadata": {},
   "outputs": [],
   "source": [
    "#Examine the dataframe \n",
    "df"
   ]
  },
  {
   "cell_type": "markdown",
   "metadata": {},
   "source": [
    "#### Very Basic Line Graph"
   ]
  },
  {
   "cell_type": "code",
   "execution_count": null,
   "metadata": {},
   "outputs": [],
   "source": [
    "#This code will extract the year and the price for the USA from the dataframe\n",
    "plt.plot(df.Year, df.USA)\n",
    "#This code will extract the year and the price for Canada from the dataframe\n",
    "plt.plot(df.Year, df.Canada)\n",
    "#This code will extract the year and the price for Australia from the dataframe\n",
    "plt.plot(df.Year, df.Australia)\n",
    "\n",
    "#If your column names have more than one word you will have to use the following format:\n",
    "plt.plot(df['Year'], df['South Korea'])\n",
    "\n",
    "#This code with show the chart \n",
    "plt.show()"
   ]
  },
  {
   "cell_type": "markdown",
   "metadata": {},
   "source": [
    "#### More Detailed Line Graph\n",
    "  \n",
    "The graph above provides a very poor visual representation of the data. It has no title, and there are no labels on the axis. There is no legend to tell us which line is which. The x axis values are hard to read. We will address these issues below:\n"
   ]
  },
  {
   "cell_type": "code",
   "execution_count": null,
   "metadata": {},
   "outputs": [],
   "source": [
    "#You can control the size of your chart\n",
    "plt.figure(figsize=(8,5))\n",
    "\n",
    "#ou can add a title with formatting using a font dictionary\n",
    "plt.title('df Prices over Time (in USD)', fontdict={'fontweight':'bold', 'fontsize': 18})\n",
    "\n",
    "#This code uses short hand notation to format the style and colour of the lines in the chart\n",
    "#We can change the labels on our individual lines if we want to make them more meaningful than the default column names\n",
    "plt.plot(df.Year, df.USA, 'b.-', label='United States')\n",
    "plt.plot(df.Year, df.Canada, 'r.-', label='Canada')\n",
    "plt.plot(df.Year, df['South Korea'], 'g.-', label='South Korea')\n",
    "plt.plot(df.Year, df.Australia, 'y.-',label='Australia' )\n",
    "\n",
    "#This code controls how the values on the x are displayed - the ticks indicate 3 year intervals\n",
    "plt.xticks(df.Year[::3].tolist())\n",
    "\n",
    "#Although our records stop at 2008 - we might want more space at the edge of our chart - so we can add another tick interval\n",
    "#plt.xticks(df.Year[::3].tolist()+[2009])\n",
    "\n",
    "#Add labels to the x and y axis\n",
    "plt.xlabel('Year')\n",
    "plt.ylabel('US Dollars')\n",
    "\n",
    "#Add a legend to the chart - this may not work if you have not added labels to the lines (Like we did above)\n",
    "plt.legend()\n",
    "\n",
    "#Save the chart as a separate image\n",
    "#plt.savefig('Gas_price_figure.png', dpi=300)\n",
    "\n",
    "#display the chart within the notebook\n",
    "plt.show()"
   ]
  },
  {
   "cell_type": "markdown",
   "metadata": {},
   "source": [
    "####  An Alternative Way to Display Many Values in a Line Chart\n",
    "Look at the FOR loop section"
   ]
  },
  {
   "cell_type": "code",
   "execution_count": null,
   "metadata": {},
   "outputs": [],
   "source": [
    "#This code - produces the same chart as the code above.\n",
    "#You may find the code above easier to understand.\n",
    "\n",
    "#You can control the size of your chart\n",
    "plt.figure(figsize=(8,5))\n",
    "\n",
    "#You can add a title with formatting by using a font dictionary\n",
    "plt.title('Gas Prices over Time (in USD)', fontdict={'fontweight':'bold', 'fontsize': 18})\n",
    "\n",
    "# Another Way to plot many values!\n",
    "countries_to_look_at = ['Australia', 'USA', 'Canada', 'South Korea']\n",
    "counter =0\n",
    "for country in df:                       #For each item in the dataframe\n",
    "    if country in countries_to_look_at:   #If the item is in the dataframe appears in the list of countries_to_look_at\n",
    "        counter+=1\n",
    "        plt.plot(df.Year, df[country], marker='.', label=country)   #Plot the line - Set the label equal to country\n",
    "\n",
    "        \n",
    "#This code controls how the values on the x are displayed - the ticks indicate 3 year intervals\n",
    "#Although our records stop at 2008 - we might want more space at the edge of our chart - so we can add another tick interval\n",
    "plt.xticks(df.Year[::3].tolist()+[2009])\n",
    "\n",
    "#Add labels to the x and y axis\n",
    "plt.xlabel('Year')\n",
    "plt.ylabel('US Dollars')\n",
    "\n",
    "#Add a legend to the chart - this may not work if you have not added labels to the lines (Like we did above)\n",
    "plt.legend()\n",
    "\n",
    "#Save the chart as a separate image\n",
    "#plt.savefig('Gas_price_figure.png', dpi=300)\n",
    "\n",
    "#display the chart within the notebook\n",
    "plt.show()"
   ]
  },
  {
   "cell_type": "markdown",
   "metadata": {},
   "source": [
    "## TASKS"
   ]
  },
  {
   "cell_type": "markdown",
   "metadata": {},
   "source": [
    "### 1 Create a Detailed Line Graph  to Show the Gas Prices for Germany, Italy,  Mexico, UK and Japan\n",
    "   \n",
    "* Make the size of the chart 16 * 8 \n",
    "* Provide a meaningful title at font size 16\n",
    "* Use 2 year intervals\n",
    "* Use a Circle marker - google 'matplotlib markers' or check out this link: https://matplotlib.org/stable/api/markers_api.html\n",
    "* Rotate the labels in the x axis 45 degrees - google 'matplotlib rotate x axis labels' or check out this link: https://www.geeksforgeeks.org/how-to-rotate-x-axis-tick-label-text-in-matplotlib/"
   ]
  },
  {
   "cell_type": "code",
   "execution_count": null,
   "metadata": {},
   "outputs": [],
   "source": [
    "##Detailed Line Chart\n",
    "\n",
    "#You can control the size of your chart\n",
    "plt.figure(figsize=(16,8))\n",
    "\n",
    "#You can add a title with formatting by using a font dictionary\n",
    "plt.title('Gas Prices over Time (in USD)', fontdict={'fontweight':'bold', 'fontsize': 18})\n",
    "\n",
    "# Another Way to plot many values!\n",
    "countries_to_look_at = ['Germany', 'Italy', 'Mexico', 'UK', 'Japan']\n",
    "counter =0\n",
    "for country in df:                       #For each item in the dataframe\n",
    "    if country in countries_to_look_at:   #If the item is in the dataframe appears in the list of countries_to_look_at\n",
    "        counter+=1\n",
    "        plt.plot(df.Year, df[country], marker='o', label=country)   #Plot the line - Set the label equal to country\n",
    "\n",
    "        \n",
    "#This code controls how the values on the x are displayed - the ticks indicate 3 year intervals\n",
    "#Although our records stop at 2008 - we might want more space at the edge of our chart - so we can add another tick interval\n",
    "plt.xticks(df.Year[::2].tolist()+[2009], rotation=45)\n",
    "\n",
    "#Add labels to the x and y axis\n",
    "plt.xlabel('Year')\n",
    "plt.ylabel('US Dollars')\n",
    "\n",
    "#Add a legend to the chart - this may not work if you have not added labels to the lines (Like we did above)\n",
    "plt.legend()\n",
    "\n",
    "#Save the chart as a separate image\n",
    "#plt.savefig('Gas_price_figure.png', dpi=300)\n",
    "\n",
    "#display the chart within the notebook\n",
    "plt.show()"
   ]
  },
  {
   "cell_type": "markdown",
   "metadata": {},
   "source": [
    "### 2 Create a Basic Scatterplot\n",
    "\n",
    "This link will help: https://www.earthdatascience.org/courses/scientists-guide-to-plotting-data-in-python/plot-with-matplotlib/introduction-to-matplotlib-plots/customize-plot-colors-labels-matplotlib/    \n",
    "\n",
    "* Make the size of the chart 16 * 6 \n",
    "* Show the Gas Prices for Germany - Look at the section: **Create Different Types of Matplotlib Plots: Scatter and Bar Plots**\n",
    "Test that your chart works before doing the the next steps\n",
    "* Provide a meaningful title, and labels on the x and y axis - Look at the section: **Customize Plot Title and Axes Labels**\n",
    "* Use a pixel marker, a color cyan, an edgecolor darkblue, and an alpha value of 0.3 - Look at the section: **Custom Markers in Line and Scatter Plots**\n",
    "* Use 1 year intervals - Look at previous example\n",
    "* Rotate the labels in the x axis 45 degrees - Look at previous example"
   ]
  },
  {
   "cell_type": "code",
   "execution_count": null,
   "metadata": {},
   "outputs": [],
   "source": [
    "#Basic Chart\n",
    "\n",
    "# Define plot space\n",
    "fig, ax = plt.subplots(figsize=(16, 6))\n",
    "\n",
    "# Define x and y axes\n",
    "ax.scatter(df.Year, \n",
    "        df.Germany,\n",
    "        #marker = ',',\n",
    "        color='cyan',\n",
    "        #edgecolor='darkblue',\n",
    "        alpha=0.3)\n",
    "\n",
    "ax.scatter(df.Year, \n",
    "        df.Italy,\n",
    "        #marker = ',',\n",
    "        color='yellow',\n",
    "        #edgecolor='darkblue',\n",
    "        alpha=0.3)\n",
    "\n",
    "# Set plot title and axes labels\n",
    "ax.set(title = \"Gas Prices Over Time in USD\",\n",
    "       xlabel = \"Year\",\n",
    "       ylabel = \"Price\\n(USD)\")\n",
    "\n",
    "#format the ticks to 1 year intervals\n",
    "plt.xticks(df.Year[::1].tolist()+[2009], rotation=45)\n",
    "\n",
    "#display the chart within the notebook\n",
    "plt.show()"
   ]
  },
  {
   "cell_type": "markdown",
   "metadata": {},
   "source": [
    "Modify the chart above so that it is a Bar Plot (change ax.scatter to ax.bar) - you will get an error, because a Bar Plot does not use a marker. Comment out that code."
   ]
  },
  {
   "cell_type": "markdown",
   "metadata": {},
   "source": [
    "Modify the chart above so that it is a Line Plot (change ax.bar to ax.plot) - you will be able to include the marker value again, but you will get an error because a Line Plot does not use an edgecolor. Comment out that code."
   ]
  },
  {
   "cell_type": "markdown",
   "metadata": {},
   "source": [
    "Change your chart back to a scatterplot \n",
    "* Add another country - Italy and set the color to yellow \n",
    "* View the data as bar plot  \n",
    "* View the data as a line plot"
   ]
  },
  {
   "cell_type": "markdown",
   "metadata": {},
   "source": [
    "### Using Calculations in the Charts\n",
    "\n",
    "In the Scatter Plot, Line Chart and Bar Chart example, directly above, we were plotting the results of one column (year) against another (prices for a country).\n",
    "\n",
    "More times than not we want to do more than simply extract data from the dataset. Quite often we want to perform calculations on the data (some basic, some quite complex) and then represent the results of those calculations in graphical format. \n",
    "\n",
    "Before creating the following charts calculate the mean price of gas for Germany, for Australia, for Canada and for the USA, rounding each of the averages to 1 decimal place."
   ]
  },
  {
   "cell_type": "code",
   "execution_count": null,
   "metadata": {},
   "outputs": [],
   "source": [
    "#Calculating average Gas Price in each of the Countries - you could also do max, min, median\n",
    "avgG = round(df['Germany'].mean(), 1)\n",
    "avgA = round(df['Australia'].mean(), 1)\n",
    "avgC = round(df['Canada'].mean(), 1)\n",
    "avgU = round(df['USA'].mean(), 1)"
   ]
  },
  {
   "cell_type": "code",
   "execution_count": null,
   "metadata": {},
   "outputs": [],
   "source": [
    "#Assign your results to a new list\n",
    "averages = [avgG, avgA, avgC, avgU]\n",
    "averages"
   ]
  },
  {
   "cell_type": "code",
   "execution_count": null,
   "metadata": {},
   "outputs": [],
   "source": [
    "#Assign the countries to a list\n",
    "countries = ['Germany', 'Australia', 'Canada', 'USA']\n",
    "countries"
   ]
  },
  {
   "cell_type": "markdown",
   "metadata": {},
   "source": [
    "### 3 Create a Basic Bar Chart with Calculations\n",
    "Ensure that the code in the 3 cells above has been executed first  \n",
    "\n",
    "Again, this link, or the code above, will help: https://www.earthdatascience.org/courses/scientists-guide-to-plotting-data-in-python/plot-with-matplotlib/introduction-to-matplotlib-plots/customize-plot-colors-labels-matplotlib/"
   ]
  },
  {
   "cell_type": "code",
   "execution_count": null,
   "metadata": {},
   "outputs": [],
   "source": [
    "#Basic Chart\n",
    "\n",
    "# Define plot space\n",
    "fig, ax = plt.subplots(figsize=(16, 6))\n",
    "\n",
    "# Define x and y axes\n",
    "ax.bar(countries, \n",
    "        averages,\n",
    "        #marker = ',',\n",
    "        color='cyan',\n",
    "        #edgecolor='darkblue',\n",
    "        alpha=0.3)\n",
    "\n",
    "# Set plot title and axes labels\n",
    "ax.set(title = \"Average Gas Prices Between 1991 and 2008 in USD\",\n",
    "       xlabel = \"Country\",\n",
    "       ylabel = \"Price\\n(USD)\")\n",
    "\n",
    "plt.xticks(countries, rotation=45)\n",
    "\n",
    "#If you want to extend the ticks try either of the following methods\n",
    "#Manually specifying the ticks\n",
    "#ax.set_yticks([0,1,2,3,4,5])\n",
    "\n",
    "#Or\n",
    "#extend the existing values you are using\n",
    "plt.ylim([0, max(averages)+1])\n",
    "\n",
    "plt.show()"
   ]
  },
  {
   "cell_type": "markdown",
   "metadata": {},
   "source": [
    "As you know, in programming there are a variety of ways of doing the same things. Below, there is some slightly different code for a bar chart obtained from the following link  \n",
    "https://pythonspot.com/matplotlib-bar-chart/"
   ]
  },
  {
   "cell_type": "code",
   "execution_count": null,
   "metadata": {},
   "outputs": [],
   "source": [
    "#set the chart size\n",
    "plt.figure(figsize=(10,8), dpi=100)\n",
    "\n",
    "#create the bars\n",
    "plt.bar(countries, averages, alpha=0.5, color='pink')\n",
    "#set the ticks\n",
    "plt.xticks(countries)\n",
    "#set the labels\n",
    "plt.xlabel('Country')\n",
    "plt.ylabel('Price')\n",
    "#set the title\n",
    "plt.title('Average Gas Prices Between 1991 and 2008 in USD')\n",
    "\n",
    "\n",
    "plt.show()"
   ]
  },
  {
   "cell_type": "markdown",
   "metadata": {},
   "source": [
    "Change the chart directly above to a scatter plot and then a line plot. If there are error messages address them."
   ]
  },
  {
   "cell_type": "markdown",
   "metadata": {},
   "source": [
    "### 4 Annotating a Bar Chart  - Reproduce the Bar Chart Above\n",
    "\n",
    "Annotations on charts need the **seaborn** library and an additional matplotlib library.\n",
    "\n",
    "Use the following link to get code for a bar chart that has annotations. \n",
    "\n",
    "https://www.geeksforgeeks.org/how-to-annotate-bars-in-barplot-with-matplotlib-in-python/\n",
    "  "
   ]
  },
  {
   "cell_type": "code",
   "execution_count": null,
   "metadata": {},
   "outputs": [],
   "source": [
    "#It is good practise to keep all of the libraries that you need at the top of your Notebook, \n",
    "  #but for this demonstration we will keep them here\n",
    "import seaborn as sns\n",
    "import matplotlib.pyplot as plt"
   ]
  },
  {
   "cell_type": "code",
   "execution_count": null,
   "metadata": {},
   "outputs": [],
   "source": [
    "# Creating our own dataframe\n",
    "data = {\"Countries\": countries,\n",
    "        \"Averages\": averages}\n",
    " \n",
    "# Now convert this dictionary type data into a pandas dataframe\n",
    "# specifying what are the column names\n",
    "temp_df = pd.DataFrame(data, columns=['Countries', 'Averages'])\n",
    " \n",
    " \n",
    "# Defining the plot size\n",
    "plt.figure(figsize=(8, 8))\n",
    " \n",
    "# Defining the values for x-axis, y-axis\n",
    "# and from which dataframe the values are to be picked\n",
    "plots = sns.barplot(x=\"Countries\", y=\"Averages\", data=temp_df)\n",
    " \n",
    "# Iterating over the bars one-by-one\n",
    "for bar in plots.patches:\n",
    "   \n",
    "  # Using Matplotlib's annotate function and\n",
    "  # passing the coordinates where the annotation shall be done\n",
    "  # x-coordinate: bar.get_x() + bar.get_width() / 2\n",
    "  # y-coordinate: bar.get_height()\n",
    "  # free space to be left to make graph pleasing: (0, 8)\n",
    "  # ha and va stand for the horizontal and vertical alignment\n",
    "  plots.annotate(format(bar.get_height(), '.2f'), \n",
    "                   (bar.get_x() + bar.get_width() / 2, \n",
    "                    bar.get_height()), ha='center', va='center',\n",
    "                   size=15, xytext=(0, 8),\n",
    "                   textcoords='offset points')\n",
    " \n",
    "# Setting the label for x-axis\n",
    "plt.xlabel(\"Countries\", size=14)\n",
    " \n",
    "# Setting the label for y-axis\n",
    "plt.ylabel(\"Averages\", size=14)\n",
    " \n",
    "# Setting the title for the graph\n",
    "plt.title(\"This is an annotated barplot\")\n",
    " \n",
    "# Finally showing the plot\n",
    "plt.show()"
   ]
  },
  {
   "cell_type": "markdown",
   "metadata": {},
   "source": [
    "### 5 Extra Example Using Annotated Bar Chart: Bar Chart showing Gas Prices in 1995"
   ]
  },
  {
   "cell_type": "code",
   "execution_count": null,
   "metadata": {},
   "outputs": [],
   "source": [
    "#Filter the record with the prices for 1995 - the results are in a DataFrame\n",
    "pricesList = df.loc[df['Year'] == 1995]\n",
    "\n",
    "#Convert the results to a list\n",
    "pricesList = pricesList.values.tolist()[0]\n",
    "\n",
    "#Re-save the list without the Year\n",
    "pricesList = pricesList[1:]\n",
    "pricesList"
   ]
  },
  {
   "cell_type": "code",
   "execution_count": null,
   "metadata": {},
   "outputs": [],
   "source": [
    "#Get the DataFrames columns and convert the results to a list\n",
    "countriesList = df.columns.values.tolist()\n",
    "\n",
    "#Re-save the list without the Year\n",
    "countriesList = countriesList[1:]\n",
    "countriesList"
   ]
  },
  {
   "cell_type": "code",
   "execution_count": null,
   "metadata": {},
   "outputs": [],
   "source": [
    "#Create the Bar Chart\n",
    "\n",
    "# Defining the plot size\n",
    "plt.figure(figsize=(12, 8))\n",
    "\n",
    "\n",
    "# Creating our own dataframe\n",
    "data = {\"CountriesList\": countriesList,\n",
    "        \"PricesList\": pricesList}\n",
    " \n",
    "# Now convert this dictionary type data into a pandas dataframe\n",
    "# specifying what are the column names\n",
    "temp_df = pd.DataFrame(data, columns=['CountriesList', 'PricesList'])\n",
    " \n",
    " \n",
    "# Defining the values for x-axis, y-axis\n",
    "# and from which dataframe the values are to be picked\n",
    "plots = sns.barplot(x=\"CountriesList\", y=\"PricesList\", data=temp_df)\n",
    "\n",
    "# Iterrating over the bars one-by-one to annotate\n",
    "for bar in plots.patches:\n",
    "  # Using Matplotlib's annotate function and passing the coordinates where the annotation shall be done\n",
    "  # x-coordinate: bar.get_x() + bar.get_width() / 2\n",
    "  # y-coordinate: bar.get_height()\n",
    "  # free space to be left to make graph pleasing: (0, 8)\n",
    "  # ha and va stand for the horizontal and vertical alignment\n",
    "    plots.annotate(format(bar.get_height(), '.2f'), (bar.get_x() + bar.get_width() / 2, bar.get_height()), ha = 'center', va = 'center', \n",
    "                   size=15,xytext = (0, 8), \n",
    "                   textcoords = 'offset points')\n",
    "\n",
    "# Setting the label for x-axis    \n",
    "plt.xlabel(\"Countries\", size=14)\n",
    "# Setting the label for y-axis\n",
    "plt.ylabel(\"Prices\\nUSD\", size=14)\n",
    "# Setting the title for the graph\n",
    "plt.title(\"Gas Prices 1995\")\n",
    "# Fianlly showing the plot\n",
    "plt.show()"
   ]
  },
  {
   "cell_type": "code",
   "execution_count": null,
   "metadata": {},
   "outputs": [],
   "source": []
  },
  {
   "cell_type": "code",
   "execution_count": null,
   "metadata": {},
   "outputs": [],
   "source": []
  }
 ],
 "metadata": {
  "kernelspec": {
   "display_name": "Python 3 (ipykernel)",
   "language": "python",
   "name": "python3"
  },
  "language_info": {
   "codemirror_mode": {
    "name": "ipython",
    "version": 3
   },
   "file_extension": ".py",
   "mimetype": "text/x-python",
   "name": "python",
   "nbconvert_exporter": "python",
   "pygments_lexer": "ipython3",
   "version": "3.11.7"
  }
 },
 "nbformat": 4,
 "nbformat_minor": 4
}
